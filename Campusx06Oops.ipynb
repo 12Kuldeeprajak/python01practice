{
  "nbformat": 4,
  "nbformat_minor": 0,
  "metadata": {
    "colab": {
      "provenance": []
    },
    "kernelspec": {
      "name": "python3",
      "display_name": "Python 3"
    },
    "language_info": {
      "name": "python"
    }
  },
  "cells": [
    {
      "cell_type": "markdown",
      "source": [
        "## OOPS IN PYTHON\n",
        "__ _\n",
        "\n",
        "\n",
        "\n"
      ],
      "metadata": {
        "id": "rmYeFXDStBIv"
      }
    },
    {
      "cell_type": "markdown",
      "source": [
        "The term \"Oops\" in Python stands for \"Object-Oriented Programming.\" It is a programming paradigm that focuses on the concept of objects and classes. Object-Oriented Programming allows you to create reusable and modular code by organizing data and behavior into objects.\n",
        "\n",
        "To understand the full concept of OOP in Python, we'll cover the following fundamental concepts:\n",
        "\n",
        "1. Classes and Objects:\n",
        "   - A class is a blueprint or template for creating objects. It defines the properties and behaviors that objects of that class will have.\n",
        "   - An object is an instance of a class. It represents a specific entity or concept based on the class blueprint.\n",
        "\n",
        "2. Encapsulation:\n",
        "   - Encapsulation is the process of wrapping data (variables) and methods (functions) together within a class.\n",
        "   - It allows you to control the accessibility of class members by using access modifiers such as public, private, and protected.\n",
        "\n",
        "3. Inheritance:\n",
        "   - Inheritance is a mechanism that allows a class to inherit properties and methods from another class, known as the parent or base class.\n",
        "   - The derived class (also called a subclass or child class) extends or adds new functionalities to the base class.\n",
        "\n",
        "4. Polymorphism:\n",
        "   - Polymorphism means the ability of an object to take on many forms or have multiple behaviors.\n",
        "   - It allows you to define methods with the same name but different implementations in different classes. The appropriate method is called based on the object type during runtime.\n",
        "\n",
        "5. Abstraction:\n",
        "   - Abstraction is the process of hiding the internal details and complexities of an object, providing only essential information and functionality to the outside world.\n",
        "   - Abstract classes and interfaces are used to achieve abstraction in Python.\n",
        "\n",
        "Here's an example code snippet that demonstrates the concepts mentioned above:\n",
        "\n",
        "```python\n",
        "# Define a class\n",
        "class Shape:\n",
        "    def __init__(self, color):\n",
        "        self.color = color\n",
        "\n",
        "    def area(self):\n",
        "        pass\n",
        "\n",
        "    def display_color(self):\n",
        "        print(f\"The color of the shape is {self.color}\")\n",
        "\n",
        "\n",
        "# Inheritance: Circle is a subclass of Shape\n",
        "class Circle(Shape):\n",
        "    def __init__(self, color, radius):\n",
        "        super().__init__(color)\n",
        "        self.radius = radius\n",
        "\n",
        "    def area(self):\n",
        "        return 3.14 * self.radius ** 2\n",
        "\n",
        "\n",
        "# Inheritance: Rectangle is a subclass of Shape\n",
        "class Rectangle(Shape):\n",
        "    def __init__(self, color, length, width):\n",
        "        super().__init__(color)\n",
        "        self.length = length\n",
        "        self.width = width\n",
        "\n",
        "    def area(self):\n",
        "        return self.length * self.width\n",
        "\n",
        "\n",
        "# Create objects\n",
        "circle = Circle(\"Red\", 5)\n",
        "rectangle = Rectangle(\"Blue\", 4, 6)\n",
        "\n",
        "# Access object properties and methods\n",
        "circle.display_color()\n",
        "print(\"Circle Area:\", circle.area())\n",
        "\n",
        "rectangle.display_color()\n",
        "print(\"Rectangle Area:\", rectangle.area())\n",
        "```\n",
        "\n",
        "In the example above, we define a `Shape` class as a base class with an `area()` method and a `display_color()` method. The `Circle` and `Rectangle` classes inherit from the `Shape` class and provide their own implementations of the `area()` method. Each class has its own constructor (`__init__()` method) to initialize the specific attributes. Finally, we create objects of the `Circle` and `Rectangle` classes and access their properties and methods.\n",
        "\n",
        "This example demonstrates the core concepts of OOP in Python: classes, objects, inheritance, polymorphism, and encapsulation. By utilizing these concepts effectively, you can write more modular, maintainable, and reusable code."
      ],
      "metadata": {
        "id": "Lh1e7uPvsy-p"
      }
    },
    {
      "cell_type": "code",
      "execution_count": null,
      "metadata": {
        "id": "LRMWtXV-sk2V"
      },
      "outputs": [],
      "source": [
        "#Here we crearte a atm macind code using oops concept\n"
      ]
    },
    {
      "cell_type": "code",
      "source": [
        "class Atm:\n",
        "  def __init__(self):\n",
        "    self.pin = ''\n",
        "    self.balance = 0\n",
        "    self.menu()\n",
        "\n",
        "  def menu(self):\n",
        "    inp = input(\"\"\"\n",
        "    Haw can i help you \n",
        "    press 1 to creat pin \n",
        "    press 2 to change pin\n",
        "    press 3 to check balance\n",
        "    press 4 to withdrow\n",
        "    press 5 to exit\n",
        "    \"\"\")\n",
        "\n",
        "    if inp == '1':\n",
        "      self.creat_pin()\n",
        "    elif inp == '2':\n",
        "      self.change_pin()\n",
        "    elif inp == '3' :\n",
        "      self.chek_balance()\n",
        "    elif inp == '4' :\n",
        "      self.withdraw()\n",
        "    else:\n",
        "      exit()\n",
        "\n",
        "  def creat_pin(self):\n",
        "    user_pin = input(\"Please enter the new pin\")\n",
        "    self.pin = user_pin\n",
        "\n",
        "    user_balance = int(input('Enter balance '))\n",
        "    self.balance = user_balance \n",
        "    print('pin created succesfully')\n",
        "    self.menu()\n",
        "  def change_pin(self):\n",
        "    old_pin = input(\"Énter old pin \")\n",
        "    if old_pin  == self.pin:\n",
        "      newpin = input('Enter nuw pin ')\n",
        "      self.pin = newpin\n",
        "      print('change succesful')\n",
        "      self.menu()\n",
        "    else:\n",
        "      print('Incorrect password')\n",
        "\n",
        "  def chek_balance(self):\n",
        "    user_pin = input('enter the pin')\n",
        "    if user_pin == self.pin:\n",
        "      print('your balance is ', self.balance)\n",
        "    else:\n",
        "      print('incorrect password')\n",
        "    self.menu()\n",
        "\n",
        "  def withdraw(self):\n",
        "    userip = input('enter the password')\n",
        "    amount = (input('Enter the amount'))\n",
        "    if userip == self.pin:\n",
        "\n",
        "      if userip <= self.balance :\n",
        "        self.balance = self.balance - amount\n",
        "      else:\n",
        "        print(\"low balance\")\n",
        "    else:\n",
        "      print('incorrect pin')\n",
        "\n",
        "    self.menu()\n",
        "    \n",
        "    \n",
        "\n",
        "\n",
        "    \n"
      ],
      "metadata": {
        "id": "o5qlW2lwuRuR"
      },
      "execution_count": null,
      "outputs": []
    },
    {
      "cell_type": "code",
      "source": [
        "obj = Atm()\n"
      ],
      "metadata": {
        "colab": {
          "base_uri": "https://localhost:8080/",
          "height": 677
        },
        "id": "DuZz3w0dvhYe",
        "outputId": "2d3d4a24-bba6-459a-b9b1-742939281174"
      },
      "execution_count": null,
      "outputs": [
        {
          "name": "stdout",
          "output_type": "stream",
          "text": [
            "\n",
            "    Haw can i help you \n",
            "    press 1 to creat pin \n",
            "    press 2 to change pin\n",
            "    press 3 to check balance\n",
            "    press 4 to withdrow\n",
            "    press 5 to exit\n",
            "    1\n",
            "Please enter the new pin1212\n",
            "Enter balance 10000\n",
            "pin created succesfully\n",
            "\n",
            "    Haw can i help you \n",
            "    press 1 to creat pin \n",
            "    press 2 to change pin\n",
            "    press 3 to check balance\n",
            "    press 4 to withdrow\n",
            "    press 5 to exit\n",
            "    4\n",
            "enter the password1212\n",
            "Enter the amount500\n"
          ]
        },
        {
          "output_type": "error",
          "ename": "TypeError",
          "evalue": "ignored",
          "traceback": [
            "\u001b[0;31m---------------------------------------------------------------------------\u001b[0m",
            "\u001b[0;31mTypeError\u001b[0m                                 Traceback (most recent call last)",
            "\u001b[0;32m<ipython-input-5-f58a19b5e7a4>\u001b[0m in \u001b[0;36m<cell line: 1>\u001b[0;34m()\u001b[0m\n\u001b[0;32m----> 1\u001b[0;31m \u001b[0mobj\u001b[0m \u001b[0;34m=\u001b[0m \u001b[0mAtm\u001b[0m\u001b[0;34m(\u001b[0m\u001b[0;34m)\u001b[0m\u001b[0;34m\u001b[0m\u001b[0;34m\u001b[0m\u001b[0m\n\u001b[0m",
            "\u001b[0;32m<ipython-input-4-02552c89e6fc>\u001b[0m in \u001b[0;36m__init__\u001b[0;34m(self)\u001b[0m\n\u001b[1;32m      3\u001b[0m     \u001b[0mself\u001b[0m\u001b[0;34m.\u001b[0m\u001b[0mpin\u001b[0m \u001b[0;34m=\u001b[0m \u001b[0;34m''\u001b[0m\u001b[0;34m\u001b[0m\u001b[0;34m\u001b[0m\u001b[0m\n\u001b[1;32m      4\u001b[0m     \u001b[0mself\u001b[0m\u001b[0;34m.\u001b[0m\u001b[0mbalance\u001b[0m \u001b[0;34m=\u001b[0m \u001b[0;36m0\u001b[0m\u001b[0;34m\u001b[0m\u001b[0;34m\u001b[0m\u001b[0m\n\u001b[0;32m----> 5\u001b[0;31m     \u001b[0mself\u001b[0m\u001b[0;34m.\u001b[0m\u001b[0mmenu\u001b[0m\u001b[0;34m(\u001b[0m\u001b[0;34m)\u001b[0m\u001b[0;34m\u001b[0m\u001b[0;34m\u001b[0m\u001b[0m\n\u001b[0m\u001b[1;32m      6\u001b[0m \u001b[0;34m\u001b[0m\u001b[0m\n\u001b[1;32m      7\u001b[0m   \u001b[0;32mdef\u001b[0m \u001b[0mmenu\u001b[0m\u001b[0;34m(\u001b[0m\u001b[0mself\u001b[0m\u001b[0;34m)\u001b[0m\u001b[0;34m:\u001b[0m\u001b[0;34m\u001b[0m\u001b[0;34m\u001b[0m\u001b[0m\n",
            "\u001b[0;32m<ipython-input-4-02552c89e6fc>\u001b[0m in \u001b[0;36mmenu\u001b[0;34m(self)\u001b[0m\n\u001b[1;32m     16\u001b[0m \u001b[0;34m\u001b[0m\u001b[0m\n\u001b[1;32m     17\u001b[0m     \u001b[0;32mif\u001b[0m \u001b[0minp\u001b[0m \u001b[0;34m==\u001b[0m \u001b[0;34m'1'\u001b[0m\u001b[0;34m:\u001b[0m\u001b[0;34m\u001b[0m\u001b[0;34m\u001b[0m\u001b[0m\n\u001b[0;32m---> 18\u001b[0;31m       \u001b[0mself\u001b[0m\u001b[0;34m.\u001b[0m\u001b[0mcreat_pin\u001b[0m\u001b[0;34m(\u001b[0m\u001b[0;34m)\u001b[0m\u001b[0;34m\u001b[0m\u001b[0;34m\u001b[0m\u001b[0m\n\u001b[0m\u001b[1;32m     19\u001b[0m     \u001b[0;32melif\u001b[0m \u001b[0minp\u001b[0m \u001b[0;34m==\u001b[0m \u001b[0;34m'2'\u001b[0m\u001b[0;34m:\u001b[0m\u001b[0;34m\u001b[0m\u001b[0;34m\u001b[0m\u001b[0m\n\u001b[1;32m     20\u001b[0m       \u001b[0mself\u001b[0m\u001b[0;34m.\u001b[0m\u001b[0mchange_pin\u001b[0m\u001b[0;34m(\u001b[0m\u001b[0;34m)\u001b[0m\u001b[0;34m\u001b[0m\u001b[0;34m\u001b[0m\u001b[0m\n",
            "\u001b[0;32m<ipython-input-4-02552c89e6fc>\u001b[0m in \u001b[0;36mcreat_pin\u001b[0;34m(self)\u001b[0m\n\u001b[1;32m     33\u001b[0m     \u001b[0mself\u001b[0m\u001b[0;34m.\u001b[0m\u001b[0mbalance\u001b[0m \u001b[0;34m=\u001b[0m \u001b[0muser_balance\u001b[0m\u001b[0;34m\u001b[0m\u001b[0;34m\u001b[0m\u001b[0m\n\u001b[1;32m     34\u001b[0m     \u001b[0mprint\u001b[0m\u001b[0;34m(\u001b[0m\u001b[0;34m'pin created succesfully'\u001b[0m\u001b[0;34m)\u001b[0m\u001b[0;34m\u001b[0m\u001b[0;34m\u001b[0m\u001b[0m\n\u001b[0;32m---> 35\u001b[0;31m     \u001b[0mself\u001b[0m\u001b[0;34m.\u001b[0m\u001b[0mmenu\u001b[0m\u001b[0;34m(\u001b[0m\u001b[0;34m)\u001b[0m\u001b[0;34m\u001b[0m\u001b[0;34m\u001b[0m\u001b[0m\n\u001b[0m\u001b[1;32m     36\u001b[0m   \u001b[0;32mdef\u001b[0m \u001b[0mchange_pin\u001b[0m\u001b[0;34m(\u001b[0m\u001b[0mself\u001b[0m\u001b[0;34m)\u001b[0m\u001b[0;34m:\u001b[0m\u001b[0;34m\u001b[0m\u001b[0;34m\u001b[0m\u001b[0m\n\u001b[1;32m     37\u001b[0m     \u001b[0mold_pin\u001b[0m \u001b[0;34m=\u001b[0m \u001b[0minput\u001b[0m\u001b[0;34m(\u001b[0m\u001b[0;34m\"Énter old pin \"\u001b[0m\u001b[0;34m)\u001b[0m\u001b[0;34m\u001b[0m\u001b[0;34m\u001b[0m\u001b[0m\n",
            "\u001b[0;32m<ipython-input-4-02552c89e6fc>\u001b[0m in \u001b[0;36mmenu\u001b[0;34m(self)\u001b[0m\n\u001b[1;32m     22\u001b[0m       \u001b[0mself\u001b[0m\u001b[0;34m.\u001b[0m\u001b[0mchek_balance\u001b[0m\u001b[0;34m(\u001b[0m\u001b[0;34m)\u001b[0m\u001b[0;34m\u001b[0m\u001b[0;34m\u001b[0m\u001b[0m\n\u001b[1;32m     23\u001b[0m     \u001b[0;32melif\u001b[0m \u001b[0minp\u001b[0m \u001b[0;34m==\u001b[0m \u001b[0;34m'4'\u001b[0m \u001b[0;34m:\u001b[0m\u001b[0;34m\u001b[0m\u001b[0;34m\u001b[0m\u001b[0m\n\u001b[0;32m---> 24\u001b[0;31m       \u001b[0mself\u001b[0m\u001b[0;34m.\u001b[0m\u001b[0mwithdraw\u001b[0m\u001b[0;34m(\u001b[0m\u001b[0;34m)\u001b[0m\u001b[0;34m\u001b[0m\u001b[0;34m\u001b[0m\u001b[0m\n\u001b[0m\u001b[1;32m     25\u001b[0m     \u001b[0;32melse\u001b[0m\u001b[0;34m:\u001b[0m\u001b[0;34m\u001b[0m\u001b[0;34m\u001b[0m\u001b[0m\n\u001b[1;32m     26\u001b[0m       \u001b[0mexit\u001b[0m\u001b[0;34m(\u001b[0m\u001b[0;34m)\u001b[0m\u001b[0;34m\u001b[0m\u001b[0;34m\u001b[0m\u001b[0m\n",
            "\u001b[0;32m<ipython-input-4-02552c89e6fc>\u001b[0m in \u001b[0;36mwithdraw\u001b[0;34m(self)\u001b[0m\n\u001b[1;32m     57\u001b[0m     \u001b[0;32mif\u001b[0m \u001b[0muserip\u001b[0m \u001b[0;34m==\u001b[0m \u001b[0mself\u001b[0m\u001b[0;34m.\u001b[0m\u001b[0mpin\u001b[0m\u001b[0;34m:\u001b[0m\u001b[0;34m\u001b[0m\u001b[0;34m\u001b[0m\u001b[0m\n\u001b[1;32m     58\u001b[0m \u001b[0;34m\u001b[0m\u001b[0m\n\u001b[0;32m---> 59\u001b[0;31m       \u001b[0;32mif\u001b[0m \u001b[0muserip\u001b[0m \u001b[0;34m<=\u001b[0m \u001b[0mself\u001b[0m\u001b[0;34m.\u001b[0m\u001b[0mbalance\u001b[0m \u001b[0;34m:\u001b[0m\u001b[0;34m\u001b[0m\u001b[0;34m\u001b[0m\u001b[0m\n\u001b[0m\u001b[1;32m     60\u001b[0m         \u001b[0mself\u001b[0m\u001b[0;34m.\u001b[0m\u001b[0mbalance\u001b[0m \u001b[0;34m=\u001b[0m \u001b[0mself\u001b[0m\u001b[0;34m.\u001b[0m\u001b[0mbalance\u001b[0m \u001b[0;34m-\u001b[0m \u001b[0mamount\u001b[0m\u001b[0;34m\u001b[0m\u001b[0;34m\u001b[0m\u001b[0m\n\u001b[1;32m     61\u001b[0m       \u001b[0;32melse\u001b[0m\u001b[0;34m:\u001b[0m\u001b[0;34m\u001b[0m\u001b[0;34m\u001b[0m\u001b[0m\n",
            "\u001b[0;31mTypeError\u001b[0m: '<=' not supported between instances of 'str' and 'int'"
          ]
        }
      ]
    },
    {
      "cell_type": "code",
      "source": [],
      "metadata": {
        "id": "GBfvptn4v5cR"
      },
      "execution_count": null,
      "outputs": []
    }
  ]
}