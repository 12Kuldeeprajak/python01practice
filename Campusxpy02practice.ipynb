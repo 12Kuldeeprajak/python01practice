{
  "nbformat": 4,
  "nbformat_minor": 0,
  "metadata": {
    "colab": {
      "provenance": []
    },
    "kernelspec": {
      "name": "python3",
      "display_name": "Python 3"
    },
    "language_info": {
      "name": "python"
    }
  },
  "cells": [
    {
      "cell_type": "markdown",
      "source": [
        "Strings are sequence of Characters\n",
        "\n",
        "In Python specifically, strings are a sequence of Unicode Characters\n",
        "\n",
        "Creating Strings,\n",
        "\n",
        "* Accessing Strings,\n",
        "* Adding Chars to Strings,\n",
        "* Editing Strings,\n",
        "* Deleting Strings,\n",
        "* Operations on Strings,\n",
        "* String Functions,\n",
        "\n",
        "\n",
        "\n"
      ],
      "metadata": {
        "id": "-Ke6chi9PgjI"
      }
    },
    {
      "cell_type": "code",
      "execution_count": null,
      "metadata": {
        "id": "fmBMHKJ2PZpj",
        "colab": {
          "base_uri": "https://localhost:8080/"
        },
        "outputId": "6ef190c7-3645-40c6-a7b4-6ac28c5b5bc0"
      },
      "outputs": [
        {
          "output_type": "stream",
          "name": "stdout",
          "text": [
            "hello my name is kuldeep\n",
            "Hello my\n",
            "name is \n",
            "kuldeep rajak\n"
          ]
        }
      ],
      "source": [
        "#Creating strings\n",
        "#single line \n",
        "s = 'hello my name is kuldeep'\n",
        "print(s)\n",
        "\n",
        "#multiline string\n",
        "\n",
        "s1 = '''Hello my\n",
        "name is \n",
        "kuldeep rajak'''\n",
        "print(s1)"
      ]
    },
    {
      "cell_type": "code",
      "source": [
        "#Accessing Substrings from a String\n",
        "#indexing \n",
        "print(s[3])\n",
        "print(s1[-5])\n",
        "print(s1[15])"
      ],
      "metadata": {
        "colab": {
          "base_uri": "https://localhost:8080/"
        },
        "id": "Cy-Nd3MW_upR",
        "outputId": "8614ca71-e36b-4baf-c211-f5b00b18c380"
      },
      "execution_count": null,
      "outputs": [
        {
          "output_type": "stream",
          "name": "stdout",
          "text": [
            "l\n",
            "r\n",
            "s\n"
          ]
        }
      ]
    },
    {
      "cell_type": "code",
      "source": [
        "\n",
        "print(s1[55])"
      ],
      "metadata": {
        "colab": {
          "base_uri": "https://localhost:8080/",
          "height": 169
        },
        "id": "sMVALfezBGq8",
        "outputId": "b0e3ee50-4e30-4a26-9a46-60c30b8738f1"
      },
      "execution_count": null,
      "outputs": [
        {
          "output_type": "error",
          "ename": "IndexError",
          "evalue": "ignored",
          "traceback": [
            "\u001b[0;31m---------------------------------------------------------------------------\u001b[0m",
            "\u001b[0;31mIndexError\u001b[0m                                Traceback (most recent call last)",
            "\u001b[0;32m<ipython-input-11-e26d8285db79>\u001b[0m in \u001b[0;36m<cell line: 1>\u001b[0;34m()\u001b[0m\n\u001b[0;32m----> 1\u001b[0;31m \u001b[0mprint\u001b[0m\u001b[0;34m(\u001b[0m\u001b[0ms1\u001b[0m\u001b[0;34m[\u001b[0m\u001b[0;36m55\u001b[0m\u001b[0;34m]\u001b[0m\u001b[0;34m)\u001b[0m\u001b[0;34m\u001b[0m\u001b[0;34m\u001b[0m\u001b[0m\n\u001b[0m",
            "\u001b[0;31mIndexError\u001b[0m: string index out of range"
          ]
        }
      ]
    },
    {
      "cell_type": "code",
      "source": [
        "#slicing \n",
        "s = 'hellomynameiskuldeep'\n",
        "print(s[3:5])\n",
        "print(s[::])\n",
        "print(s[0:20:2])\n",
        "print(s[::-1])\n",
        "print(s[-3:-15:-1])\n",
        "\n"
      ],
      "metadata": {
        "colab": {
          "base_uri": "https://localhost:8080/"
        },
        "id": "ScbtoV44BYCH",
        "outputId": "fc2a214c-c3ec-4e56-e9de-f53fbcd4f6b6"
      },
      "execution_count": null,
      "outputs": [
        {
          "output_type": "stream",
          "name": "stdout",
          "text": [
            "lo\n",
            "hellomynameiskuldeep\n",
            "hloyaesude\n",
            "peedluksiemanymolleh\n",
            "edluksiemany\n"
          ]
        }
      ]
    },
    {
      "cell_type": "markdown",
      "source": [
        "## Operations on Strings\n",
        "\n",
        "- Arithmetic Operations\n",
        "- Relational Operations\n",
        "- Logical Operations\n",
        "- Loops on Strings\n",
        "- Membership Operations"
      ],
      "metadata": {
        "id": "Bv_OPRitIk5k"
      }
    },
    {
      "cell_type": "code",
      "source": [
        "#arithametic\n",
        "print('indore '+'is in'+' mp ')"
      ],
      "metadata": {
        "colab": {
          "base_uri": "https://localhost:8080/"
        },
        "id": "Q2EE0bxKBpjo",
        "outputId": "3a61f55d-1bc9-4f80-d724-dfaed2e853a5"
      },
      "execution_count": null,
      "outputs": [
        {
          "output_type": "stream",
          "name": "stdout",
          "text": [
            "indore is in mp \n"
          ]
        }
      ]
    },
    {
      "cell_type": "code",
      "source": [
        "print('kd'*8)\n",
        "print('*'*16)"
      ],
      "metadata": {
        "colab": {
          "base_uri": "https://localhost:8080/"
        },
        "id": "htwPADJ1I0j3",
        "outputId": "198e2d60-902f-41e5-d438-f4c2d692220b"
      },
      "execution_count": null,
      "outputs": [
        {
          "output_type": "stream",
          "name": "stdout",
          "text": [
            "kdkdkdkdkdkdkdkd\n",
            "****************\n"
          ]
        }
      ]
    },
    {
      "cell_type": "code",
      "source": [
        "#relational operator \n",
        "print('mumbai'!= 'mp')\n",
        "print('mp'<'pune')\n",
        "'mumbai' == 'mp'\n",
        "\n"
      ],
      "metadata": {
        "colab": {
          "base_uri": "https://localhost:8080/"
        },
        "id": "W_akPFWfKDeD",
        "outputId": "5d01a05e-a3aa-4451-9394-cfd68b42f1fe"
      },
      "execution_count": null,
      "outputs": [
        {
          "output_type": "stream",
          "name": "stdout",
          "text": [
            "True\n",
            "True\n"
          ]
        },
        {
          "output_type": "execute_result",
          "data": {
            "text/plain": [
              "False"
            ]
          },
          "metadata": {},
          "execution_count": 61
        }
      ]
    },
    {
      "cell_type": "code",
      "source": [
        "#logical operator\n",
        "'mp' and 'up'\n",
        "'mp'or 'up'\n",
        "not'mp'"
      ],
      "metadata": {
        "colab": {
          "base_uri": "https://localhost:8080/"
        },
        "id": "OKElMpHnKh1n",
        "outputId": "87c2f819-85ee-4b00-ce1f-713165b19086"
      },
      "execution_count": null,
      "outputs": [
        {
          "output_type": "execute_result",
          "data": {
            "text/plain": [
              "False"
            ]
          },
          "metadata": {},
          "execution_count": 65
        }
      ]
    },
    {
      "cell_type": "code",
      "source": [
        "#loop on string\n",
        "for i in 'pubjab':\n",
        "  print(i)\n",
        "print('-'*8)\n",
        "for i in 'rajisthan':\n",
        "  print('mp')"
      ],
      "metadata": {
        "colab": {
          "base_uri": "https://localhost:8080/"
        },
        "id": "4XeiwNOMLOM3",
        "outputId": "20e1328b-d99b-4ac8-ee2f-4649798c4d91"
      },
      "execution_count": null,
      "outputs": [
        {
          "output_type": "stream",
          "name": "stdout",
          "text": [
            "p\n",
            "u\n",
            "b\n",
            "j\n",
            "a\n",
            "b\n",
            "--------\n",
            "mp\n",
            "mp\n",
            "mp\n",
            "mp\n",
            "mp\n",
            "mp\n",
            "mp\n",
            "mp\n",
            "mp\n"
          ]
        }
      ]
    },
    {
      "cell_type": "code",
      "source": [
        "#membership operator \n",
        "print('D' in 'delhi')\n",
        "\n",
        "'d' in 'delhi'"
      ],
      "metadata": {
        "colab": {
          "base_uri": "https://localhost:8080/"
        },
        "id": "2JuWD31LLmvE",
        "outputId": "7736a81e-fd1b-4eeb-bc81-d59c72801dc2"
      },
      "execution_count": null,
      "outputs": [
        {
          "output_type": "stream",
          "name": "stdout",
          "text": [
            "False\n"
          ]
        },
        {
          "output_type": "execute_result",
          "data": {
            "text/plain": [
              "True"
            ]
          },
          "metadata": {},
          "execution_count": 71
        }
      ]
    },
    {
      "cell_type": "markdown",
      "source": [
        "## Editing and Deleting in Strings\n"
      ],
      "metadata": {
        "id": "1-L8ba4uZHDe"
      }
    },
    {
      "cell_type": "markdown",
      "source": [
        "editing and deleting is not possibe in string because string is a immutable type of data type"
      ],
      "metadata": {
        "id": "HRVts-kTZKIh"
      }
    },
    {
      "cell_type": "code",
      "source": [
        "s4 ='kuldeep '\n",
        "s4[0]= 'c'"
      ],
      "metadata": {
        "id": "lRZ9u7LBL_xo",
        "colab": {
          "base_uri": "https://localhost:8080/",
          "height": 187
        },
        "outputId": "277d23b1-f56b-434a-865d-7109fefddb86"
      },
      "execution_count": null,
      "outputs": [
        {
          "output_type": "error",
          "ename": "TypeError",
          "evalue": "ignored",
          "traceback": [
            "\u001b[0;31m---------------------------------------------------------------------------\u001b[0m",
            "\u001b[0;31mTypeError\u001b[0m                                 Traceback (most recent call last)",
            "\u001b[0;32m<ipython-input-2-aa8a4acc1f18>\u001b[0m in \u001b[0;36m<cell line: 2>\u001b[0;34m()\u001b[0m\n\u001b[1;32m      1\u001b[0m \u001b[0ms4\u001b[0m \u001b[0;34m=\u001b[0m\u001b[0;34m'kuldeep '\u001b[0m\u001b[0;34m\u001b[0m\u001b[0;34m\u001b[0m\u001b[0m\n\u001b[0;32m----> 2\u001b[0;31m \u001b[0ms4\u001b[0m\u001b[0;34m[\u001b[0m\u001b[0;36m0\u001b[0m\u001b[0;34m]\u001b[0m\u001b[0;34m=\u001b[0m \u001b[0;34m'c'\u001b[0m\u001b[0;34m\u001b[0m\u001b[0;34m\u001b[0m\u001b[0m\n\u001b[0m",
            "\u001b[0;31mTypeError\u001b[0m: 'str' object does not support item assignment"
          ]
        }
      ]
    },
    {
      "cell_type": "markdown",
      "source": [
        "string will not be deleted but it gets deleted from memory addres\n"
      ],
      "metadata": {
        "id": "U0uoD9kuaKnp"
      }
    },
    {
      "cell_type": "code",
      "source": [
        "del s4\n",
        "print(s4)"
      ],
      "metadata": {
        "colab": {
          "base_uri": "https://localhost:8080/",
          "height": 187
        },
        "id": "cG7TUleJZtML",
        "outputId": "3d6209c9-2c00-48ff-c6e9-7baa425e024b"
      },
      "execution_count": null,
      "outputs": [
        {
          "output_type": "error",
          "ename": "NameError",
          "evalue": "ignored",
          "traceback": [
            "\u001b[0;31m---------------------------------------------------------------------------\u001b[0m",
            "\u001b[0;31mNameError\u001b[0m                                 Traceback (most recent call last)",
            "\u001b[0;32m<ipython-input-4-83ae36393183>\u001b[0m in \u001b[0;36m<cell line: 1>\u001b[0;34m()\u001b[0m\n\u001b[0;32m----> 1\u001b[0;31m \u001b[0;32mdel\u001b[0m \u001b[0ms4\u001b[0m\u001b[0;34m\u001b[0m\u001b[0;34m\u001b[0m\u001b[0m\n\u001b[0m\u001b[1;32m      2\u001b[0m \u001b[0mprint\u001b[0m\u001b[0;34m(\u001b[0m\u001b[0ms4\u001b[0m\u001b[0;34m)\u001b[0m\u001b[0;34m\u001b[0m\u001b[0;34m\u001b[0m\u001b[0m\n",
            "\u001b[0;31mNameError\u001b[0m: name 's4' is not defined"
          ]
        }
      ]
    },
    {
      "cell_type": "markdown",
      "source": [
        "## Common Functions\n",
        "- len\n",
        "- max\n",
        "- min\n",
        "- sorted"
      ],
      "metadata": {
        "id": "WKM6tbapafRH"
      }
    },
    {
      "cell_type": "code",
      "source": [
        "s5 = 'kuldeeprajak'\n",
        "print(len(s5))\n",
        "#max and min will give value according to the binary value of char\n",
        "\n",
        "print(max(s5))\n",
        "print(min(s5))\n",
        "print(sorted(s5))\n",
        "print(sorted(s5 , reverse = True))"
      ],
      "metadata": {
        "colab": {
          "base_uri": "https://localhost:8080/"
        },
        "id": "Pb0Any6nZ7yw",
        "outputId": "79e64cd1-b571-40e2-c682-e584e18097bf"
      },
      "execution_count": null,
      "outputs": [
        {
          "output_type": "stream",
          "name": "stdout",
          "text": [
            "12\n",
            "u\n",
            "a\n",
            "['a', 'a', 'd', 'e', 'e', 'j', 'k', 'k', 'l', 'p', 'r', 'u']\n",
            "['u', 'r', 'p', 'l', 'k', 'k', 'j', 'e', 'e', 'd', 'a', 'a']\n"
          ]
        }
      ]
    },
    {
      "cell_type": "markdown",
      "source": [
        "## Capitalize/Title/Upper/Lower/Swapcase"
      ],
      "metadata": {
        "id": "cArI2hrTdzG4"
      }
    },
    {
      "cell_type": "code",
      "source": [
        "s6 = 'i am a stUdEnt'\n",
        "print(s6.capitalize())\n",
        "print(s6.title())\n",
        "print(s6.upper())\n",
        "print(s6.lower())\n",
        "print(s6.swapcase())\n"
      ],
      "metadata": {
        "colab": {
          "base_uri": "https://localhost:8080/"
        },
        "id": "WflQz_KSalk5",
        "outputId": "7e04ceb3-79c1-4811-95d0-3f8f1ff87fdd"
      },
      "execution_count": null,
      "outputs": [
        {
          "output_type": "stream",
          "name": "stdout",
          "text": [
            "I am a student\n",
            "I Am A Student\n",
            "I AM A STUDENT\n",
            "i am a student\n",
            "I AM A STuDeNT\n"
          ]
        }
      ]
    },
    {
      "cell_type": "markdown",
      "source": [
        "## Count/Find/Index"
      ],
      "metadata": {
        "id": "kzBKzE-me9nB"
      }
    },
    {
      "cell_type": "code",
      "source": [
        "print(s6.count('a'))\n",
        "s6.find('s')"
      ],
      "metadata": {
        "colab": {
          "base_uri": "https://localhost:8080/"
        },
        "id": "G5ZbfAu4d5BU",
        "outputId": "2a94bfa2-4564-43de-af83-fc37baa7b1e1"
      },
      "execution_count": null,
      "outputs": [
        {
          "output_type": "stream",
          "name": "stdout",
          "text": [
            "2\n"
          ]
        },
        {
          "output_type": "execute_result",
          "data": {
            "text/plain": [
              "7"
            ]
          },
          "metadata": {},
          "execution_count": 32
        }
      ]
    },
    {
      "cell_type": "code",
      "source": [
        "s6.index('a')"
      ],
      "metadata": {
        "colab": {
          "base_uri": "https://localhost:8080/"
        },
        "id": "UaWy_NgxfFXM",
        "outputId": "caf1a005-488a-45f2-fdd2-03630d7d86f4"
      },
      "execution_count": null,
      "outputs": [
        {
          "output_type": "execute_result",
          "data": {
            "text/plain": [
              "2"
            ]
          },
          "metadata": {},
          "execution_count": 35
        }
      ]
    },
    {
      "cell_type": "markdown",
      "source": [
        "## endswith/startswith"
      ],
      "metadata": {
        "id": "uWAzG-BEfoW2"
      }
    },
    {
      "cell_type": "code",
      "source": [
        "s7 = 'this is python code'\n",
        "s7.endswith('de')\n",
        "s7.startswith('py')"
      ],
      "metadata": {
        "colab": {
          "base_uri": "https://localhost:8080/"
        },
        "id": "yJwVqDtUfWZ6",
        "outputId": "bb6c0866-9e04-4e16-de23-ea0e66229211"
      },
      "execution_count": null,
      "outputs": [
        {
          "output_type": "execute_result",
          "data": {
            "text/plain": [
              "False"
            ]
          },
          "metadata": {},
          "execution_count": 39
        }
      ]
    },
    {
      "cell_type": "markdown",
      "source": [
        "### format"
      ],
      "metadata": {
        "id": "6_wRsxAYgIUB"
      }
    },
    {
      "cell_type": "code",
      "source": [
        "name = 'kuldeep'\n",
        "age = '21'\n",
        "\n",
        "'My name is {1} and my age is {0}'.format(age,name)"
      ],
      "metadata": {
        "colab": {
          "base_uri": "https://localhost:8080/",
          "height": 36
        },
        "id": "5zx9ThOofvaX",
        "outputId": "77570dfd-0161-4240-d24a-39b0dae2a965"
      },
      "execution_count": null,
      "outputs": [
        {
          "output_type": "execute_result",
          "data": {
            "text/plain": [
              "'My name is kuldeep and my age is 21'"
            ],
            "application/vnd.google.colaboratory.intrinsic+json": {
              "type": "string"
            }
          },
          "metadata": {},
          "execution_count": 43
        }
      ]
    },
    {
      "cell_type": "markdown",
      "source": [
        "## isalnum/ isalpha/ isdigit/ isidentifier"
      ],
      "metadata": {
        "id": "stH__Dz6oXmT"
      }
    },
    {
      "cell_type": "code",
      "source": [
        "print('kuldeep23#'.isalnum())\n",
        "print('kuldeep'.isalpha())\n",
        "print('13'.isdigit())\n",
        "print('kd-2'.isidentifier())\n"
      ],
      "metadata": {
        "colab": {
          "base_uri": "https://localhost:8080/"
        },
        "id": "QjDILMDSgcHM",
        "outputId": "1c0394f8-4c96-4300-9ea4-6f1b73d4ac9a"
      },
      "execution_count": null,
      "outputs": [
        {
          "output_type": "stream",
          "name": "stdout",
          "text": [
            "False\n",
            "True\n",
            "True\n",
            "False\n"
          ]
        }
      ]
    },
    {
      "cell_type": "markdown",
      "source": [
        "## Split/Join"
      ],
      "metadata": {
        "id": "6ZVk4QWJpite"
      }
    },
    {
      "cell_type": "code",
      "source": [
        "'my name is kuldeep'.split()"
      ],
      "metadata": {
        "colab": {
          "base_uri": "https://localhost:8080/"
        },
        "id": "r1Dojn5koeaV",
        "outputId": "92d6d38f-a6ea-4dcf-81ab-1d91dac6cf96"
      },
      "execution_count": null,
      "outputs": [
        {
          "output_type": "execute_result",
          "data": {
            "text/plain": [
              "['my', 'name', 'is', 'kuldeep']"
            ]
          },
          "metadata": {},
          "execution_count": 59
        }
      ]
    },
    {
      "cell_type": "code",
      "source": [
        "' '.join(['my', 'name', 'is', 'kuldeep'])"
      ],
      "metadata": {
        "colab": {
          "base_uri": "https://localhost:8080/",
          "height": 36
        },
        "id": "Tw-bBfXHsCoi",
        "outputId": "d9c65d76-98b7-4f2f-91a5-85da9afa3b0d"
      },
      "execution_count": null,
      "outputs": [
        {
          "output_type": "execute_result",
          "data": {
            "text/plain": [
              "'my  name  is  kuldeep'"
            ],
            "application/vnd.google.colaboratory.intrinsic+json": {
              "type": "string"
            }
          },
          "metadata": {},
          "execution_count": 63
        }
      ]
    },
    {
      "cell_type": "markdown",
      "source": [
        "## Replace"
      ],
      "metadata": {
        "id": "dG7Y7xFvsrBJ"
      }
    },
    {
      "cell_type": "code",
      "source": [
        "'hello i am kuldeep'.replace('kuldeep','rahul')"
      ],
      "metadata": {
        "colab": {
          "base_uri": "https://localhost:8080/",
          "height": 36
        },
        "id": "InlvvgV1sJ1E",
        "outputId": "26c9a5f8-a0e9-4f6d-86f3-7c0a6c707dc0"
      },
      "execution_count": null,
      "outputs": [
        {
          "output_type": "execute_result",
          "data": {
            "text/plain": [
              "'hello i am rahul'"
            ],
            "application/vnd.google.colaboratory.intrinsic+json": {
              "type": "string"
            }
          },
          "metadata": {},
          "execution_count": 67
        }
      ]
    },
    {
      "cell_type": "markdown",
      "source": [
        "### Strip"
      ],
      "metadata": {
        "id": "MaXn8VAht9_g"
      }
    },
    {
      "cell_type": "code",
      "source": [
        "print(\"          kuldeep\")\n",
        "'       kuldeep               '.strip()"
      ],
      "metadata": {
        "colab": {
          "base_uri": "https://localhost:8080/",
          "height": 53
        },
        "id": "EmNCp7qWtom0",
        "outputId": "a3e56ba8-efb1-4cf1-c7f3-bb079572f1f3"
      },
      "execution_count": null,
      "outputs": [
        {
          "output_type": "stream",
          "name": "stdout",
          "text": [
            "          kuldeep\n"
          ]
        },
        {
          "output_type": "execute_result",
          "data": {
            "text/plain": [
              "'kuldeep'"
            ],
            "application/vnd.google.colaboratory.intrinsic+json": {
              "type": "string"
            }
          },
          "metadata": {},
          "execution_count": 70
        }
      ]
    },
    {
      "cell_type": "markdown",
      "source": [
        "### Example Programs"
      ],
      "metadata": {
        "id": "rRNwjUpruUBm"
      }
    },
    {
      "cell_type": "code",
      "source": [
        "# Find the length of a given string without using the len() function\n",
        "str2 = \"Kuldeep rajak\"\n",
        "str3 = input('enter the string')\n",
        "\n",
        "count = 0 \n",
        "for i in str3:\n",
        "  count += 1 \n",
        "print(count)\n"
      ],
      "metadata": {
        "colab": {
          "base_uri": "https://localhost:8080/"
        },
        "id": "s9ktgeoYuGUZ",
        "outputId": "ce85cefb-66d8-4bfb-998c-7ea066e17d9c"
      },
      "execution_count": null,
      "outputs": [
        {
          "output_type": "stream",
          "name": "stdout",
          "text": [
            "enter the stringkuldeep\n",
            "7\n"
          ]
        }
      ]
    },
    {
      "cell_type": "code",
      "source": [
        "# Extract username from a given email. \n",
        "# Eg if the email is nitish24singh@gmail.com \n",
        "# then the username should be nitish24singh\n",
        "inp = input ( 'Enter the email ')\n",
        "pos = inp.index('@')\n",
        "print(inp[0:pos])"
      ],
      "metadata": {
        "colab": {
          "base_uri": "https://localhost:8080/"
        },
        "id": "m2krbysnu89P",
        "outputId": "95e14ceb-f8b4-453d-af63-80845f6bd135"
      },
      "execution_count": null,
      "outputs": [
        {
          "output_type": "stream",
          "name": "stdout",
          "text": [
            "Enter the email kuldeeprajak1203@gmail.com\n",
            "kuldeeprajak1203\n"
          ]
        }
      ]
    },
    {
      "cell_type": "code",
      "source": [
        "# Count the frequency of a particular character in a provided string. \n",
        "# Eg 'hello how are you' is the string, the frequency of h in this string is 2.\n",
        "s = input('enter ')\n",
        "term = input('what would like to search for')\n",
        "\n",
        "counter = 0\n",
        "for i in s:\n",
        "  if i == term:\n",
        "    counter += 1\n",
        "\n",
        "print('frequency',counter)"
      ],
      "metadata": {
        "colab": {
          "base_uri": "https://localhost:8080/"
        },
        "id": "Eh48dkJiwXes",
        "outputId": "8dcbacbe-6290-47ec-c686-73face3837d4"
      },
      "execution_count": null,
      "outputs": [
        {
          "output_type": "stream",
          "name": "stdout",
          "text": [
            "enter the emailhaw are you\\\n",
            "what would like to search fora\n",
            "frequency 2\n"
          ]
        }
      ]
    },
    {
      "cell_type": "code",
      "source": [],
      "metadata": {
        "id": "lkEZtbdsy1c5"
      },
      "execution_count": null,
      "outputs": []
    }
  ]
}