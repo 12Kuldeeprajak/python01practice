{
  "nbformat": 4,
  "nbformat_minor": 0,
  "metadata": {
    "colab": {
      "provenance": [],
      "toc_visible": true
    },
    "kernelspec": {
      "name": "python3",
      "display_name": "Python 3"
    },
    "language_info": {
      "name": "python"
    }
  },
  "cells": [
    {
      "cell_type": "markdown",
      "source": [
        "# **Practice file by kuldeep rajak**"
      ],
      "metadata": {
        "id": "90BlktNijBBp"
      }
    },
    {
      "cell_type": "markdown",
      "source": [
        "\n",
        "\n",
        "---\n",
        "\n"
      ],
      "metadata": {
        "id": "nafNPQ-QHyo8"
      }
    },
    {
      "cell_type": "markdown",
      "source": [
        "# Operators in Python\n",
        "\n",
        "- Arithmetic Operators\n",
        "- Relational Operators\n",
        "- Logical Operators\n",
        "- Bitwise Operators\n",
        "- Assignment Operators\n",
        "- Membership Operators"
      ],
      "metadata": {
        "id": "y1HMD4oI7FL7"
      }
    },
    {
      "cell_type": "code",
      "execution_count": null,
      "metadata": {
        "colab": {
          "base_uri": "https://localhost:8080/"
        },
        "id": "GCcyvzwHHoy9",
        "outputId": "66dad1a7-5636-411b-dcc4-466c90f7ccd7"
      },
      "outputs": [
        {
          "output_type": "stream",
          "name": "stdout",
          "text": [
            "9\n",
            "-1\n",
            "2.0\n",
            "1\n",
            "40\n",
            "2\n"
          ]
        }
      ],
      "source": [
        "#Arithmetic Operators \n",
        "print(4+5)\n",
        "\n",
        "print(4-5)\n",
        "\n",
        "print(10/5)\n",
        "\n",
        "print(10%3)\n",
        "\n",
        "print(5*8)\n",
        "\n",
        "print(5//2)"
      ]
    },
    {
      "cell_type": "code",
      "source": [
        "#Relational operators\n",
        "4>5\n",
        "\n",
        "5<4\n",
        "\n",
        "5==5\n",
        "\n",
        "4>=4\n",
        "\n",
        "4<=5\n",
        "\n",
        "5!=6"
      ],
      "metadata": {
        "colab": {
          "base_uri": "https://localhost:8080/"
        },
        "id": "OJy0mCLUKj_Z",
        "outputId": "7c78dfb0-012a-49c0-f050-e8305a4a0aa1"
      },
      "execution_count": null,
      "outputs": [
        {
          "output_type": "execute_result",
          "data": {
            "text/plain": [
              "True"
            ]
          },
          "metadata": {},
          "execution_count": 15
        }
      ]
    },
    {
      "cell_type": "code",
      "source": [
        "#Logical Operators\n",
        "\n",
        "print(1 and 0) \n",
        "\n",
        "1 or 0\n",
        "\n",
        "not 1 "
      ],
      "metadata": {
        "colab": {
          "base_uri": "https://localhost:8080/"
        },
        "id": "9Pue1VpcLVC5",
        "outputId": "f33fe44f-b4ea-4c09-a580-2a7afbee15f3"
      },
      "execution_count": null,
      "outputs": [
        {
          "output_type": "stream",
          "name": "stdout",
          "text": [
            "0\n"
          ]
        },
        {
          "output_type": "execute_result",
          "data": {
            "text/plain": [
              "False"
            ]
          },
          "metadata": {},
          "execution_count": 20
        }
      ]
    },
    {
      "cell_type": "code",
      "source": [
        "#Bitwise Operators\n",
        "print(2 & 3)\n",
        "bin(2)\n",
        "bin(3)"
      ],
      "metadata": {
        "colab": {
          "base_uri": "https://localhost:8080/",
          "height": 53
        },
        "id": "FQCnbLuzL3ia",
        "outputId": "8b0fb2c9-ab39-4a74-a567-e3bbfa6883cb"
      },
      "execution_count": null,
      "outputs": [
        {
          "output_type": "stream",
          "name": "stdout",
          "text": [
            "2\n"
          ]
        },
        {
          "output_type": "execute_result",
          "data": {
            "text/plain": [
              "'0b11'"
            ],
            "application/vnd.google.colaboratory.intrinsic+json": {
              "type": "string"
            }
          },
          "metadata": {},
          "execution_count": 23
        }
      ]
    },
    {
      "cell_type": "markdown",
      "source": [
        "Membereship operator "
      ],
      "metadata": {
        "id": "y1AjxfHMHxey"
      }
    },
    {
      "cell_type": "code",
      "source": [
        "print( 'd' in 'delhi')\n",
        "print(10 in [ 1,2,3,4,5,6])"
      ],
      "metadata": {
        "colab": {
          "base_uri": "https://localhost:8080/"
        },
        "id": "BbDQAs1ZshvZ",
        "outputId": "a68f9ac9-634a-4380-8b19-c70f77ff15b3"
      },
      "execution_count": 10,
      "outputs": [
        {
          "output_type": "stream",
          "name": "stdout",
          "text": [
            "True\n",
            "False\n"
          ]
        }
      ]
    },
    {
      "cell_type": "code",
      "source": [
        "# Program - Find the sum of a 3 digit number entered by the user\n",
        "inp = int( input ('Pleas enter the 3 digit number'))\n",
        "a = inp % 10\n",
        "\n",
        "inp = inp // 10\n",
        "b = inp % 10\n",
        "inp = inp // 10\n",
        "c = inp % 10\n",
        "print(a + b + c )\n"
      ],
      "metadata": {
        "colab": {
          "base_uri": "https://localhost:8080/"
        },
        "id": "IWnhcGbTsnL0",
        "outputId": "46712bfb-49cf-4c51-ea50-3049b2fcc9c5"
      },
      "execution_count": 20,
      "outputs": [
        {
          "output_type": "stream",
          "name": "stdout",
          "text": [
            "Pleas enter the 3 digit number253\n",
            "10\n"
          ]
        }
      ]
    },
    {
      "cell_type": "code",
      "source": [
        "# login program and indentation\n",
        "# email -> nitish.campusx@gmail.com\n",
        "# password -> 1234\n",
        "\n",
        "email = input('Enter the email')\n",
        "password = input('Enter the password ')\n",
        "\n",
        "if email == 'kuldeeprajak1203@gmail.com' and password == '1478':\n",
        "  print('email set and pasword set ')\n",
        "elif email != 'kuldeeprajak1203@gmail.com' and password != '1478':\n",
        "  print('again enter the email and password  and password ')\n",
        "  email = input ('Enter again email')\n",
        "  password = input('Enter password again')\n",
        "  if email == 'kuldeeprajak1203@gmail.com' and password == '1478':\n",
        "    print('Wellcom')\n",
        "  elif email !='kuldeeprajak1203@gmail.com' and password != '1478':\n",
        "    print(\"Tumse na ho payega\")\n",
        "else:\n",
        "  print(0)\n"
      ],
      "metadata": {
        "colab": {
          "base_uri": "https://localhost:8080/"
        },
        "id": "tYlxK8XEt8QO",
        "outputId": "d5d3b4a9-514c-4464-b691-25d12d6d4026"
      },
      "execution_count": 32,
      "outputs": [
        {
          "output_type": "stream",
          "name": "stdout",
          "text": [
            "Enter the emailhdfhd\n",
            "Enter the password 6565465\n",
            "again enter the email and password  and password \n",
            "Enter again emailbcvbcb\n",
            "Enter password again6556551\n",
            "Tumse na ho payega\n"
          ]
        }
      ]
    },
    {
      "cell_type": "code",
      "source": [
        "# if-else examples\n",
        "# 1. Find the min of 3 given numbers\n",
        "# 2. Menu Driven Program\n",
        "\n",
        "#1 \n",
        "a1 = int(input('Enter the first number '))\n",
        "b1 = int(input('Enter the second number'))\n",
        "c1 = int(input('Enetr the third number '))\n",
        "\n",
        "if a1>b1 and a1>c1:\n",
        "  print(a1,' is grater')\n",
        "elif b1 > a1 and b1 > c1 :\n",
        "  print(b1,' is grater')\n",
        "elif c1 > a1 and c1 > b1 :\n",
        "  print(c1,'is grater')\n",
        "else:\n",
        "  print('all are equal')"
      ],
      "metadata": {
        "id": "OTs6mArwFgMj",
        "outputId": "62cfa3f1-9294-4948-ea1a-ac02d7356bd6",
        "colab": {
          "base_uri": "https://localhost:8080/"
        }
      },
      "execution_count": 33,
      "outputs": [
        {
          "output_type": "stream",
          "name": "stdout",
          "text": [
            "Enter the first number 4\n",
            "Enter the second number1\n",
            "Enetr the third number 2\n",
            "4  is grater\n"
          ]
        }
      ]
    },
    {
      "cell_type": "code",
      "source": [
        "#2\n",
        "print(\"\"\"\n",
        "Enter 1 for set pin\n",
        "Enter 2 for check balance \n",
        "Enetr 3 for withdraw\n",
        "\n",
        "\"\"\")\n",
        "a2 = int(input('Enter the  number '))\n",
        "\n",
        "if a2 == 1 :\n",
        "  print('pin set')\n",
        "elif a2 == 2:\n",
        "  print('check balance')\n",
        "else:\n",
        "  print('Withdraw')\n"
      ],
      "metadata": {
        "id": "pylTlhnBJaWZ",
        "outputId": "810c6fda-2f0d-4efa-f80f-a576a2e6cc20",
        "colab": {
          "base_uri": "https://localhost:8080/"
        }
      },
      "execution_count": 38,
      "outputs": [
        {
          "output_type": "stream",
          "name": "stdout",
          "text": [
            "\n",
            "Enter 1 for set pin\n",
            "Enter 2 for check balance \n",
            "Enetr 3 for withdraw\n",
            "\n",
            "\n",
            "Enter the  number 3\n",
            "Withdraw\n"
          ]
        }
      ]
    },
    {
      "cell_type": "markdown",
      "source": [
        "# Modules in Python\n",
        "math\n",
        "keyword\n",
        "random\n",
        "datetime\n"
      ],
      "metadata": {
        "id": "Yh7tCnVQLz3D"
      }
    },
    {
      "cell_type": "code",
      "source": [
        "#math \n",
        "import math\n",
        "print(math.sqrt(25))"
      ],
      "metadata": {
        "id": "vUpWTtp7LwOO",
        "outputId": "99179930-b648-4718-f593-88232d2ba393",
        "colab": {
          "base_uri": "https://localhost:8080/"
        }
      },
      "execution_count": 40,
      "outputs": [
        {
          "output_type": "stream",
          "name": "stdout",
          "text": [
            "5.0\n"
          ]
        }
      ]
    },
    {
      "cell_type": "code",
      "source": [
        "#keyword\n",
        "import keyword\n",
        "print(keyword.kwlist)"
      ],
      "metadata": {
        "id": "JfABbQkNOEB3",
        "outputId": "1884c21e-fcaf-4264-9582-f686d894c1c3",
        "colab": {
          "base_uri": "https://localhost:8080/"
        }
      },
      "execution_count": 41,
      "outputs": [
        {
          "output_type": "stream",
          "name": "stdout",
          "text": [
            "['False', 'None', 'True', 'and', 'as', 'assert', 'async', 'await', 'break', 'class', 'continue', 'def', 'del', 'elif', 'else', 'except', 'finally', 'for', 'from', 'global', 'if', 'import', 'in', 'is', 'lambda', 'nonlocal', 'not', 'or', 'pass', 'raise', 'return', 'try', 'while', 'with', 'yield']\n"
          ]
        }
      ]
    },
    {
      "cell_type": "code",
      "source": [
        "#random\n",
        "import random\n",
        "print(random.randint(1,100))"
      ],
      "metadata": {
        "id": "dGKmMf9lOUk7",
        "outputId": "a81448eb-3875-45f5-d601-6dd4d10e743c",
        "colab": {
          "base_uri": "https://localhost:8080/"
        }
      },
      "execution_count": 45,
      "outputs": [
        {
          "output_type": "stream",
          "name": "stdout",
          "text": [
            "73\n"
          ]
        }
      ]
    },
    {
      "cell_type": "code",
      "source": [
        "#datetime\n",
        "import datetime\n",
        "print(datetime.datetime.now())"
      ],
      "metadata": {
        "id": "Iq_A0XNaOis1",
        "outputId": "dc1809a6-a103-4907-cb7c-79abaa01be82",
        "colab": {
          "base_uri": "https://localhost:8080/"
        }
      },
      "execution_count": 51,
      "outputs": [
        {
          "output_type": "stream",
          "name": "stdout",
          "text": [
            "2023-05-17 15:02:55.573658\n"
          ]
        }
      ]
    },
    {
      "cell_type": "code",
      "source": [
        "help('modules')"
      ],
      "metadata": {
        "id": "RGvaoCUtO2v6",
        "outputId": "dd16047f-0a50-48f2-b061-69f2760fb642",
        "colab": {
          "base_uri": "https://localhost:8080/"
        }
      },
      "execution_count": 54,
      "outputs": [
        {
          "output_type": "stream",
          "name": "stdout",
          "text": [
            "\n",
            "Please wait a moment while I gather a list of all available modules...\n",
            "\n",
            "Cython              constants           lazy_loader         rsa\n",
            "IPython             constants_test      lib2to3             run_tests__tests\n",
            "OpenGL              contextlib          libfuturize         runpy\n",
            "PIL                 contextlib2         libpasteurize       rwobject\n",
            "__future__          contextvars         librosa             rwobject_test\n",
            "__main__            contourpy           lightgbm            sched\n",
            "__pyinstaller       controller_test     linecache           scipy\n",
            "_abc                convertdate         lit                 scrap\n",
            "_aix_support        copy                llvmlite            scrap_tags\n",
            "_argon2_cffi_bindings copyreg             locale              scrap_test\n",
            "_ast                cpuinfo             locals              scs\n",
            "_asyncio            crypt               locals_test         seaborn\n",
            "_bisect             cryptography        locket              secrets\n",
            "_blake2             csv                 logging             select\n",
            "_bootsubprocess     ctypes              lsb_release         selectors\n",
            "_bz2                cufflinks           lunarcalendar       send2trash\n",
            "_camera             curses              lxml                setuptools\n",
            "_camera_opencv      cursors             lzma                shapely\n",
            "_camera_vidcapture  cursors_test        macosx              shelve\n",
            "_cffi_backend       cv2                 mailbox             shlex\n",
            "_codecs             cvxopt              mailcap             shutil\n",
            "_codecs_cn          cvxpy               markdown            signal\n",
            "_codecs_hk          cycler              markdown_it         site\n",
            "_codecs_iso2022     cymem               markupsafe          sitecustomize\n",
            "_codecs_jp          cython              marshal             six\n",
            "_codecs_kr          cythonmagic         mask                skimage\n",
            "_codecs_tw          dask                mask_test           sklearn\n",
            "_collections        dataclasses         math                sklearn_pandas\n",
            "_collections_abc    datascience         math_test           slugify\n",
            "_compat_pickle      datetime            matplotlib          smart_open\n",
            "_compression        dateutil            matplotlib_inline   smtpd\n",
            "_contextvars        db_dtypes           matplotlib_venn     smtplib\n",
            "_crypt              dbm                 mdurl               sndarray\n",
            "_csv                dbus                midi                sndarray_tags\n",
            "_ctypes             debugpy             midi_test           sndarray_test\n",
            "_ctypes_test        decimal             mimetypes           sndhdr\n",
            "_curses             decorator           missingno           sniffio\n",
            "_curses_panel       defusedxml          mistune             snowballstemmer\n",
            "_cvxcore            difflib             mixer               socket\n",
            "_datetime           dis                 mixer_music         socketserver\n",
            "_dbm                display             mixer_music_tags    socks\n",
            "_decimal            display_test        mixer_music_test    sockshandler\n",
            "_distutils_hack     distributed         mixer_tags          softwareproperties\n",
            "_dlib_pybind11      distutils           mixer_test          sortedcontainers\n",
            "_ecos               dlib                mizani              soundfile\n",
            "_elementtree        docs_test           ml_dtypes           soupsieve\n",
            "_freetype           doctest             mlxtend             soxr\n",
            "_functools          docutils            mmap                spacy\n",
            "_hashlib            dopamine            modulefinder        spacy_legacy\n",
            "_heapq              dot_parser          more_itertools      spacy_loggers\n",
            "_imp                draw                mouse               sphinx\n",
            "_io                 draw_py             mouse_test          sprite\n",
            "_json               draw_test           moviepy             sprite_test\n",
            "_locale             duckdb              mpmath              spwd\n",
            "_lsprof             duckdb_query_graph  msgpack             sql\n",
            "_lzma               easydict            multipledispatch    sqlalchemy\n",
            "_markupbase         ecos                multiprocessing     sqlite3\n",
            "_md5                editdistance        multitasking        sqlparse\n",
            "_multibytecodec     ee                  murmurhash          sre_compile\n",
            "_multiprocessing    email               music21             sre_constants\n",
            "_opcode             en_core_web_sm      natsort             sre_parse\n",
            "_operator           encodings           nbclient            srsly\n",
            "_osx_support        entrypoints         nbconvert           ssl\n",
            "_pickle             enum                nbformat            stat\n",
            "_plotly_future_     ephem               nest_asyncio        statistics\n",
            "_plotly_utils       erfa                netrc               statsmodels\n",
            "_posixshmem         errno               networkx            storemagic\n",
            "_posixsubprocess    et_xmlfile          newbuffer           string\n",
            "_py_abc             etils               nibabel             stringprep\n",
            "_pydecimal          etuples             nis                 struct\n",
            "_pyio               event               nisext              subprocess\n",
            "_pyrsistent_version event_test          nltk                sunau\n",
            "_pytest             examples            nntplib             surface\n",
            "_queue              exceptiongroup      notebook            surface_test\n",
            "_random             fastai              ntpath              surfarray\n",
            "_remote_module_non_scriptable fastcore            nturl2path          surfarray_tags\n",
            "_rinterface_cffi_abi fastdownload        numba               surfarray_test\n",
            "_rinterface_cffi_api fastevent           numbergen           surflock\n",
            "_scs_direct         fastjsonschema      numbers             surflock_test\n",
            "_scs_indirect       fastprogress        numexpr             sympy\n",
            "_sdl2               fastrlock           numpy               sympyprinting\n",
            "_sha1               faulthandler        nvfuser             symtable\n",
            "_sha256             fcntl               oauth2client        sys\n",
            "_sha3               filecmp             oauthlib            sysconfig\n",
            "_sha512             fileinput           opcode              sysfont\n",
            "_signal             filelock            openpyxl            sysfont_test\n",
            "_sitebuiltins       firebase_admin      operator            syslog\n",
            "_socket             flask               opt_einsum          tables\n",
            "_soundfile          flatbuffers         optax               tabnanny\n",
            "_soundfile_data     flax                optparse            tabulate\n",
            "_sprite             fnmatch             os                  tarfile\n",
            "_sqlite3            folium              osgeo               tblib\n",
            "_sre                font                osgeo_utils         telnetlib\n",
            "_ssl                fontTools           osqp                tempfile\n",
            "_stat               font_test           osqppurepy          tenacity\n",
            "_statistics         fractions           ossaudiodev         tensorboard\n",
            "_string             freetype            packaging           tensorboard_data_server\n",
            "_strptime           freetype_tags       palettable          tensorboard_plugin_wit\n",
            "_struct             freetype_test       pandas              tensorflow\n",
            "_symtable           frozendict          pandas_datareader   tensorflow_datasets\n",
            "_sysconfigdata__linux_x86_64-linux-gnu fsspec              pandas_gbq          tensorflow_estimator\n",
            "_sysconfigdata__x86_64-linux-gnu ftfont              pandocfilters       tensorflow_gcs_config\n",
            "_testbuffer         ftfont_tags         panel               tensorflow_hub\n",
            "_testcapi           ftfont_test         param               tensorflow_io_gcs_filesystem\n",
            "_testclinic         ftplib              parso               tensorflow_metadata\n",
            "_testimportmultiple functools           partd               tensorflow_probability\n",
            "_testinternalcapi   functorch           past                tensorstore\n",
            "_testmultiphase     future              pasta               termcolor\n",
            "_thread             gast                pathlib             terminado\n",
            "_threading_local    gc                  pathy               termios\n",
            "_tkinter            gdown               patsy               test\n",
            "_tracemalloc        genericpath         pdb                 test_utils\n",
            "_uuid               gensim              pexpect             tests\n",
            "_warnings           geographiclib       pickle              text_unidecode\n",
            "_weakref            geopy               pickleshare         textblob\n",
            "_weakrefset         getopt              pickletools         textwrap\n",
            "_xxsubinterpreters  getpass             pip                 tf_slim\n",
            "_xxtestfuzz         gettext             pipes               thinc\n",
            "_yaml               gfxdraw             piptools            this\n",
            "_zoneinfo           gfxdraw_test        pixelarray          threading\n",
            "abc                 gi                  pixelarray_test     threadpoolctl\n",
            "absl                gin                 pixelcopy           threads\n",
            "aifc                glob                pixelcopy_test      threads_test\n",
            "alabaster           glob2               pkg_resources       tifffile\n",
            "albumentations      google_auth_httplib2 pkgdata             time\n",
            "altair              google_auth_oauthlib pkgutil             time_test\n",
            "antigravity         google_crc32c       platform            timeit\n",
            "anyio               google_drive_downloader platformdirs        tinycss2\n",
            "apiclient           googleapiclient     plistlib            tkinter\n",
            "appdirs             googlesearch        plotly              tlz\n",
            "apt                 graphlib            plotnine            token\n",
            "apt_inst            graphviz            pluggy              tokenize\n",
            "apt_pkg             greenlet            polars              toml\n",
            "aptsources          grp                 pooch               tomli\n",
            "argon2              grpc                poplib              toolz\n",
            "argparse            grpc_status         portpicker          torch\n",
            "array               gspread             posix               torchaudio\n",
            "array_record        gspread_dataframe   posixpath           torchdata\n",
            "arviz               gym                 pprint              torchgen\n",
            "ast                 gym_notices         prefetch_generator  torchsummary\n",
            "astropy             gzip                preshed             torchtext\n",
            "astunparse          h5netcdf            prettytable         torchvision\n",
            "asynchat            h5py                profile             tornado\n",
            "asyncio             hashlib             proglog             touch_test\n",
            "asyncore            heapq               progressbar         tqdm\n",
            "atexit              hijri_converter     prometheus_client   trace\n",
            "attr                hmac                promise             traceback\n",
            "attrs               holidays            prompt_toolkit      tracemalloc\n",
            "audioop             holoviews           prophet             traitlets\n",
            "audioread           html                proto               transform\n",
            "autograd            html5lib            pstats              transform_test\n",
            "autoreload          http                psutil              tree\n",
            "babel               httpimport          psycopg2            triton\n",
            "backcall            httplib2            pty                 tty\n",
            "base                humanize            ptyprocess          turtle\n",
            "base64              hyperopt            pwd                 tweepy\n",
            "base_test           idna                py                  typer\n",
            "bdb                 image               py4j                types\n",
            "bin                 image__save_gl_surface_test py_compile          typing\n",
            "binascii            image_tags          pyarrow             typing_extensions\n",
            "binhex              image_test          pyasn1              tzdata\n",
            "bisect              imageext            pyasn1_modules      tzlocal\n",
            "bleach              imageext_tags       pyclbr              unicodedata\n",
            "blis                imageext_test       pycocotools         unification\n",
            "blit_test           imageio             pycparser           unittest\n",
            "blosc2              imageio_ffmpeg      pyct                uritemplate\n",
            "bokeh               imagesize           pydantic            urllib\n",
            "boost               imaplib             pydata_google_auth  urllib3\n",
            "branca              imblearn            pydoc               uu\n",
            "bs4                 imgaug              pydoc_data          uuid\n",
            "bufferproxy         imghdr              pydot               vega_datasets\n",
            "bufferproxy_test    imp                 pydot_ng            venv\n",
            "build               importlib           pydotplus           version\n",
            "builtins            importlib_resources pydrive             version_test\n",
            "bz2                 imutils             pyexpat             video_test\n",
            "cProfile            inflect             pygame              warnings\n",
            "cachecontrol        iniconfig           pygments            wasabi\n",
            "cached_property     inspect             pygtkcompat         wave\n",
            "cachetools          io                  pylab               wcwidth\n",
            "calendar            ipaddress           pymc                weakref\n",
            "camera              ipykernel           pymeeus             webbrowser\n",
            "camera_test         ipykernel_launcher  pymystem3           webcolors\n",
            "catalogue           ipython_genutils    pyparsing           webencodings\n",
            "certifi             ipywidgets          pypm                websocket\n",
            "cffi                isympy              pyproject_hooks     werkzeug\n",
            "cgi                 itertools           pyrsistent          wheel\n",
            "cgitb               itsdangerous        pytensor            widgetsnbextension\n",
            "chardet             jax                 pytest              wordcloud\n",
            "charset_normalizer  jaxlib              python_utils        wrapt\n",
            "chex                jieba               pytz                wsgiref\n",
            "chunk               jinja2              pytz_deprecation_shim xarray\n",
            "clang               joblib              pyviz_comms         xarray_einstats\n",
            "click               joystick            pywt                xdrlib\n",
            "cloudpickle         joystick_test       pyximport           xgboost\n",
            "cmake               json                qdldl               xlrd\n",
            "cmath               jsonpickle          qudida              xml\n",
            "cmd                 jsonschema          queue               xmlrpc\n",
            "cmdstanpy           jupyter             quopri              xxlimited\n",
            "code                jupyter_client      random              xxlimited_35\n",
            "codecs              jupyter_console     re                  xxsubtype\n",
            "codeop              jupyter_core        readline            yaml\n",
            "collections         jupyter_server      rect                yellowbrick\n",
            "color               jupyterlab_plotly   rect_test           yfinance\n",
            "color_test          jupyterlab_pygments regex               zict\n",
            "colorcet            jupyterlab_widgets  reprlib             zipapp\n",
            "colordict           kaggle              requests            zipfile\n",
            "colorlover          kanren              requests_oauthlib   zipimport\n",
            "colorsys            keras               requests_unixsocket zipp\n",
            "community           key                 requirements        zlib\n",
            "compileall          key_test            resource            zmq\n",
            "concurrent          keyword             rich                zoneinfo\n",
            "confection          kiwisolver          rlcompleter         \n",
            "configparser        korean_lunar_calendar rmagic              \n",
            "cons                langcodes           rpy2                \n",
            "\n",
            "Enter any module name to get more help.  Or, type \"modules spam\" to search\n",
            "for modules whose name or summary contain the string \"spam\".\n",
            "\n"
          ]
        }
      ]
    },
    {
      "cell_type": "markdown",
      "source": [
        "# Loops in Python\n",
        "Need for loops\n",
        "While Loop\n",
        "For Loop"
      ],
      "metadata": {
        "id": "Ev1Rez3oRyKO"
      }
    },
    {
      "cell_type": "code",
      "source": [
        "# While loop example -> program to print the table\n",
        "# Program -> Sum of all digits of a given number\n",
        "# Program -> keep accepting numbers from users till he/she enters a 0 and then find the avg"
      ],
      "metadata": {
        "id": "Ri8U-RPePcLB"
      },
      "execution_count": 55,
      "outputs": []
    },
    {
      "cell_type": "code",
      "source": [
        "a3 = int(input('Enetr the number to print the table'))\n",
        "i = 1\n",
        "while (i != 11):\n",
        "\n",
        "  print(i*a3)\n",
        "  i = i+1\n"
      ],
      "metadata": {
        "id": "o-MNfWPZSUFk",
        "outputId": "37ee1707-7082-4b39-f438-eb8bb1418ad8",
        "colab": {
          "base_uri": "https://localhost:8080/"
        }
      },
      "execution_count": 59,
      "outputs": [
        {
          "output_type": "stream",
          "name": "stdout",
          "text": [
            "Enetr the number to print the table5\n",
            "5\n",
            "10\n",
            "15\n",
            "20\n",
            "25\n",
            "30\n",
            "35\n",
            "40\n",
            "45\n",
            "50\n"
          ]
        }
      ]
    },
    {
      "cell_type": "code",
      "source": [
        "# for loop \n",
        "for i in range (1,11):\n",
        "  print(i,'*',i ,'=',i*i)"
      ],
      "metadata": {
        "id": "fc0QEksmTv4t",
        "outputId": "6117295f-c3e4-49f9-ac19-8842bd75a440",
        "colab": {
          "base_uri": "https://localhost:8080/"
        }
      },
      "execution_count": 3,
      "outputs": [
        {
          "output_type": "stream",
          "name": "stdout",
          "text": [
            "1 * 1 = 1\n",
            "2 * 2 = 4\n",
            "3 * 3 = 9\n",
            "4 * 4 = 16\n",
            "5 * 5 = 25\n",
            "6 * 6 = 36\n",
            "7 * 7 = 49\n",
            "8 * 8 = 64\n",
            "9 * 9 = 81\n",
            "10 * 10 = 100\n"
          ]
        }
      ]
    },
    {
      "cell_type": "code",
      "source": [
        "l = [1,2,45,7,8,6,97,8,]\n",
        "for i in l :\n",
        "  print(i%2 == 0)"
      ],
      "metadata": {
        "id": "FxK69cUZcvfw",
        "outputId": "fccdbaab-7611-4794-c75b-58ba0e7dc532",
        "colab": {
          "base_uri": "https://localhost:8080/"
        }
      },
      "execution_count": 7,
      "outputs": [
        {
          "output_type": "stream",
          "name": "stdout",
          "text": [
            "False\n",
            "True\n",
            "False\n",
            "False\n",
            "True\n",
            "True\n",
            "False\n",
            "True\n"
          ]
        }
      ]
    },
    {
      "cell_type": "code",
      "source": [],
      "metadata": {
        "id": "a0tLUgcTdtBH"
      },
      "execution_count": null,
      "outputs": []
    }
  ]
}