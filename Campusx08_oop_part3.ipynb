{
  "nbformat": 4,
  "nbformat_minor": 0,
  "metadata": {
    "colab": {
      "provenance": []
    },
    "kernelspec": {
      "name": "python3",
      "display_name": "Python 3"
    },
    "language_info": {
      "name": "python"
    }
  },
  "cells": [
    {
      "cell_type": "markdown",
      "source": [
        "# **                       OOP IN PYTHON PART 3**"
      ],
      "metadata": {
        "id": "NW81vNu-tyka"
      }
    },
    {
      "cell_type": "markdown",
      "source": [
        "# Topics cover\n",
        "# * Decorators\n",
        "# *Class Methods\n",
        "# *Static Method\n",
        "# *Special (Magic Dunder) Methods\n",
        "# *Property Decorators Getters, Setters, And Deletes"
      ],
      "metadata": {
        "id": "MzvbiDjTiWH9"
      }
    },
    {
      "cell_type": "markdown",
      "source": [
        "# Decorators\n",
        "In object-oriented programming (OOP) with Python, a decorator is a design pattern that allows you to add functionality to an object dynamically. It is a way to modify the behavior of a function or a class without directly changing its source code.\n",
        "\n",
        "In Python, decorators are implemented using functions or classes. They are used to wrap or modify the behavior of other functions or classes by adding additional functionality. Decorators are typically used to enhance or extend the functionality of existing code, such as adding logging, authentication, or caching to functions.\n",
        "\n",
        "A decorator function takes another function as input and returns a modified or enhanced version of that function. It can perform actions before and/or after the wrapped function is executed, and it can also modify the arguments or return value of the wrapped function."
      ],
      "metadata": {
        "id": "ft1gZ8wftleV"
      }
    },
    {
      "cell_type": "code",
      "execution_count": 1,
      "metadata": {
        "id": "bPksC_zttckZ"
      },
      "outputs": [],
      "source": [
        "#Decorators\n",
        "def dec(func):\n",
        "  def inner_dec():\n",
        "    print('this is the start of the function')\n",
        "    func()\n",
        "    print('This is the end of the function ')\n",
        "  return inner_dec"
      ]
    },
    {
      "cell_type": "code",
      "source": [
        "@dec\n",
        "def test1():\n",
        "  print( 4+5) "
      ],
      "metadata": {
        "id": "_OSZkrQau_i0"
      },
      "execution_count": 11,
      "outputs": []
    },
    {
      "cell_type": "code",
      "source": [
        "test1()"
      ],
      "metadata": {
        "colab": {
          "base_uri": "https://localhost:8080/"
        },
        "id": "msqycP3VvQFb",
        "outputId": "9d2eb757-f166-4f0d-bae2-fe20a2f6441e"
      },
      "execution_count": 12,
      "outputs": [
        {
          "output_type": "stream",
          "name": "stdout",
          "text": [
            "this is the start of the function\n",
            "9\n",
            "This is the end of the function \n"
          ]
        }
      ]
    },
    {
      "cell_type": "code",
      "source": [
        "import time \n",
        "\n",
        "def timer_test(func):\n",
        "    def timer_test_inner ():\n",
        "        start = time.time()\n",
        "        func()\n",
        "        end = time.time()\n",
        "        print(end -start)\n",
        "    return timer_test_inner"
      ],
      "metadata": {
        "id": "03WEc9envTd5"
      },
      "execution_count": 13,
      "outputs": []
    },
    {
      "cell_type": "code",
      "source": [
        "def test2():\n",
        "    print(45+78)"
      ],
      "metadata": {
        "id": "j8rRZex2xody"
      },
      "execution_count": 14,
      "outputs": []
    },
    {
      "cell_type": "code",
      "source": [
        "test2()"
      ],
      "metadata": {
        "colab": {
          "base_uri": "https://localhost:8080/"
        },
        "id": "OMMzz6lixq2t",
        "outputId": "7ab8af9c-4484-49e5-dfcd-0955d1b1e77e"
      },
      "execution_count": 15,
      "outputs": [
        {
          "output_type": "stream",
          "name": "stdout",
          "text": [
            "123\n"
          ]
        }
      ]
    },
    {
      "cell_type": "code",
      "source": [
        "@timer_test\n",
        "def test2():\n",
        "    print(45+78)"
      ],
      "metadata": {
        "id": "_tg0GQK1xrZH"
      },
      "execution_count": 16,
      "outputs": []
    },
    {
      "cell_type": "code",
      "source": [
        "test2()"
      ],
      "metadata": {
        "colab": {
          "base_uri": "https://localhost:8080/"
        },
        "id": "LdXcsTcnxuBE",
        "outputId": "a94f8306-79e3-426a-a773-201163354f6c"
      },
      "execution_count": 17,
      "outputs": [
        {
          "output_type": "stream",
          "name": "stdout",
          "text": [
            "123\n",
            "8.0108642578125e-05\n"
          ]
        }
      ]
    },
    {
      "cell_type": "code",
      "source": [
        "@timer_test\n",
        "def test():\n",
        "    for i in range(100000000):\n",
        "        pass"
      ],
      "metadata": {
        "id": "cCdsskYexyJC"
      },
      "execution_count": 18,
      "outputs": []
    },
    {
      "cell_type": "code",
      "source": [
        "test()"
      ],
      "metadata": {
        "colab": {
          "base_uri": "https://localhost:8080/"
        },
        "id": "Gc-dGX0jx1f1",
        "outputId": "de7ebc2c-7191-47b9-d30e-27e4a6339946"
      },
      "execution_count": 19,
      "outputs": [
        {
          "output_type": "stream",
          "name": "stdout",
          "text": [
            "2.1736490726470947\n"
          ]
        }
      ]
    },
    {
      "cell_type": "code",
      "source": [],
      "metadata": {
        "id": "eE01tx32x2By"
      },
      "execution_count": null,
      "outputs": []
    },
    {
      "cell_type": "markdown",
      "source": [
        " # --------------------------------------------------------------------------------------------------------------------"
      ],
      "metadata": {
        "id": "8ZhMPi0_NTQG"
      }
    },
    {
      "cell_type": "markdown",
      "source": [
        "# Class Methods"
      ],
      "metadata": {
        "id": "cmzFuz8DMev_"
      }
    },
    {
      "cell_type": "markdown",
      "source": [
        "In object-oriented programming (OOP) in Python, class methods are methods defined within a class that are bound to the class rather than to an instance of the class. They are defined using the `@classmethod` decorator and are typically used to work with class-level data or perform operations that involve the class itself, rather than individual instances.\n",
        "\n",
        "Here's an example that demonstrates the usage of class methods in Python:\n",
        "\n",
        "```python\n",
        "class MyClass:\n",
        "    class_variable = \"This is a class variable\"\n",
        "\n",
        "    def __init__(self, instance_variable):\n",
        "        self.instance_variable = instance_variable\n",
        "\n",
        "    @classmethod\n",
        "    def class_method(cls):\n",
        "        print(\"This is a class method\")\n",
        "        print(cls.class_variable)\n",
        "\n",
        "    def instance_method(self):\n",
        "        print(\"This is an instance method\")\n",
        "        print(self.instance_variable)\n",
        "\n",
        "# Accessing class variable\n",
        "print(MyClass.class_variable)\n",
        "\n",
        "# Calling class method\n",
        "MyClass.class_method()\n",
        "\n",
        "# Creating an instance of MyClass\n",
        "my_instance = MyClass(\"Instance data\")\n",
        "\n",
        "# Calling instance method\n",
        "my_instance.instance_method()\n",
        "```\n",
        "\n",
        "In the above code, we define a class called `MyClass`. Inside the class, we have a class variable `class_variable` and two methods: `class_method` and `instance_method`.\n",
        "\n",
        "The `class_method` is defined with the `@classmethod` decorator, which makes it a class method. It can be accessed using the class name itself (`MyClass.class_method()`). Class methods have access to class-level variables (`class_variable` in this example) and can perform operations related to the class itself.\n",
        "\n",
        "The `instance_method` is a regular instance method that operates on individual instances of the class. It can access instance-specific data (in this case, `instance_variable`).\n",
        "\n",
        "In the code snippet, we first access the class variable `class_variable` directly using the class name. Then, we call the class method `class_method()` using the class name as well. The class method can access the class variable and print its value.\n",
        "\n",
        "Next, we create an instance of the class (`my_instance`) and call the instance method `instance_method()` on it. The instance method can access the instance-specific variable and print its value.\n",
        "\n",
        "Output:\n",
        "```\n",
        "This is a class variable\n",
        "This is a class method\n",
        "This is a class variable\n",
        "This is an instance method\n",
        "Instance data\n",
        "```\n",
        "\n",
        "Class methods are useful when you want to define methods that are related to the class as a whole and perform operations on class-level data. They provide a way to encapsulate functionality that is not specific to individual instances but applies to the class itself."
      ],
      "metadata": {
        "id": "Xtb9AArTMgpS"
      }
    },
    {
      "cell_type": "code",
      "source": [
        "class info:\n",
        "  def __init__(self,name,email):\n",
        "    self.name = name \n",
        "    self.email = email\n",
        "\n",
        "  def deail(self):\n",
        "    return self.name , self.email"
      ],
      "metadata": {
        "id": "FJAdU8BVMljR"
      },
      "execution_count": 9,
      "outputs": []
    },
    {
      "cell_type": "code",
      "source": [
        "obj = info('kuldeep', 'kuldeeprajak@12032003')"
      ],
      "metadata": {
        "id": "Cg7XkUEKMlg-"
      },
      "execution_count": 10,
      "outputs": []
    },
    {
      "cell_type": "code",
      "source": [
        "obj.deail()"
      ],
      "metadata": {
        "colab": {
          "base_uri": "https://localhost:8080/"
        },
        "id": "CDvT12MDMleC",
        "outputId": "d1986e93-81b2-4668-e6f9-6a3f61bad183"
      },
      "execution_count": 11,
      "outputs": [
        {
          "output_type": "execute_result",
          "data": {
            "text/plain": [
              "('kuldeep', 'kuldeeprajak@12032003')"
            ]
          },
          "metadata": {},
          "execution_count": 11
        }
      ]
    },
    {
      "cell_type": "code",
      "source": [
        "class info1:\n",
        "  mob_no = 8523649746\n",
        "\n",
        "  def __init__(self,name,email):\n",
        "\n",
        "    self.name = name \n",
        "    self.email = email\n",
        "\n",
        "  def deail(self):\n",
        "    return self.name , self.email\n",
        "    \n",
        "\n",
        "  @classmethod\n",
        "  def change_no(cls , no):\n",
        "    info1.mob_no = no\n",
        "\n",
        "  @classmethod\n",
        "  def deco_datail(cls , name , email):\n",
        "    return cls(name,email)\n"
      ],
      "metadata": {
        "id": "9w-3SvSYMlbe"
      },
      "execution_count": 48,
      "outputs": []
    },
    {
      "cell_type": "code",
      "source": [
        "info1.deco_datail('kuldeep','kuldeep@12032003')"
      ],
      "metadata": {
        "colab": {
          "base_uri": "https://localhost:8080/"
        },
        "id": "ZAXgcY7pMlY0",
        "outputId": "ed7cb4b5-a0c0-493a-e160-55dd6d881da6"
      },
      "execution_count": 38,
      "outputs": [
        {
          "output_type": "execute_result",
          "data": {
            "text/plain": [
              "<__main__.info1 at 0x7f26b7fb3100>"
            ]
          },
          "metadata": {},
          "execution_count": 38
        }
      ]
    },
    {
      "cell_type": "code",
      "source": [
        "obj1 = info1.deco_datail('kuldeep','kuldeep@12032003')"
      ],
      "metadata": {
        "id": "WjncFlvHMlWt"
      },
      "execution_count": 39,
      "outputs": []
    },
    {
      "cell_type": "code",
      "source": [
        "obj1.name"
      ],
      "metadata": {
        "colab": {
          "base_uri": "https://localhost:8080/",
          "height": 35
        },
        "id": "nHw3JRlYMlK-",
        "outputId": "6faefd71-f665-4c62-9b7e-e0d251937cc1"
      },
      "execution_count": 40,
      "outputs": [
        {
          "output_type": "execute_result",
          "data": {
            "text/plain": [
              "'kuldeep'"
            ],
            "application/vnd.google.colaboratory.intrinsic+json": {
              "type": "string"
            }
          },
          "metadata": {},
          "execution_count": 40
        }
      ]
    },
    {
      "cell_type": "code",
      "source": [
        "info1.mob_no"
      ],
      "metadata": {
        "colab": {
          "base_uri": "https://localhost:8080/"
        },
        "id": "o6Jc_RCRMlHb",
        "outputId": "e052bf15-23c4-49e0-9577-92bc7b3932e0"
      },
      "execution_count": 41,
      "outputs": [
        {
          "output_type": "execute_result",
          "data": {
            "text/plain": [
              "8523649746"
            ]
          },
          "metadata": {},
          "execution_count": 41
        }
      ]
    },
    {
      "cell_type": "code",
      "source": [
        "info1.change_no(4545649487)"
      ],
      "metadata": {
        "id": "fkUOof4dMlEd"
      },
      "execution_count": 42,
      "outputs": []
    },
    {
      "cell_type": "code",
      "source": [
        "info1.mob_no"
      ],
      "metadata": {
        "colab": {
          "base_uri": "https://localhost:8080/"
        },
        "id": "FqErV-q3Q6yU",
        "outputId": "cb8b066d-0f1e-487d-c5e3-69d5fa842105"
      },
      "execution_count": 43,
      "outputs": [
        {
          "output_type": "execute_result",
          "data": {
            "text/plain": [
              "4545649487"
            ]
          },
          "metadata": {},
          "execution_count": 43
        }
      ]
    },
    {
      "cell_type": "code",
      "source": [
        "#Haw we can add a function from out side the class\n",
        "def cource_detail(cls , cource_name):\n",
        "  print('Cource name is',cource_name)"
      ],
      "metadata": {
        "id": "M5yHkPNiRDMM"
      },
      "execution_count": 49,
      "outputs": []
    },
    {
      "cell_type": "code",
      "source": [
        "info1.cource_detail = classmethod(cource_detail)"
      ],
      "metadata": {
        "id": "kN9yItB8Swz9"
      },
      "execution_count": 50,
      "outputs": []
    },
    {
      "cell_type": "code",
      "source": [
        "info1.cource_detail('Data science')"
      ],
      "metadata": {
        "colab": {
          "base_uri": "https://localhost:8080/"
        },
        "id": "VzgK4UzITBLT",
        "outputId": "76035e8a-acb8-4d93-b7ad-ac6a7cb33001"
      },
      "execution_count": 51,
      "outputs": [
        {
          "output_type": "stream",
          "name": "stdout",
          "text": [
            "Cource name is Data science\n"
          ]
        }
      ]
    },
    {
      "cell_type": "code",
      "source": [
        "class info2:\n",
        "  mob_no = 8523649746\n",
        "\n",
        "  def __init__(self,name,email):\n",
        "\n",
        "    self.name = name \n",
        "    self.email = email\n",
        "\n",
        "  def deail(self):\n",
        "    return self.name , self.email\n",
        "    \n",
        "\n",
        "  @classmethod\n",
        "  def change_no(cls , no):\n",
        "    info1.mob_no = no\n",
        "\n",
        "  @classmethod\n",
        "  def deco_datail(cls , name , email):\n",
        "    return cls(name,email)\n"
      ],
      "metadata": {
        "id": "glJuQJZZTb_g"
      },
      "execution_count": 74,
      "outputs": []
    },
    {
      "cell_type": "code",
      "source": [
        "#deleting the function from class\n",
        "del info2.change_no"
      ],
      "metadata": {
        "id": "ZvYA_6D2UJWg"
      },
      "execution_count": 75,
      "outputs": []
    },
    {
      "cell_type": "code",
      "source": [
        "info2.change_no(5454661616)"
      ],
      "metadata": {
        "colab": {
          "base_uri": "https://localhost:8080/",
          "height": 165
        },
        "id": "bg9-h6VvUPt4",
        "outputId": "57812e2d-05b5-428b-e808-a898b8d165f2"
      },
      "execution_count": 76,
      "outputs": [
        {
          "output_type": "error",
          "ename": "AttributeError",
          "evalue": "ignored",
          "traceback": [
            "\u001b[0;31m---------------------------------------------------------------------------\u001b[0m",
            "\u001b[0;31mAttributeError\u001b[0m                            Traceback (most recent call last)",
            "\u001b[0;32m<ipython-input-76-b56ccb709a73>\u001b[0m in \u001b[0;36m<cell line: 1>\u001b[0;34m()\u001b[0m\n\u001b[0;32m----> 1\u001b[0;31m \u001b[0minfo2\u001b[0m\u001b[0;34m.\u001b[0m\u001b[0mchange_no\u001b[0m\u001b[0;34m(\u001b[0m\u001b[0;36m5454661616\u001b[0m\u001b[0;34m)\u001b[0m\u001b[0;34m\u001b[0m\u001b[0;34m\u001b[0m\u001b[0m\n\u001b[0m",
            "\u001b[0;31mAttributeError\u001b[0m: type object 'info2' has no attribute 'change_no'"
          ]
        }
      ]
    },
    {
      "cell_type": "code",
      "source": [
        "# Other method to delet\n",
        "delattr(info2 , mob_no )"
      ],
      "metadata": {
        "colab": {
          "base_uri": "https://localhost:8080/",
          "height": 183
        },
        "id": "JyBMWtU7UT0I",
        "outputId": "39bb276d-f094-49b5-d6fc-dc3451f5ce86"
      },
      "execution_count": 77,
      "outputs": [
        {
          "output_type": "error",
          "ename": "NameError",
          "evalue": "ignored",
          "traceback": [
            "\u001b[0;31m---------------------------------------------------------------------------\u001b[0m",
            "\u001b[0;31mNameError\u001b[0m                                 Traceback (most recent call last)",
            "\u001b[0;32m<ipython-input-77-dec191195052>\u001b[0m in \u001b[0;36m<cell line: 2>\u001b[0;34m()\u001b[0m\n\u001b[1;32m      1\u001b[0m \u001b[0;31m# Other method to delet\u001b[0m\u001b[0;34m\u001b[0m\u001b[0;34m\u001b[0m\u001b[0m\n\u001b[0;32m----> 2\u001b[0;31m \u001b[0mdelattr\u001b[0m\u001b[0;34m(\u001b[0m\u001b[0minfo2\u001b[0m \u001b[0;34m,\u001b[0m \u001b[0mmob_no\u001b[0m \u001b[0;34m)\u001b[0m\u001b[0;34m\u001b[0m\u001b[0;34m\u001b[0m\u001b[0m\n\u001b[0m",
            "\u001b[0;31mNameError\u001b[0m: name 'mob_no' is not defined"
          ]
        }
      ]
    },
    {
      "cell_type": "code",
      "source": [
        "delattr(info2 , 'mob_no' ) #pass function as string"
      ],
      "metadata": {
        "id": "c398kPk6VKMx"
      },
      "execution_count": 78,
      "outputs": []
    },
    {
      "cell_type": "code",
      "source": [
        "info2.mob_no"
      ],
      "metadata": {
        "colab": {
          "base_uri": "https://localhost:8080/",
          "height": 165
        },
        "id": "VpMhWv-EVo6R",
        "outputId": "cb8e5502-0e74-499b-b49f-0a95e4e13b24"
      },
      "execution_count": 79,
      "outputs": [
        {
          "output_type": "error",
          "ename": "AttributeError",
          "evalue": "ignored",
          "traceback": [
            "\u001b[0;31m---------------------------------------------------------------------------\u001b[0m",
            "\u001b[0;31mAttributeError\u001b[0m                            Traceback (most recent call last)",
            "\u001b[0;32m<ipython-input-79-31eb6e95d3c6>\u001b[0m in \u001b[0;36m<cell line: 1>\u001b[0;34m()\u001b[0m\n\u001b[0;32m----> 1\u001b[0;31m \u001b[0minfo2\u001b[0m\u001b[0;34m.\u001b[0m\u001b[0mmob_no\u001b[0m\u001b[0;34m\u001b[0m\u001b[0;34m\u001b[0m\u001b[0m\n\u001b[0m",
            "\u001b[0;31mAttributeError\u001b[0m: type object 'info2' has no attribute 'mob_no'"
          ]
        }
      ]
    },
    {
      "cell_type": "code",
      "source": [],
      "metadata": {
        "id": "krUzoFd2VorJ"
      },
      "execution_count": null,
      "outputs": []
    },
    {
      "cell_type": "markdown",
      "source": [
        "# ----------------------------------------------------------------------------------"
      ],
      "metadata": {
        "id": "Dxhi657lXna2"
      }
    },
    {
      "cell_type": "markdown",
      "source": [
        "#Static Method"
      ],
      "metadata": {
        "id": "K-EgeU5zXtr5"
      }
    },
    {
      "cell_type": "markdown",
      "source": [
        "In object-oriented programming (OOP) in Python, static methods are methods defined within a class that do not have access to the instance or class itself. They are defined using the `@staticmethod` decorator and are typically used to encapsulate functionality that does not require access to instance-specific or class-specific data.\n",
        "\n",
        "Here's an example that demonstrates the usage of static methods in Python:\n",
        "\n",
        "```python\n",
        "class MyClass:\n",
        "    class_variable = \"This is a class variable\"\n",
        "\n",
        "    def __init__(self, instance_variable):\n",
        "        self.instance_variable = instance_variable\n",
        "\n",
        "    @staticmethod\n",
        "    def static_method():\n",
        "        print(\"This is a static method\")\n",
        "\n",
        "    def instance_method(self):\n",
        "        print(\"This is an instance method\")\n",
        "        print(self.instance_variable)\n",
        "\n",
        "# Accessing class variable\n",
        "print(MyClass.class_variable)\n",
        "\n",
        "# Calling static method\n",
        "MyClass.static_method()\n",
        "\n",
        "# Creating an instance of MyClass\n",
        "my_instance = MyClass(\"Instance data\")\n",
        "\n",
        "# Calling instance method\n",
        "my_instance.instance_method()\n",
        "```\n",
        "\n",
        "In the above code, we define a class called `MyClass`. Inside the class, we have a class variable `class_variable`, an instance variable `instance_variable`, and two methods: `static_method` and `instance_method`.\n",
        "\n",
        "The `static_method` is defined with the `@staticmethod` decorator, which makes it a static method. Static methods can be accessed using the class name (`MyClass.static_method()`). Unlike instance methods, static methods do not have access to instance-specific data or class-level data. They are similar to regular functions defined outside the class, but they are enclosed within the class for better organization and encapsulation.\n",
        "\n",
        "The `instance_method` is a regular instance method that operates on individual instances of the class. It can access instance-specific data (in this case, `instance_variable`).\n",
        "\n",
        "In the code snippet, we first access the class variable `class_variable` directly using the class name. Then, we call the static method `static_method()` using the class name as well. The static method does not have access to class-level variables and cannot access the instance-specific variable.\n",
        "\n",
        "Next, we create an instance of the class (`my_instance`) and call the instance method `instance_method()` on it. The instance method can access the instance-specific variable and print its value.\n",
        "\n",
        "Output:\n",
        "```\n",
        "This is a class variable\n",
        "This is a static method\n",
        "This is an instance method\n",
        "Instance data\n",
        "```\n",
        "\n",
        "Static methods are useful when you want to define methods that are independent of the instance or class and do not require access to instance-specific or class-specific data. They provide a way to encapsulate utility functions or operations that are not tied to any particular instance or class state."
      ],
      "metadata": {
        "id": "oklX0SfvXp4r"
      }
    },
    {
      "cell_type": "code",
      "source": [
        "class cource:\n",
        "  def __init__(self,name,email):\n",
        "    self.name = name \n",
        "    self.email = email\n",
        "\n",
        "  def deail(self):\n",
        "    return self.name , self.email"
      ],
      "metadata": {
        "id": "bj1ARCXzX9fX"
      },
      "execution_count": 80,
      "outputs": []
    },
    {
      "cell_type": "code",
      "source": [
        "obj2 = cource('kuldeep','kukdeeprajak@12032003')"
      ],
      "metadata": {
        "id": "ACN2NMc3X9b0"
      },
      "execution_count": 82,
      "outputs": []
    },
    {
      "cell_type": "code",
      "source": [
        "obj2.deail()"
      ],
      "metadata": {
        "colab": {
          "base_uri": "https://localhost:8080/"
        },
        "id": "LsESujbBX9NV",
        "outputId": "46568efc-c38a-4822-df8d-306fc0358159"
      },
      "execution_count": 84,
      "outputs": [
        {
          "output_type": "execute_result",
          "data": {
            "text/plain": [
              "('kuldeep', 'kukdeeprajak@12032003')"
            ]
          },
          "metadata": {},
          "execution_count": 84
        }
      ]
    },
    {
      "cell_type": "code",
      "source": [
        "class cource1:\n",
        "  def __init__(self,name,email):\n",
        "    self.name = name \n",
        "    self.email = email\n",
        "\n",
        "  def deail(self):\n",
        "    return self.name , self.email\n",
        "\n",
        "  @staticmethod\n",
        "  def mentore(mentor_list):\n",
        "    print(mentor_list)\n",
        "\n",
        "  @staticmethod\n",
        "  def mentore_id(Email_list):\n",
        "    cource1.mentore(['sudh','Krish']) #calling ststic method inside a staticmethod\n",
        "\n",
        "    print(Email_list)\n",
        "\n",
        "\n",
        "\n",
        "  @classmethod\n",
        "  def class_name(cls):\n",
        "    cls.mentore(['sudh','Krish'])\n",
        "\n",
        "  def mentor_name(self):\n",
        "    return self.mentore(['sudh','Krish'])  #calling ststic method inside a function \n"
      ],
      "metadata": {
        "id": "MqSlmFaXX9KA"
      },
      "execution_count": 112,
      "outputs": []
    },
    {
      "cell_type": "code",
      "source": [
        "cource1.mentore(['sudhansu','Krish'])"
      ],
      "metadata": {
        "colab": {
          "base_uri": "https://localhost:8080/"
        },
        "id": "lm97jeDaX9H0",
        "outputId": "d853adc9-b961-4d67-f250-bca64623bfbc"
      },
      "execution_count": 113,
      "outputs": [
        {
          "output_type": "stream",
          "name": "stdout",
          "text": [
            "['sudhansu', 'Krish']\n"
          ]
        }
      ]
    },
    {
      "cell_type": "code",
      "source": [
        "cource1.class_name()"
      ],
      "metadata": {
        "colab": {
          "base_uri": "https://localhost:8080/"
        },
        "id": "An3JHQpgX85j",
        "outputId": "b0ff125a-1cb7-4407-b184-dc385d969662"
      },
      "execution_count": 114,
      "outputs": [
        {
          "output_type": "stream",
          "name": "stdout",
          "text": [
            "['sudh', 'Krish']\n"
          ]
        }
      ]
    },
    {
      "cell_type": "code",
      "source": [
        "cource1.mentore_id(['sud@12933','krish@!322'])"
      ],
      "metadata": {
        "colab": {
          "base_uri": "https://localhost:8080/"
        },
        "id": "yx3klTQCX81_",
        "outputId": "8400bf41-76dd-4ad7-e058-25eca6f4aed2"
      },
      "execution_count": 115,
      "outputs": [
        {
          "output_type": "stream",
          "name": "stdout",
          "text": [
            "['sudh', 'Krish']\n",
            "['sud@12933', 'krish@!322']\n"
          ]
        }
      ]
    },
    {
      "cell_type": "code",
      "source": [
        "pw = cource1('sudh','Krish@1234')"
      ],
      "metadata": {
        "id": "ir1wWonbX8z_"
      },
      "execution_count": 116,
      "outputs": []
    },
    {
      "cell_type": "code",
      "source": [
        "pw.mentor_name()"
      ],
      "metadata": {
        "colab": {
          "base_uri": "https://localhost:8080/"
        },
        "id": "ewn6jrp9bsK-",
        "outputId": "2a895cd3-ba6b-41ea-ddd0-2e6642d637dd"
      },
      "execution_count": 110,
      "outputs": [
        {
          "output_type": "stream",
          "name": "stdout",
          "text": [
            "['sudh', 'Krish']\n"
          ]
        }
      ]
    },
    {
      "cell_type": "code",
      "source": [],
      "metadata": {
        "id": "gcjr9rogby-t"
      },
      "execution_count": null,
      "outputs": []
    },
    {
      "cell_type": "markdown",
      "source": [
        "#-------------------------------------------------------------------------------------"
      ],
      "metadata": {
        "id": "uGHF6mK9clfV"
      }
    },
    {
      "cell_type": "markdown",
      "source": [
        "# Special (Magic Dunder) Methods"
      ],
      "metadata": {
        "id": "yqhMb-pWcn03"
      }
    },
    {
      "cell_type": "markdown",
      "source": [
        "In object-oriented programming (OOP) in Python, special methods, also known as magic methods or dunder methods, are predefined methods with double underscores (dunder) at the beginning and end of their names. These methods provide a way to define and customize the behavior of classes and objects in various scenarios.\n",
        "\n",
        "Here are some commonly used special methods in Python:\n",
        "\n",
        "1. `__init__(self, ...)`: The initialization method, commonly known as the constructor, is called when an object is created from a class. It is used to initialize the object's attributes and perform any necessary setup.\n",
        "\n",
        "2. `__str__(self)`: The string representation method is called by the `str()` function and provides a human-readable string representation of the object. It is commonly used for debugging and displaying meaningful information about the object.\n",
        "\n",
        "3. `__repr__(self)`: The representation method is called by the `repr()` function and provides a detailed string representation of the object. It is typically used to generate a string that can be used to recreate the object.\n",
        "\n",
        "4. `__len__(self)`: The length method is called by the `len()` function and returns the length of the object. It is commonly used to implement the length behavior for custom containers or collections.\n",
        "\n",
        "5. `__getitem__(self, key)`: The indexing method is called when an object is accessed using square brackets with an index or key. It allows objects to support indexing and provides custom behavior when accessing elements.\n",
        "\n",
        "6. `__setitem__(self, key, value)`: The item assignment method is called when an object is assigned a value using square brackets with an index or key. It allows objects to support item assignment and provides custom behavior when assigning values.\n",
        "\n",
        "7. `__del__(self)`: The deletion method is called when an object is about to be deleted or garbage-collected. It can be used to perform any necessary cleanup actions.\n",
        "\n",
        "These are just a few examples of the many special methods available in Python. Each special method serves a specific purpose and allows classes and objects to behave in a way that is intuitive and consistent with the Python language.\n",
        "\n",
        "By implementing these special methods, you can customize the behavior of your classes, enabling them to interact seamlessly with built-in functions and operators, such as `str()`, `len()`, indexing, iteration, comparison, and more. Special methods are an essential part of Python's object-oriented paradigm and provide a powerful way to make your code more expressive and flexible."
      ],
      "metadata": {
        "id": "76T87mKqcwJm"
      }
    },
    {
      "cell_type": "code",
      "source": [
        "dir(str)"
      ],
      "metadata": {
        "colab": {
          "base_uri": "https://localhost:8080/"
        },
        "id": "qT-n_5OPcnAZ",
        "outputId": "e0379dba-b62f-4048-acc2-54f0211065a2"
      },
      "execution_count": 117,
      "outputs": [
        {
          "output_type": "execute_result",
          "data": {
            "text/plain": [
              "['__add__',\n",
              " '__class__',\n",
              " '__contains__',\n",
              " '__delattr__',\n",
              " '__dir__',\n",
              " '__doc__',\n",
              " '__eq__',\n",
              " '__format__',\n",
              " '__ge__',\n",
              " '__getattribute__',\n",
              " '__getitem__',\n",
              " '__getnewargs__',\n",
              " '__gt__',\n",
              " '__hash__',\n",
              " '__init__',\n",
              " '__init_subclass__',\n",
              " '__iter__',\n",
              " '__le__',\n",
              " '__len__',\n",
              " '__lt__',\n",
              " '__mod__',\n",
              " '__mul__',\n",
              " '__ne__',\n",
              " '__new__',\n",
              " '__reduce__',\n",
              " '__reduce_ex__',\n",
              " '__repr__',\n",
              " '__rmod__',\n",
              " '__rmul__',\n",
              " '__setattr__',\n",
              " '__sizeof__',\n",
              " '__str__',\n",
              " '__subclasshook__',\n",
              " 'capitalize',\n",
              " 'casefold',\n",
              " 'center',\n",
              " 'count',\n",
              " 'encode',\n",
              " 'endswith',\n",
              " 'expandtabs',\n",
              " 'find',\n",
              " 'format',\n",
              " 'format_map',\n",
              " 'index',\n",
              " 'isalnum',\n",
              " 'isalpha',\n",
              " 'isascii',\n",
              " 'isdecimal',\n",
              " 'isdigit',\n",
              " 'isidentifier',\n",
              " 'islower',\n",
              " 'isnumeric',\n",
              " 'isprintable',\n",
              " 'isspace',\n",
              " 'istitle',\n",
              " 'isupper',\n",
              " 'join',\n",
              " 'ljust',\n",
              " 'lower',\n",
              " 'lstrip',\n",
              " 'maketrans',\n",
              " 'partition',\n",
              " 'removeprefix',\n",
              " 'removesuffix',\n",
              " 'replace',\n",
              " 'rfind',\n",
              " 'rindex',\n",
              " 'rjust',\n",
              " 'rpartition',\n",
              " 'rsplit',\n",
              " 'rstrip',\n",
              " 'split',\n",
              " 'splitlines',\n",
              " 'startswith',\n",
              " 'strip',\n",
              " 'swapcase',\n",
              " 'title',\n",
              " 'translate',\n",
              " 'upper',\n",
              " 'zfill']"
            ]
          },
          "metadata": {},
          "execution_count": 117
        }
      ]
    },
    {
      "cell_type": "code",
      "source": [
        "dir(int)"
      ],
      "metadata": {
        "colab": {
          "base_uri": "https://localhost:8080/"
        },
        "id": "5KDll5DVdC5T",
        "outputId": "88c33062-c5bc-4520-b0fe-f223e5cc8c59"
      },
      "execution_count": 120,
      "outputs": [
        {
          "output_type": "execute_result",
          "data": {
            "text/plain": [
              "['__abs__',\n",
              " '__add__',\n",
              " '__and__',\n",
              " '__bool__',\n",
              " '__ceil__',\n",
              " '__class__',\n",
              " '__delattr__',\n",
              " '__dir__',\n",
              " '__divmod__',\n",
              " '__doc__',\n",
              " '__eq__',\n",
              " '__float__',\n",
              " '__floor__',\n",
              " '__floordiv__',\n",
              " '__format__',\n",
              " '__ge__',\n",
              " '__getattribute__',\n",
              " '__getnewargs__',\n",
              " '__gt__',\n",
              " '__hash__',\n",
              " '__index__',\n",
              " '__init__',\n",
              " '__init_subclass__',\n",
              " '__int__',\n",
              " '__invert__',\n",
              " '__le__',\n",
              " '__lshift__',\n",
              " '__lt__',\n",
              " '__mod__',\n",
              " '__mul__',\n",
              " '__ne__',\n",
              " '__neg__',\n",
              " '__new__',\n",
              " '__or__',\n",
              " '__pos__',\n",
              " '__pow__',\n",
              " '__radd__',\n",
              " '__rand__',\n",
              " '__rdivmod__',\n",
              " '__reduce__',\n",
              " '__reduce_ex__',\n",
              " '__repr__',\n",
              " '__rfloordiv__',\n",
              " '__rlshift__',\n",
              " '__rmod__',\n",
              " '__rmul__',\n",
              " '__ror__',\n",
              " '__round__',\n",
              " '__rpow__',\n",
              " '__rrshift__',\n",
              " '__rshift__',\n",
              " '__rsub__',\n",
              " '__rtruediv__',\n",
              " '__rxor__',\n",
              " '__setattr__',\n",
              " '__sizeof__',\n",
              " '__str__',\n",
              " '__sub__',\n",
              " '__subclasshook__',\n",
              " '__truediv__',\n",
              " '__trunc__',\n",
              " '__xor__',\n",
              " 'as_integer_ratio',\n",
              " 'bit_count',\n",
              " 'bit_length',\n",
              " 'conjugate',\n",
              " 'denominator',\n",
              " 'from_bytes',\n",
              " 'imag',\n",
              " 'numerator',\n",
              " 'real',\n",
              " 'to_bytes']"
            ]
          },
          "metadata": {},
          "execution_count": 120
        }
      ]
    },
    {
      "cell_type": "code",
      "source": [
        "4+5"
      ],
      "metadata": {
        "colab": {
          "base_uri": "https://localhost:8080/"
        },
        "id": "9m2YlqrHdENx",
        "outputId": "35465a3c-767a-44b5-f7a1-2bbc63cfa628"
      },
      "execution_count": 121,
      "outputs": [
        {
          "output_type": "execute_result",
          "data": {
            "text/plain": [
              "9"
            ]
          },
          "metadata": {},
          "execution_count": 121
        }
      ]
    },
    {
      "cell_type": "code",
      "source": [
        "a = 5"
      ],
      "metadata": {
        "id": "_-N0wFWTdnCv"
      },
      "execution_count": 122,
      "outputs": []
    },
    {
      "cell_type": "code",
      "source": [
        "a.__add__(5)"
      ],
      "metadata": {
        "colab": {
          "base_uri": "https://localhost:8080/"
        },
        "id": "iVvpgH9RdZBj",
        "outputId": "5da0d099-8afb-46de-a71d-56bbdd2487b3"
      },
      "execution_count": 124,
      "outputs": [
        {
          "output_type": "execute_result",
          "data": {
            "text/plain": [
              "10"
            ]
          },
          "metadata": {},
          "execution_count": 124
        }
      ]
    },
    {
      "cell_type": "code",
      "source": [
        "class pwskills :\n",
        "    \n",
        "    def __new__(cls) : \n",
        "        print(\"this is my new\")\n",
        "        \n",
        "    \n",
        "    def __init__(self):\n",
        "        print(\"this is my init\")\n",
        "        \n",
        "        self.mobile_number = 92234242"
      ],
      "metadata": {
        "id": "2PRy01v7do5i"
      },
      "execution_count": 133,
      "outputs": []
    },
    {
      "cell_type": "code",
      "source": [
        "pw3 = pwskills()"
      ],
      "metadata": {
        "colab": {
          "base_uri": "https://localhost:8080/"
        },
        "id": "Jvgmtq57ekXI",
        "outputId": "91c48d83-bb17-427d-97e3-abe39049cff9"
      },
      "execution_count": 137,
      "outputs": [
        {
          "output_type": "stream",
          "name": "stdout",
          "text": [
            "this is my new\n"
          ]
        }
      ]
    },
    {
      "cell_type": "code",
      "source": [
        "pw3.mobile_number"
      ],
      "metadata": {
        "colab": {
          "base_uri": "https://localhost:8080/",
          "height": 165
        },
        "id": "WncmwnHaenHm",
        "outputId": "8d8af4d3-f492-4f9f-e0f0-6f75a2f1b883"
      },
      "execution_count": 139,
      "outputs": [
        {
          "output_type": "error",
          "ename": "AttributeError",
          "evalue": "ignored",
          "traceback": [
            "\u001b[0;31m---------------------------------------------------------------------------\u001b[0m",
            "\u001b[0;31mAttributeError\u001b[0m                            Traceback (most recent call last)",
            "\u001b[0;32m<ipython-input-139-ef0e728c116b>\u001b[0m in \u001b[0;36m<cell line: 1>\u001b[0;34m()\u001b[0m\n\u001b[0;32m----> 1\u001b[0;31m \u001b[0mpw3\u001b[0m\u001b[0;34m.\u001b[0m\u001b[0mmobile_number\u001b[0m\u001b[0;34m\u001b[0m\u001b[0;34m\u001b[0m\u001b[0m\n\u001b[0m",
            "\u001b[0;31mAttributeError\u001b[0m: 'NoneType' object has no attribute 'mobile_number'"
          ]
        }
      ]
    },
    {
      "cell_type": "code",
      "source": [
        "class pwskills1 :\n",
        "\n",
        "  \n",
        "    def __init__(self):\n",
        "        \n",
        "        \n",
        "        self.mobile_number = 92234242\n",
        "        \n",
        "    def __str__(self) : \n",
        "        return \"this is my magic call of str\""
      ],
      "metadata": {
        "id": "-5aiFCdEgSyx"
      },
      "execution_count": null,
      "outputs": []
    },
    {
      "cell_type": "code",
      "source": [
        "pw1 = pwskills1()"
      ],
      "metadata": {
        "id": "03fRb948gWXV"
      },
      "execution_count": null,
      "outputs": []
    },
    {
      "cell_type": "code",
      "source": [
        "pw1\n"
      ],
      "metadata": {
        "colab": {
          "base_uri": "https://localhost:8080/",
          "height": 165
        },
        "id": "Aw49izRrgYVz",
        "outputId": "f882e6c7-9180-4af1-e315-e30c3dbd58c6"
      },
      "execution_count": 140,
      "outputs": [
        {
          "output_type": "error",
          "ename": "NameError",
          "evalue": "ignored",
          "traceback": [
            "\u001b[0;31m---------------------------------------------------------------------------\u001b[0m",
            "\u001b[0;31mNameError\u001b[0m                                 Traceback (most recent call last)",
            "\u001b[0;32m<ipython-input-140-d04527b5a666>\u001b[0m in \u001b[0;36m<cell line: 1>\u001b[0;34m()\u001b[0m\n\u001b[0;32m----> 1\u001b[0;31m \u001b[0mpw1\u001b[0m\u001b[0;34m\u001b[0m\u001b[0;34m\u001b[0m\u001b[0m\n\u001b[0m",
            "\u001b[0;31mNameError\u001b[0m: name 'pw1' is not defined"
          ]
        }
      ]
    },
    {
      "cell_type": "code",
      "source": [
        "print(pw1)"
      ],
      "metadata": {
        "colab": {
          "base_uri": "https://localhost:8080/",
          "height": 165
        },
        "id": "7XrBVR0ygYQN",
        "outputId": "108722ac-daca-4c38-f40d-fe6e910ecb62"
      },
      "execution_count": 141,
      "outputs": [
        {
          "output_type": "error",
          "ename": "NameError",
          "evalue": "ignored",
          "traceback": [
            "\u001b[0;31m---------------------------------------------------------------------------\u001b[0m",
            "\u001b[0;31mNameError\u001b[0m                                 Traceback (most recent call last)",
            "\u001b[0;32m<ipython-input-141-dfb50dce4c1d>\u001b[0m in \u001b[0;36m<cell line: 1>\u001b[0;34m()\u001b[0m\n\u001b[0;32m----> 1\u001b[0;31m \u001b[0mprint\u001b[0m\u001b[0;34m(\u001b[0m\u001b[0mpw1\u001b[0m\u001b[0;34m)\u001b[0m\u001b[0;34m\u001b[0m\u001b[0;34m\u001b[0m\u001b[0m\n\u001b[0m",
            "\u001b[0;31mNameError\u001b[0m: name 'pw1' is not defined"
          ]
        }
      ]
    },
    {
      "cell_type": "code",
      "source": [],
      "metadata": {
        "id": "WVxpPnWygcVA"
      },
      "execution_count": null,
      "outputs": []
    },
    {
      "cell_type": "markdown",
      "source": [
        "# ---------------------------------------------------------------------------------------"
      ],
      "metadata": {
        "id": "5UIUEHr5h1KQ"
      }
    },
    {
      "cell_type": "markdown",
      "source": [
        "# Property Decorators Getters, Setters, And Deletes\n"
      ],
      "metadata": {
        "id": "srLzXJKljfsK"
      }
    },
    {
      "cell_type": "markdown",
      "source": [
        "In object-oriented programming (OOP) in Python, property decorators are used to define getter, setter, and deleter methods for class attributes. They provide a way to encapsulate attribute access and modification, allowing for controlled and consistent interaction with class properties.\n",
        "\n",
        "Here's an example that demonstrates the usage of property decorators in Python:\n",
        "\n",
        "```python\n",
        "class Circle:\n",
        "    def __init__(self, radius):\n",
        "        self.radius = radius\n",
        "\n",
        "    @property\n",
        "    def radius(self):\n",
        "        return self._radius\n",
        "\n",
        "    @radius.setter\n",
        "    def radius(self, value):\n",
        "        if value < 0:\n",
        "            raise ValueError(\"Radius cannot be negative\")\n",
        "        self._radius = value\n",
        "\n",
        "    @radius.deleter\n",
        "    def radius(self):\n",
        "        del self._radius\n",
        "\n",
        "    @property\n",
        "    def area(self):\n",
        "        return 3.14 * self.radius**2\n",
        "\n",
        "# Create an instance of Circle\n",
        "circle = Circle(5)\n",
        "\n",
        "# Accessing the radius attribute using the getter\n",
        "print(circle.radius)  # Output: 5\n",
        "\n",
        "# Accessing the area attribute using the getter\n",
        "print(circle.area)  # Output: 78.5\n",
        "\n",
        "# Updating the radius attribute using the setter\n",
        "circle.radius = 7\n",
        "\n",
        "# Accessing the updated radius and area attributes\n",
        "print(circle.radius)  # Output: 7\n",
        "print(circle.area)  # Output: 153.86\n",
        "\n",
        "# Deleting the radius attribute using the deleter\n",
        "del circle.radius\n",
        "\n",
        "# Trying to access the deleted radius attribute will raise an AttributeError\n",
        "print(circle.radius)  # Raises AttributeError\n",
        "```\n",
        "\n",
        "In the above code, we have a class `Circle` that represents a circle with a radius. The `radius` attribute is encapsulated using property decorators.\n",
        "\n",
        "The `@property` decorator is used to define a getter method for the `radius` attribute. The getter method has the same name as the attribute and returns the value of the private variable `_radius`.\n",
        "\n",
        "The `@radius.setter` decorator is used to define a setter method for the `radius` attribute. The setter method also has the same name as the attribute, and it performs validation before setting the value of the private variable `_radius`.\n",
        "\n",
        "The `@radius.deleter` decorator is used to define a deleter method for the `radius` attribute. The deleter method is called when the attribute is deleted using the `del` statement.\n",
        "\n",
        "Additionally, we have a `@property` decorator for the `area` attribute. This allows us to define a computed attribute that is dynamically calculated based on the value of the `radius` attribute.\n",
        "\n",
        "Using these property decorators, we can access and modify the `radius` attribute as if it were a regular attribute, while still allowing for custom validation and encapsulation.\n",
        "\n",
        "Output:\n",
        "```\n",
        "5\n",
        "78.5\n",
        "7\n",
        "153.86\n",
        "AttributeError: 'Circle' object has no attribute 'radius'\n",
        "```\n",
        "\n",
        "In summary, property decorators in Python provide a way to define getter, setter, and deleter methods for class attributes. They allow for controlled access and modification of class properties, while providing flexibility for validation and computed attributes. Property decorators help in encapsulating the internal implementation details and provide a clean and intuitive interface for interacting with class attributes."
      ],
      "metadata": {
        "id": "yjMNczzEh3bZ"
      }
    },
    {
      "cell_type": "code",
      "source": [
        "class pwskills5 :\n",
        "    \n",
        "    def __init__(self , course_price , coruse_name):\n",
        "        \n",
        "        self.__course_price = course_price\n",
        "        self.course_name = coruse_name\n",
        "        \n",
        "    @property\n",
        "    def course_price_access(self) : \n",
        "        return self.__course_price\n",
        "    \n",
        "    @course_price_access.setter\n",
        "    def course_price_set(self , price ):\n",
        "        if price <= 3500:\n",
        "            pass\n",
        "        else :\n",
        "            self.__course_price = price\n",
        "            \n",
        "    @course_price_access.deleter\n",
        "    def delete_course_price(self) : \n",
        "        del self.__course_price\n",
        "    \n",
        "    "
      ],
      "metadata": {
        "id": "4vhgikZGiQ3Z"
      },
      "execution_count": 147,
      "outputs": []
    },
    {
      "cell_type": "code",
      "source": [
        "pw5 = pwskills5(3500 , \"data science masters\")"
      ],
      "metadata": {
        "id": "IO8OrzLUlUy3"
      },
      "execution_count": 148,
      "outputs": []
    },
    {
      "cell_type": "code",
      "source": [
        "pw5.course_price_access"
      ],
      "metadata": {
        "colab": {
          "base_uri": "https://localhost:8080/"
        },
        "id": "SVYZsaXXlUt2",
        "outputId": "b4d56974-8a69-4477-bc64-a210918ff28d"
      },
      "execution_count": 149,
      "outputs": [
        {
          "output_type": "execute_result",
          "data": {
            "text/plain": [
              "3500"
            ]
          },
          "metadata": {},
          "execution_count": 149
        }
      ]
    },
    {
      "cell_type": "code",
      "source": [
        "del pw5.delete_course_price"
      ],
      "metadata": {
        "id": "m-vEA0uwlUn4"
      },
      "execution_count": 150,
      "outputs": []
    },
    {
      "cell_type": "code",
      "source": [
        "pw5.course_price_access"
      ],
      "metadata": {
        "colab": {
          "base_uri": "https://localhost:8080/",
          "height": 287
        },
        "id": "p4wPWwtdlUaR",
        "outputId": "3bfa8d82-83f9-44ed-b377-8d500f09bbd2"
      },
      "execution_count": 151,
      "outputs": [
        {
          "output_type": "error",
          "ename": "AttributeError",
          "evalue": "ignored",
          "traceback": [
            "\u001b[0;31m---------------------------------------------------------------------------\u001b[0m",
            "\u001b[0;31mAttributeError\u001b[0m                            Traceback (most recent call last)",
            "\u001b[0;32m<ipython-input-151-47d28809e17a>\u001b[0m in \u001b[0;36m<cell line: 1>\u001b[0;34m()\u001b[0m\n\u001b[0;32m----> 1\u001b[0;31m \u001b[0mpw5\u001b[0m\u001b[0;34m.\u001b[0m\u001b[0mcourse_price_access\u001b[0m\u001b[0;34m\u001b[0m\u001b[0;34m\u001b[0m\u001b[0m\n\u001b[0m",
            "\u001b[0;32m<ipython-input-147-0bd7025fc7e6>\u001b[0m in \u001b[0;36mcourse_price_access\u001b[0;34m(self)\u001b[0m\n\u001b[1;32m      8\u001b[0m     \u001b[0;34m@\u001b[0m\u001b[0mproperty\u001b[0m\u001b[0;34m\u001b[0m\u001b[0;34m\u001b[0m\u001b[0m\n\u001b[1;32m      9\u001b[0m     \u001b[0;32mdef\u001b[0m \u001b[0mcourse_price_access\u001b[0m\u001b[0;34m(\u001b[0m\u001b[0mself\u001b[0m\u001b[0;34m)\u001b[0m \u001b[0;34m:\u001b[0m\u001b[0;34m\u001b[0m\u001b[0;34m\u001b[0m\u001b[0m\n\u001b[0;32m---> 10\u001b[0;31m         \u001b[0;32mreturn\u001b[0m \u001b[0mself\u001b[0m\u001b[0;34m.\u001b[0m\u001b[0m__course_price\u001b[0m\u001b[0;34m\u001b[0m\u001b[0;34m\u001b[0m\u001b[0m\n\u001b[0m\u001b[1;32m     11\u001b[0m \u001b[0;34m\u001b[0m\u001b[0m\n\u001b[1;32m     12\u001b[0m     \u001b[0;34m@\u001b[0m\u001b[0mcourse_price_access\u001b[0m\u001b[0;34m.\u001b[0m\u001b[0msetter\u001b[0m\u001b[0;34m\u001b[0m\u001b[0;34m\u001b[0m\u001b[0m\n",
            "\u001b[0;31mAttributeError\u001b[0m: 'pwskills5' object has no attribute '_pwskills5__course_price'"
          ]
        }
      ]
    },
    {
      "cell_type": "code",
      "source": [],
      "metadata": {
        "id": "W4YVue3Tlf1x"
      },
      "execution_count": null,
      "outputs": []
    }
  ]
}