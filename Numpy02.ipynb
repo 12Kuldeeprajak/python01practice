{
 "cells": [
  {
   "cell_type": "code",
   "execution_count": 1,
   "id": "ef3b7a7b-1bf0-40f5-9e23-bed9babc8ac4",
   "metadata": {},
   "outputs": [],
   "source": [
    "#array manupilation\n"
   ]
  },
  {
   "cell_type": "code",
   "execution_count": 2,
   "id": "4badcb88-1853-405d-a96a-d526c62062ab",
   "metadata": {},
   "outputs": [],
   "source": [
    "import numpy as np\n"
   ]
  },
  {
   "cell_type": "code",
   "execution_count": 3,
   "id": "d281c52b-bdd0-4104-b0a9-24307997fbe0",
   "metadata": {},
   "outputs": [],
   "source": [
    "arr = np.random.randint(1,10,(3,4))"
   ]
  },
  {
   "cell_type": "code",
   "execution_count": 4,
   "id": "13529580-27c3-4fc2-a259-32ccb2d442c4",
   "metadata": {},
   "outputs": [
    {
     "data": {
      "text/plain": [
       "array([[2, 6, 2, 7],\n",
       "       [9, 8, 2, 7],\n",
       "       [6, 1, 3, 1]])"
      ]
     },
     "execution_count": 4,
     "metadata": {},
     "output_type": "execute_result"
    }
   ],
   "source": [
    "arr"
   ]
  },
  {
   "cell_type": "code",
   "execution_count": 5,
   "id": "1956330c-1489-47d0-9374-6106d0aa5020",
   "metadata": {},
   "outputs": [
    {
     "data": {
      "text/plain": [
       "array([[2, 6],\n",
       "       [2, 7],\n",
       "       [9, 8],\n",
       "       [2, 7],\n",
       "       [6, 1],\n",
       "       [3, 1]])"
      ]
     },
     "execution_count": 5,
     "metadata": {},
     "output_type": "execute_result"
    }
   ],
   "source": [
    "arr.reshape(6,2)"
   ]
  },
  {
   "cell_type": "code",
   "execution_count": 6,
   "id": "22beb8e3-7b55-4469-b660-d1c5ec18ba34",
   "metadata": {},
   "outputs": [
    {
     "data": {
      "text/plain": [
       "array([[2, 9, 6],\n",
       "       [6, 8, 1],\n",
       "       [2, 2, 3],\n",
       "       [7, 7, 1]])"
      ]
     },
     "execution_count": 6,
     "metadata": {},
     "output_type": "execute_result"
    }
   ],
   "source": [
    "arr.T"
   ]
  },
  {
   "cell_type": "code",
   "execution_count": 7,
   "id": "f769e05a-e43e-452c-b6df-7abfb9da9373",
   "metadata": {},
   "outputs": [
    {
     "data": {
      "text/plain": [
       "array([2, 6, 2, 7, 9, 8, 2, 7, 6, 1, 3, 1])"
      ]
     },
     "execution_count": 7,
     "metadata": {},
     "output_type": "execute_result"
    }
   ],
   "source": [
    "#we can convert 2d into 1 d\n",
    "arr.flatten()"
   ]
  },
  {
   "cell_type": "code",
   "execution_count": 8,
   "id": "acae583e-6f44-442e-b797-0a7afcedd7a8",
   "metadata": {},
   "outputs": [
    {
     "data": {
      "text/plain": [
       "2"
      ]
     },
     "execution_count": 8,
     "metadata": {},
     "output_type": "execute_result"
    }
   ],
   "source": [
    "arr.ndim"
   ]
  },
  {
   "cell_type": "code",
   "execution_count": 9,
   "id": "b724abd0-2aa5-42d1-a4b1-8aae325227d4",
   "metadata": {},
   "outputs": [],
   "source": [
    "arr2 = np.array([2,3,5,4])"
   ]
  },
  {
   "cell_type": "code",
   "execution_count": 10,
   "id": "12d5dbef-4032-4f41-a56d-2d4a4defa1f1",
   "metadata": {},
   "outputs": [
    {
     "data": {
      "text/plain": [
       "1"
      ]
     },
     "execution_count": 10,
     "metadata": {},
     "output_type": "execute_result"
    }
   ],
   "source": [
    "arr2.ndim"
   ]
  },
  {
   "cell_type": "code",
   "execution_count": 11,
   "id": "e6409417-5db5-4b3c-aaae-12bfdded362b",
   "metadata": {},
   "outputs": [
    {
     "data": {
      "text/plain": [
       "array([[2],\n",
       "       [3],\n",
       "       [5],\n",
       "       [4]])"
      ]
     },
     "execution_count": 11,
     "metadata": {},
     "output_type": "execute_result"
    }
   ],
   "source": [
    "np.expand_dims(arr2,axis=1)"
   ]
  },
  {
   "cell_type": "code",
   "execution_count": 12,
   "id": "fd1d56d3-eeda-4865-a6b2-b600f7bea7b4",
   "metadata": {},
   "outputs": [],
   "source": [
    "data = np.array([[1],[2],[3,]])"
   ]
  },
  {
   "cell_type": "code",
   "execution_count": 13,
   "id": "769d76b1-a9d7-4d11-9517-4a36b67a183c",
   "metadata": {},
   "outputs": [
    {
     "data": {
      "text/plain": [
       "array([[1],\n",
       "       [2],\n",
       "       [3]])"
      ]
     },
     "execution_count": 13,
     "metadata": {},
     "output_type": "execute_result"
    }
   ],
   "source": [
    "data"
   ]
  },
  {
   "cell_type": "code",
   "execution_count": 14,
   "id": "1708385b-c49b-42af-91b1-8fb5b51bab24",
   "metadata": {},
   "outputs": [
    {
     "data": {
      "text/plain": [
       "array([1, 2, 3])"
      ]
     },
     "execution_count": 14,
     "metadata": {},
     "output_type": "execute_result"
    }
   ],
   "source": [
    "data.squeeze()"
   ]
  },
  {
   "cell_type": "code",
   "execution_count": 15,
   "id": "917fab94-03ef-487c-8dd4-9f0ea953fc37",
   "metadata": {},
   "outputs": [
    {
     "data": {
      "text/plain": [
       "array([2, 2, 2, 3, 3, 3, 5, 5, 5, 4, 4, 4])"
      ]
     },
     "execution_count": 15,
     "metadata": {},
     "output_type": "execute_result"
    }
   ],
   "source": [
    "np.repeat(arr2 , 3)"
   ]
  },
  {
   "cell_type": "code",
   "execution_count": 17,
   "id": "1bc9edea-1287-43e5-8fca-f7591b0a8b05",
   "metadata": {},
   "outputs": [
    {
     "data": {
      "text/plain": [
       "array([5, 4, 2, 3])"
      ]
     },
     "execution_count": 17,
     "metadata": {},
     "output_type": "execute_result"
    }
   ],
   "source": [
    "np.roll(arr2 , 2)"
   ]
  },
  {
   "cell_type": "code",
   "execution_count": 18,
   "id": "8c3d8c72-164d-43ae-85f2-fb32dcb56b0c",
   "metadata": {},
   "outputs": [
    {
     "data": {
      "text/plain": [
       "array([[2, 0, 0, 0],\n",
       "       [0, 3, 0, 0],\n",
       "       [0, 0, 5, 0],\n",
       "       [0, 0, 0, 4]])"
      ]
     },
     "execution_count": 18,
     "metadata": {},
     "output_type": "execute_result"
    }
   ],
   "source": [
    "np.diag(arr2)"
   ]
  },
  {
   "cell_type": "code",
   "execution_count": 19,
   "id": "782414a2-38a5-4672-96c1-74109045042e",
   "metadata": {},
   "outputs": [
    {
     "data": {
      "text/plain": [
       "array([[ 4,  9,  7, 11],\n",
       "       [11, 11,  7, 11],\n",
       "       [ 8,  4,  8,  5]])"
      ]
     },
     "execution_count": 19,
     "metadata": {},
     "output_type": "execute_result"
    }
   ],
   "source": [
    "arr +arr2"
   ]
  },
  {
   "cell_type": "code",
   "execution_count": 20,
   "id": "a36f309a-ff53-4fed-80c9-d51e22c31f43",
   "metadata": {},
   "outputs": [
    {
     "data": {
      "text/plain": [
       "array([[ 4, 18, 10, 28],\n",
       "       [18, 24, 10, 28],\n",
       "       [12,  3, 15,  4]])"
      ]
     },
     "execution_count": 20,
     "metadata": {},
     "output_type": "execute_result"
    }
   ],
   "source": [
    "arr *arr2"
   ]
  },
  {
   "cell_type": "code",
   "execution_count": 21,
   "id": "3945bd21-2f65-4b8e-8718-bac773310bf8",
   "metadata": {},
   "outputs": [],
   "source": [
    "arr3 = np.array([\"kuldeep\",\"mAhiR \"])"
   ]
  },
  {
   "cell_type": "code",
   "execution_count": 22,
   "id": "3ae4cb6e-9bdb-49cb-9221-dc1d2f843ba3",
   "metadata": {},
   "outputs": [
    {
     "data": {
      "text/plain": [
       "array(['KULDEEP', 'MAHIR '], dtype='<U7')"
      ]
     },
     "execution_count": 22,
     "metadata": {},
     "output_type": "execute_result"
    }
   ],
   "source": [
    "np.char.upper(arr3)"
   ]
  },
  {
   "cell_type": "code",
   "execution_count": 24,
   "id": "d326c57a-0280-4ce4-9ff2-553a9676223e",
   "metadata": {},
   "outputs": [
    {
     "data": {
      "text/plain": [
       "array(['Kuldeep', 'Mahir '], dtype='<U7')"
      ]
     },
     "execution_count": 24,
     "metadata": {},
     "output_type": "execute_result"
    }
   ],
   "source": [
    "np.char.title(arr3)"
   ]
  },
  {
   "cell_type": "code",
   "execution_count": 26,
   "id": "4cc5a468-a1a3-4aab-aece-9fc1dbce337e",
   "metadata": {},
   "outputs": [
    {
     "data": {
      "text/plain": [
       "array([[ 4, 36,  4, 49],\n",
       "       [81, 64,  4, 49],\n",
       "       [36,  1,  9,  1]])"
      ]
     },
     "execution_count": 26,
     "metadata": {},
     "output_type": "execute_result"
    }
   ],
   "source": [
    "np.power(arr , 2)"
   ]
  },
  {
   "cell_type": "code",
   "execution_count": 27,
   "id": "201fcdaa-8739-4ec3-a3b8-40c0b0f11ba3",
   "metadata": {},
   "outputs": [
    {
     "data": {
      "text/plain": [
       "9"
      ]
     },
     "execution_count": 27,
     "metadata": {},
     "output_type": "execute_result"
    }
   ],
   "source": [
    "np.max(arr)"
   ]
  },
  {
   "cell_type": "code",
   "execution_count": null,
   "id": "529f70d6-9cd5-4c6f-8ad3-d6bb1f067e64",
   "metadata": {},
   "outputs": [],
   "source": []
  }
 ],
 "metadata": {
  "kernelspec": {
   "display_name": "Python 3 (ipykernel)",
   "language": "python",
   "name": "python3"
  },
  "language_info": {
   "codemirror_mode": {
    "name": "ipython",
    "version": 3
   },
   "file_extension": ".py",
   "mimetype": "text/x-python",
   "name": "python",
   "nbconvert_exporter": "python",
   "pygments_lexer": "ipython3",
   "version": "3.10.8"
  }
 },
 "nbformat": 4,
 "nbformat_minor": 5
}
