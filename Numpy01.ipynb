{
 "cells": [
  {
   "cell_type": "markdown",
   "id": "1078c545-497d-427b-a7c7-9dbc06c98439",
   "metadata": {},
   "source": [
    "**NumPy** (Numerical Python) is a fundamental Python library for numerical computing. It provides support for large, multi-dimensional arrays and matrices, along with a vast collection of mathematical functions to operate on these arrays. NumPy is a core library in the Python data science ecosystem and serves as the foundation for many other data science libraries.\n",
    "\n",
    "Here are some key features of NumPy:\n",
    "\n",
    "1. **N-dimensional array (ndarray)**: NumPy's most important data structure is the `ndarray`, which is a multi-dimensional array. These arrays can be one-dimensional (like a list), two-dimensional (like a matrix), or have even more dimensions. The ndarray allows efficient storage and manipulation of large datasets, making it suitable for numerical computations.\n",
    "\n",
    "2. **Mathematical functions**: NumPy provides a wide range of mathematical functions that operate element-wise on ndarrays. These include arithmetic operations, trigonometric functions, statistical operations, linear algebra routines, and much more.\n",
    "\n",
    "3. **Broadcasting**: Broadcasting is a powerful feature in NumPy that allows operations between arrays of different shapes and dimensions. It helps to perform operations efficiently without needing to explicitly write loops.\n",
    "\n",
    "4. **Integration with C/C++ and Fortran**: NumPy allows seamless integration with code written in C, C++, or Fortran, enabling high-performance computations and easy integration with other libraries.\n",
    "\n",
    "5. **Random number generation**: NumPy includes tools for generating random numbers from various probability distributions, which are essential for many statistical simulations.\n",
    "\n",
    "Data scientists use NumPy extensively in their work due to its efficient array processing capabilities and mathematical functions. Here are some common use cases of NumPy in data science:\n",
    "\n",
    "1. **Data manipulation**: NumPy allows data scientists to efficiently manipulate and transform large datasets. You can perform operations such as filtering, reshaping, and merging data using NumPy's array functions.\n",
    "\n",
    "2. **Numerical computations**: NumPy provides an extensive set of mathematical functions that enable data scientists to perform a wide range of computations, from simple arithmetic operations to complex mathematical modeling.\n",
    "\n",
    "3. **Array-based computations**: NumPy's array operations are optimized for performance, making it a suitable choice for numerical computations and simulations.\n",
    "\n",
    "4. **Data cleaning and preprocessing**: NumPy is often used for data cleaning tasks, such as handling missing values, outlier detection, and data normalization.\n",
    "\n",
    "5. **Statistical analysis**: NumPy integrates well with other data science libraries like pandas and SciPy to perform advanced statistical analysis.\n",
    "\n",
    "6. **Machine learning**: NumPy arrays are commonly used as input data for machine learning algorithms implemented in libraries like scikit-learn and TensorFlow.\n",
    "\n",
    "To use NumPy in your Python data science projects, you need to first install it using `pip`:\n",
    "\n",
    "```\n",
    "pip install numpy\n",
    "```\n",
    "\n",
    "Then, you can import it in your Python script or Jupyter Notebook:\n",
    "\n",
    "```python\n",
    "import numpy as np\n",
    "```\n",
    "\n",
    "Once imported, you can create ndarrays, perform array operations, and use NumPy's mathematical functions for data manipulation and analysis."
   ]
  },
  {
   "cell_type": "code",
   "execution_count": 2,
   "id": "d453511b-8d0e-428b-b137-32477217ee7e",
   "metadata": {},
   "outputs": [],
   "source": [
    "#Numpy numerical python \n",
    "#we use it for numarical computation in arrays and \n",
    "import numpy as np"
   ]
  },
  {
   "cell_type": "code",
   "execution_count": 3,
   "id": "50679078-b657-41c2-b56a-798348123ce8",
   "metadata": {},
   "outputs": [],
   "source": [
    "l = [1,2,3,4]"
   ]
  },
  {
   "cell_type": "code",
   "execution_count": 4,
   "id": "acbd9f91-d1fe-4085-93e1-1a85a8bb4935",
   "metadata": {},
   "outputs": [],
   "source": [
    "# If we want to convert list into an arry we can do it using arry function \n",
    "\n",
    "ar = np.array(l)"
   ]
  },
  {
   "cell_type": "code",
   "execution_count": 5,
   "id": "64fb9d84-47a8-4e4d-b5b1-ad23583a99a6",
   "metadata": {},
   "outputs": [
    {
     "data": {
      "text/plain": [
       "numpy.ndarray"
      ]
     },
     "execution_count": 5,
     "metadata": {},
     "output_type": "execute_result"
    }
   ],
   "source": [
    "type(ar)"
   ]
  },
  {
   "cell_type": "code",
   "execution_count": 6,
   "id": "1cb4ff3c-868d-4473-b317-0d7d34d833fd",
   "metadata": {},
   "outputs": [],
   "source": [
    "# one dimentional arry \n",
    "ar = np.array(l)\n",
    "\n"
   ]
  },
  {
   "cell_type": "code",
   "execution_count": 7,
   "id": "7cfad668-a550-4f45-ae16-46eb2782510f",
   "metadata": {},
   "outputs": [
    {
     "data": {
      "text/plain": [
       "array([[2, 3],\n",
       "       [5, 6]])"
      ]
     },
     "execution_count": 7,
     "metadata": {},
     "output_type": "execute_result"
    }
   ],
   "source": [
    "# two dimentional arry \n",
    "np.array([[2,3],[5,6]])"
   ]
  },
  {
   "cell_type": "code",
   "execution_count": 8,
   "id": "ce12be38-3cb3-44e5-b339-65a958d959ba",
   "metadata": {},
   "outputs": [
    {
     "ename": "NameError",
     "evalue": "name 'ar1' is not defined",
     "output_type": "error",
     "traceback": [
      "\u001b[0;31m---------------------------------------------------------------------------\u001b[0m",
      "\u001b[0;31mNameError\u001b[0m                                 Traceback (most recent call last)",
      "Cell \u001b[0;32mIn[8], line 1\u001b[0m\n\u001b[0;32m----> 1\u001b[0m \u001b[43mar1\u001b[49m\n",
      "\u001b[0;31mNameError\u001b[0m: name 'ar1' is not defined"
     ]
    }
   ],
   "source": [
    "ar1"
   ]
  },
  {
   "cell_type": "code",
   "execution_count": 9,
   "id": "3fd2fcd8-ce83-465b-b5d8-fcba501997f4",
   "metadata": {},
   "outputs": [],
   "source": [
    "#we can also use asarry and asanyarray function \n"
   ]
  },
  {
   "cell_type": "code",
   "execution_count": 10,
   "id": "21c4d48d-c3f0-41bb-bcf3-55072a23b044",
   "metadata": {},
   "outputs": [
    {
     "ename": "NameError",
     "evalue": "name 'ar1' is not defined",
     "output_type": "error",
     "traceback": [
      "\u001b[0;31m---------------------------------------------------------------------------\u001b[0m",
      "\u001b[0;31mNameError\u001b[0m                                 Traceback (most recent call last)",
      "Cell \u001b[0;32mIn[10], line 1\u001b[0m\n\u001b[0;32m----> 1\u001b[0m c \u001b[38;5;241m=\u001b[39m \u001b[43mar1\u001b[49m\n",
      "\u001b[0;31mNameError\u001b[0m: name 'ar1' is not defined"
     ]
    }
   ],
   "source": [
    "c = ar1\n"
   ]
  },
  {
   "cell_type": "code",
   "execution_count": 11,
   "id": "471a2ad7-f045-4259-9106-e0bda0a309c8",
   "metadata": {},
   "outputs": [
    {
     "ename": "NameError",
     "evalue": "name 'c' is not defined",
     "output_type": "error",
     "traceback": [
      "\u001b[0;31m---------------------------------------------------------------------------\u001b[0m",
      "\u001b[0;31mNameError\u001b[0m                                 Traceback (most recent call last)",
      "Cell \u001b[0;32mIn[11], line 1\u001b[0m\n\u001b[0;32m----> 1\u001b[0m \u001b[43mc\u001b[49m\n",
      "\u001b[0;31mNameError\u001b[0m: name 'c' is not defined"
     ]
    }
   ],
   "source": [
    "c"
   ]
  },
  {
   "cell_type": "code",
   "execution_count": 12,
   "id": "b408336e-2140-4077-be9e-8cca5c3c0a43",
   "metadata": {},
   "outputs": [
    {
     "ename": "NameError",
     "evalue": "name 'c' is not defined",
     "output_type": "error",
     "traceback": [
      "\u001b[0;31m---------------------------------------------------------------------------\u001b[0m",
      "\u001b[0;31mNameError\u001b[0m                                 Traceback (most recent call last)",
      "Cell \u001b[0;32mIn[12], line 1\u001b[0m\n\u001b[0;32m----> 1\u001b[0m \u001b[43mc\u001b[49m[\u001b[38;5;241m0\u001b[39m] \u001b[38;5;241m=\u001b[39m \u001b[38;5;241m5\u001b[39m\n",
      "\u001b[0;31mNameError\u001b[0m: name 'c' is not defined"
     ]
    }
   ],
   "source": [
    "c[0] = 5"
   ]
  },
  {
   "cell_type": "code",
   "execution_count": 13,
   "id": "dfaac117-9a2d-4668-a139-4dad1e3ccc0e",
   "metadata": {},
   "outputs": [],
   "source": [
    "a = np.array([1,2,3,4,5])"
   ]
  },
  {
   "cell_type": "code",
   "execution_count": 14,
   "id": "1783d36a-7b01-4bd1-b719-c1a2aeff11a1",
   "metadata": {},
   "outputs": [
    {
     "data": {
      "text/plain": [
       "array([1, 2, 3, 4, 5])"
      ]
     },
     "execution_count": 14,
     "metadata": {},
     "output_type": "execute_result"
    }
   ],
   "source": [
    "a"
   ]
  },
  {
   "cell_type": "code",
   "execution_count": 15,
   "id": "65256996-5903-4694-a0d1-5b213a4b88e3",
   "metadata": {},
   "outputs": [],
   "source": [
    "#we can coppy the array\n",
    "d = np.copy(a)"
   ]
  },
  {
   "cell_type": "code",
   "execution_count": 16,
   "id": "f402e108-01ca-4761-a048-3046f29ad61e",
   "metadata": {},
   "outputs": [
    {
     "data": {
      "text/plain": [
       "array([1, 2, 3, 4, 5])"
      ]
     },
     "execution_count": 16,
     "metadata": {},
     "output_type": "execute_result"
    }
   ],
   "source": [
    "d"
   ]
  },
  {
   "cell_type": "code",
   "execution_count": 17,
   "id": "093de742-2483-4fc6-b977-669db76a331b",
   "metadata": {},
   "outputs": [],
   "source": [
    "a[0]=532"
   ]
  },
  {
   "cell_type": "code",
   "execution_count": 18,
   "id": "2375eb14-e730-4718-9a74-4c9abaa9acb4",
   "metadata": {},
   "outputs": [
    {
     "data": {
      "text/plain": [
       "array([532,   2,   3,   4,   5])"
      ]
     },
     "execution_count": 18,
     "metadata": {},
     "output_type": "execute_result"
    }
   ],
   "source": [
    "a"
   ]
  },
  {
   "cell_type": "code",
   "execution_count": 19,
   "id": "1314f0d9-e9af-4024-87e8-45ade2739899",
   "metadata": {},
   "outputs": [
    {
     "data": {
      "text/plain": [
       "array([1, 2, 3, 4, 5])"
      ]
     },
     "execution_count": 19,
     "metadata": {},
     "output_type": "execute_result"
    }
   ],
   "source": [
    "d # will not chage bcz it is deep copy and it creat a new location "
   ]
  },
  {
   "cell_type": "code",
   "execution_count": 20,
   "id": "bd26d79a-7880-426e-b122-cde0d8ec6831",
   "metadata": {},
   "outputs": [
    {
     "data": {
      "text/plain": [
       "array([[ True, False, False],\n",
       "       [False,  True, False],\n",
       "       [False, False,  True]])"
      ]
     },
     "execution_count": 20,
     "metadata": {},
     "output_type": "execute_result"
    }
   ],
   "source": [
    "# To genrate diffrent types of array\n",
    "np.fromfunction(lambda i , j : i == j ,(3,3))"
   ]
  },
  {
   "cell_type": "code",
   "execution_count": 21,
   "id": "59120651-c689-4230-bffa-5bdc6d834232",
   "metadata": {},
   "outputs": [
    {
     "data": {
      "text/plain": [
       "array([ 0.,  1.,  4.,  9., 16.])"
      ]
     },
     "execution_count": 21,
     "metadata": {},
     "output_type": "execute_result"
    }
   ],
   "source": [
    "# another function \n",
    "itrable = (i*i  for i in range (5))\n",
    "np.fromiter(itrable , float)"
   ]
  },
  {
   "cell_type": "code",
   "execution_count": 22,
   "id": "7e5b58e1-6418-4e12-8591-390c43a01da2",
   "metadata": {},
   "outputs": [
    {
     "data": {
      "text/plain": [
       "array([4., 5.])"
      ]
     },
     "execution_count": 22,
     "metadata": {},
     "output_type": "execute_result"
    }
   ],
   "source": [
    "np.fromstring('4,5',sep = ',')"
   ]
  },
  {
   "cell_type": "code",
   "execution_count": 23,
   "id": "7409de0a-f3fa-4f7b-8a3e-4f722137dce9",
   "metadata": {},
   "outputs": [
    {
     "data": {
      "text/plain": [
       "1"
      ]
     },
     "execution_count": 23,
     "metadata": {},
     "output_type": "execute_result"
    }
   ],
   "source": [
    "# we can chek the dimaention of an array \n",
    "a.ndim"
   ]
  },
  {
   "cell_type": "code",
   "execution_count": 24,
   "id": "26ccc68a-4616-4130-9c99-519e8d143c8f",
   "metadata": {},
   "outputs": [],
   "source": [
    "ar2 = np.array([[45,6,7,8],[894,6,5,64]])"
   ]
  },
  {
   "cell_type": "code",
   "execution_count": 25,
   "id": "5c408ee2-0b50-4490-957e-f32b690a1648",
   "metadata": {},
   "outputs": [
    {
     "data": {
      "text/plain": [
       "array([[ 45,   6,   7,   8],\n",
       "       [894,   6,   5,  64]])"
      ]
     },
     "execution_count": 25,
     "metadata": {},
     "output_type": "execute_result"
    }
   ],
   "source": [
    "ar2"
   ]
  },
  {
   "cell_type": "code",
   "execution_count": 26,
   "id": "b6552df7-4b1f-44f4-817e-e4a055e6e73b",
   "metadata": {},
   "outputs": [
    {
     "data": {
      "text/plain": [
       "2"
      ]
     },
     "execution_count": 26,
     "metadata": {},
     "output_type": "execute_result"
    }
   ],
   "source": [
    "ar2.ndim"
   ]
  },
  {
   "cell_type": "code",
   "execution_count": 27,
   "id": "969e9e62-cd8c-4529-a3fb-683635041d36",
   "metadata": {},
   "outputs": [
    {
     "data": {
      "text/plain": [
       "5"
      ]
     },
     "execution_count": 27,
     "metadata": {},
     "output_type": "execute_result"
    }
   ],
   "source": [
    "a.size"
   ]
  },
  {
   "cell_type": "code",
   "execution_count": 28,
   "id": "fb337fec-3046-4b7d-a805-fa86d97a1fbc",
   "metadata": {},
   "outputs": [
    {
     "data": {
      "text/plain": [
       "8"
      ]
     },
     "execution_count": 28,
     "metadata": {},
     "output_type": "execute_result"
    }
   ],
   "source": [
    "ar2.size"
   ]
  },
  {
   "cell_type": "code",
   "execution_count": 29,
   "id": "bfedbb48-d936-4f39-acfc-007666e224c8",
   "metadata": {},
   "outputs": [
    {
     "data": {
      "text/plain": [
       "(2, 4)"
      ]
     },
     "execution_count": 29,
     "metadata": {},
     "output_type": "execute_result"
    }
   ],
   "source": [
    "ar2.shape"
   ]
  },
  {
   "cell_type": "code",
   "execution_count": 30,
   "id": "53f31209-22d5-4382-9c3a-f4335c01d5d3",
   "metadata": {},
   "outputs": [
    {
     "data": {
      "text/plain": [
       "(5,)"
      ]
     },
     "execution_count": 30,
     "metadata": {},
     "output_type": "execute_result"
    }
   ],
   "source": [
    "a.shape"
   ]
  },
  {
   "cell_type": "code",
   "execution_count": 31,
   "id": "69531c4e-a1bf-43b2-8b28-ad6c0cd40205",
   "metadata": {},
   "outputs": [
    {
     "data": {
      "text/plain": [
       "dtype('int64')"
      ]
     },
     "execution_count": 31,
     "metadata": {},
     "output_type": "execute_result"
    }
   ],
   "source": [
    "ar2.dtype"
   ]
  },
  {
   "cell_type": "code",
   "execution_count": 32,
   "id": "1ac9ce48-5052-484b-bda9-7cdfa18cf451",
   "metadata": {},
   "outputs": [
    {
     "ename": "TypeError",
     "evalue": "'float' object cannot be interpreted as an integer",
     "output_type": "error",
     "traceback": [
      "\u001b[0;31m---------------------------------------------------------------------------\u001b[0m",
      "\u001b[0;31mTypeError\u001b[0m                                 Traceback (most recent call last)",
      "Cell \u001b[0;32mIn[32], line 1\u001b[0m\n\u001b[0;32m----> 1\u001b[0m \u001b[38;5;28mlist\u001b[39m(\u001b[38;5;28;43mrange\u001b[39;49m\u001b[43m(\u001b[49m\u001b[38;5;241;43m0.1\u001b[39;49m\u001b[43m \u001b[49m\u001b[43m,\u001b[49m\u001b[43m \u001b[49m\u001b[38;5;241;43m5\u001b[39;49m\u001b[43m)\u001b[49m)\n",
      "\u001b[0;31mTypeError\u001b[0m: 'float' object cannot be interpreted as an integer"
     ]
    }
   ],
   "source": [
    "list(range(0.1 , 5))"
   ]
  },
  {
   "cell_type": "code",
   "execution_count": 33,
   "id": "8acfa3c4-ddb5-4ba7-8143-b9bf19f36b5f",
   "metadata": {},
   "outputs": [
    {
     "data": {
      "text/plain": [
       "[0, 1, 2, 3, 4]"
      ]
     },
     "execution_count": 33,
     "metadata": {},
     "output_type": "execute_result"
    }
   ],
   "source": [
    "list(range(5))"
   ]
  },
  {
   "cell_type": "code",
   "execution_count": 34,
   "id": "f45ab915-fa8e-41df-9012-368f13803398",
   "metadata": {},
   "outputs": [
    {
     "data": {
      "text/plain": [
       "array([2.4, 2.7, 3. , 3.3, 3.6, 3.9, 4.2, 4.5, 4.8, 5.1, 5.4, 5.7])"
      ]
     },
     "execution_count": 34,
     "metadata": {},
     "output_type": "execute_result"
    }
   ],
   "source": [
    "#we can use float also in array to creat it \n",
    "np.arange(2.4,5.8,.3)"
   ]
  },
  {
   "cell_type": "code",
   "execution_count": 35,
   "id": "db546fe4-94c2-4a2d-af79-4209ee83ea7f",
   "metadata": {},
   "outputs": [
    {
     "data": {
      "text/plain": [
       "[2.4,\n",
       " 2.6999999999999997,\n",
       " 2.9999999999999996,\n",
       " 3.2999999999999994,\n",
       " 3.599999999999999,\n",
       " 3.899999999999999,\n",
       " 4.199999999999999,\n",
       " 4.499999999999998,\n",
       " 4.799999999999999,\n",
       " 5.099999999999998,\n",
       " 5.399999999999999,\n",
       " 5.6999999999999975]"
      ]
     },
     "execution_count": 35,
     "metadata": {},
     "output_type": "execute_result"
    }
   ],
   "source": [
    "list(np.arange(2.4,5.8,.3))"
   ]
  },
  {
   "cell_type": "code",
   "execution_count": 36,
   "id": "db87d34c-fa09-4fdb-ba25-3522fed099ed",
   "metadata": {},
   "outputs": [
    {
     "data": {
      "text/plain": [
       "array([5.        , 5.02040816, 5.04081633, 5.06122449, 5.08163265,\n",
       "       5.10204082, 5.12244898, 5.14285714, 5.16326531, 5.18367347,\n",
       "       5.20408163, 5.2244898 , 5.24489796, 5.26530612, 5.28571429,\n",
       "       5.30612245, 5.32653061, 5.34693878, 5.36734694, 5.3877551 ,\n",
       "       5.40816327, 5.42857143, 5.44897959, 5.46938776, 5.48979592,\n",
       "       5.51020408, 5.53061224, 5.55102041, 5.57142857, 5.59183673,\n",
       "       5.6122449 , 5.63265306, 5.65306122, 5.67346939, 5.69387755,\n",
       "       5.71428571, 5.73469388, 5.75510204, 5.7755102 , 5.79591837,\n",
       "       5.81632653, 5.83673469, 5.85714286, 5.87755102, 5.89795918,\n",
       "       5.91836735, 5.93877551, 5.95918367, 5.97959184, 6.        ])"
      ]
     },
     "execution_count": 36,
     "metadata": {},
     "output_type": "execute_result"
    }
   ],
   "source": [
    "np.linspace(5.0,6.0)"
   ]
  },
  {
   "cell_type": "code",
   "execution_count": 37,
   "id": "7f9c2097-ab92-41dc-a657-34e0284615dd",
   "metadata": {},
   "outputs": [
    {
     "data": {
      "text/plain": [
       "array([0., 0., 0., 0., 0.])"
      ]
     },
     "execution_count": 37,
     "metadata": {},
     "output_type": "execute_result"
    }
   ],
   "source": [
    "# we can also create zeros\n",
    "np.zeros(5)"
   ]
  },
  {
   "cell_type": "code",
   "execution_count": 38,
   "id": "7d4ccd98-65df-4343-813d-56f4d697c451",
   "metadata": {},
   "outputs": [
    {
     "data": {
      "text/plain": [
       "array([[0., 0., 0., 0.],\n",
       "       [0., 0., 0., 0.],\n",
       "       [0., 0., 0., 0.]])"
      ]
     },
     "execution_count": 38,
     "metadata": {},
     "output_type": "execute_result"
    }
   ],
   "source": [
    "np.zeros((3,4))"
   ]
  },
  {
   "cell_type": "code",
   "execution_count": 39,
   "id": "8d1a04e4-6be2-4668-984b-5f96727ba0e7",
   "metadata": {},
   "outputs": [
    {
     "data": {
      "text/plain": [
       "array([[[0., 0.],\n",
       "        [0., 0.],\n",
       "        [0., 0.],\n",
       "        [0., 0.],\n",
       "        [0., 0.]],\n",
       "\n",
       "       [[0., 0.],\n",
       "        [0., 0.],\n",
       "        [0., 0.],\n",
       "        [0., 0.],\n",
       "        [0., 0.]],\n",
       "\n",
       "       [[0., 0.],\n",
       "        [0., 0.],\n",
       "        [0., 0.],\n",
       "        [0., 0.],\n",
       "        [0., 0.]]])"
      ]
     },
     "execution_count": 39,
     "metadata": {},
     "output_type": "execute_result"
    }
   ],
   "source": [
    "np.zeros((3,5,2))"
   ]
  },
  {
   "cell_type": "code",
   "execution_count": 40,
   "id": "a34b5702-0fd7-4ed7-b754-ed76a1f2571c",
   "metadata": {},
   "outputs": [],
   "source": [
    "ar3 = np.ones(5)"
   ]
  },
  {
   "cell_type": "code",
   "execution_count": 41,
   "id": "e6435323-cc86-4d49-82b0-83aa1b3c67d6",
   "metadata": {},
   "outputs": [
    {
     "data": {
      "text/plain": [
       "array([1., 1., 1., 1., 1.])"
      ]
     },
     "execution_count": 41,
     "metadata": {},
     "output_type": "execute_result"
    }
   ],
   "source": [
    "ar3"
   ]
  },
  {
   "cell_type": "code",
   "execution_count": 42,
   "id": "9c7a9d32-f765-44d1-b15e-1aca1b0d58ec",
   "metadata": {},
   "outputs": [
    {
     "data": {
      "text/plain": [
       "array([4., 4., 4., 4., 4.])"
      ]
     },
     "execution_count": 42,
     "metadata": {},
     "output_type": "execute_result"
    }
   ],
   "source": [
    "ar3*4"
   ]
  },
  {
   "cell_type": "code",
   "execution_count": 43,
   "id": "43291d75-437f-4567-bee2-3be04bf509d4",
   "metadata": {},
   "outputs": [
    {
     "data": {
      "text/plain": [
       "array([6., 6., 6., 6., 6.])"
      ]
     },
     "execution_count": 43,
     "metadata": {},
     "output_type": "execute_result"
    }
   ],
   "source": [
    "ar3 + 5"
   ]
  },
  {
   "cell_type": "code",
   "execution_count": 44,
   "id": "e12daa7d-3293-4c7d-9667-17d2a260cc03",
   "metadata": {},
   "outputs": [
    {
     "data": {
      "text/plain": [
       "array([6., 6., 6., 6., 6.])"
      ]
     },
     "execution_count": 44,
     "metadata": {},
     "output_type": "execute_result"
    }
   ],
   "source": [
    "np.empty(5)"
   ]
  },
  {
   "cell_type": "code",
   "execution_count": 45,
   "id": "5cd26329-5090-4b09-9e1c-9684e33aacb9",
   "metadata": {},
   "outputs": [
    {
     "data": {
      "text/plain": [
       "array([[1., 0., 0.],\n",
       "       [0., 1., 0.],\n",
       "       [0., 0., 1.]])"
      ]
     },
     "execution_count": 45,
     "metadata": {},
     "output_type": "execute_result"
    }
   ],
   "source": [
    "np.eye(3)"
   ]
  },
  {
   "cell_type": "code",
   "execution_count": 46,
   "id": "c2bb272f-44ea-4c7d-8b38-58ace7192fb4",
   "metadata": {},
   "outputs": [
    {
     "data": {
      "text/plain": [
       "array([128.        , 124.4294069 , 120.95841642, 117.58425012,\n",
       "       114.30420706, 111.11566165, 108.01606154, 105.00292557,\n",
       "       102.07384181,  99.2264656 ,  96.45851768,  93.76778239,\n",
       "        91.15210586,  88.60939429,  86.13761233,  83.73478136,\n",
       "        81.39897798,  79.12833244,  76.92102715,  74.77529521,\n",
       "        72.68941901,  70.66172888,  68.69060168,  66.77445958,\n",
       "        64.91176877,  63.10103819,  61.34081842,  59.62970042,\n",
       "        57.96631451,  56.34932918,  54.77745007,  53.24941894,\n",
       "        51.76401263,  50.32004211,  48.91635153,  47.55181725,\n",
       "        46.22534701,  44.93587901,  43.68238104,  42.46384973,\n",
       "        41.27930966,  40.12781264,  39.00843693,  37.9202865 ,\n",
       "        36.8624903 ,  35.8342016 ,  34.83459728,  33.86287719,\n",
       "        32.91826347,  32.        ])"
      ]
     },
     "execution_count": 46,
     "metadata": {},
     "output_type": "execute_result"
    }
   ],
   "source": [
    "#if we want to get log then \n",
    "np.logspace(7,5 , base = 2)"
   ]
  },
  {
   "cell_type": "markdown",
   "id": "4c722f28-9d0e-4c06-85dc-29953523fbc7",
   "metadata": {},
   "source": [
    "# Usefull functions \n",
    "## we will use it in ml"
   ]
  },
  {
   "cell_type": "code",
   "execution_count": 47,
   "id": "f26d7cf9-006e-4aad-867d-f11b6bff52f4",
   "metadata": {},
   "outputs": [],
   "source": [
    "# To creat a rendom number \n",
    "arr = np.random.randn(3,4) #use mean and standard daviation"
   ]
  },
  {
   "cell_type": "code",
   "execution_count": 48,
   "id": "3d51f9da-a14a-43d6-8939-dedd392d9607",
   "metadata": {},
   "outputs": [],
   "source": [
    "# if we have to store it in dataframe then \n"
   ]
  },
  {
   "cell_type": "code",
   "execution_count": 49,
   "id": "22bba5dd-7e48-4b79-a9d5-a112769443bd",
   "metadata": {},
   "outputs": [],
   "source": [
    "import pandas as pd \n"
   ]
  },
  {
   "cell_type": "code",
   "execution_count": 50,
   "id": "b658d1c3-0747-4922-b64a-ee547f48521e",
   "metadata": {},
   "outputs": [
    {
     "data": {
      "text/html": [
       "<div>\n",
       "<style scoped>\n",
       "    .dataframe tbody tr th:only-of-type {\n",
       "        vertical-align: middle;\n",
       "    }\n",
       "\n",
       "    .dataframe tbody tr th {\n",
       "        vertical-align: top;\n",
       "    }\n",
       "\n",
       "    .dataframe thead th {\n",
       "        text-align: right;\n",
       "    }\n",
       "</style>\n",
       "<table border=\"1\" class=\"dataframe\">\n",
       "  <thead>\n",
       "    <tr style=\"text-align: right;\">\n",
       "      <th></th>\n",
       "      <th>0</th>\n",
       "      <th>1</th>\n",
       "      <th>2</th>\n",
       "      <th>3</th>\n",
       "    </tr>\n",
       "  </thead>\n",
       "  <tbody>\n",
       "    <tr>\n",
       "      <th>0</th>\n",
       "      <td>0.132787</td>\n",
       "      <td>-0.861607</td>\n",
       "      <td>-0.311540</td>\n",
       "      <td>-0.652706</td>\n",
       "    </tr>\n",
       "    <tr>\n",
       "      <th>1</th>\n",
       "      <td>-0.420912</td>\n",
       "      <td>-0.985917</td>\n",
       "      <td>-0.644775</td>\n",
       "      <td>-0.131391</td>\n",
       "    </tr>\n",
       "    <tr>\n",
       "      <th>2</th>\n",
       "      <td>-0.113217</td>\n",
       "      <td>-1.032330</td>\n",
       "      <td>0.582829</td>\n",
       "      <td>0.249561</td>\n",
       "    </tr>\n",
       "  </tbody>\n",
       "</table>\n",
       "</div>"
      ],
      "text/plain": [
       "          0         1         2         3\n",
       "0  0.132787 -0.861607 -0.311540 -0.652706\n",
       "1 -0.420912 -0.985917 -0.644775 -0.131391\n",
       "2 -0.113217 -1.032330  0.582829  0.249561"
      ]
     },
     "execution_count": 50,
     "metadata": {},
     "output_type": "execute_result"
    }
   ],
   "source": [
    "pd.DataFrame(arr)"
   ]
  },
  {
   "cell_type": "code",
   "execution_count": 51,
   "id": "412cf30e-81d1-4f36-ba1c-a7a1637fadc4",
   "metadata": {},
   "outputs": [],
   "source": [
    "arr1 = np.random.rand(3,4) #rendom data"
   ]
  },
  {
   "cell_type": "code",
   "execution_count": 52,
   "id": "bb1f1285-dc02-475d-8301-bfb8597de746",
   "metadata": {},
   "outputs": [
    {
     "data": {
      "text/plain": [
       "array([[0.13832563, 0.09089006, 0.29265151, 0.28910853],\n",
       "       [0.800816  , 0.36066581, 0.09069365, 0.45532679],\n",
       "       [0.7277461 , 0.30278434, 0.94025631, 0.45145764]])"
      ]
     },
     "execution_count": 52,
     "metadata": {},
     "output_type": "execute_result"
    }
   ],
   "source": [
    "arr1"
   ]
  },
  {
   "cell_type": "code",
   "execution_count": 53,
   "id": "86710bf0-c28e-4705-8768-46a7d64e0ca6",
   "metadata": {},
   "outputs": [
    {
     "data": {
      "text/html": [
       "<div>\n",
       "<style scoped>\n",
       "    .dataframe tbody tr th:only-of-type {\n",
       "        vertical-align: middle;\n",
       "    }\n",
       "\n",
       "    .dataframe tbody tr th {\n",
       "        vertical-align: top;\n",
       "    }\n",
       "\n",
       "    .dataframe thead th {\n",
       "        text-align: right;\n",
       "    }\n",
       "</style>\n",
       "<table border=\"1\" class=\"dataframe\">\n",
       "  <thead>\n",
       "    <tr style=\"text-align: right;\">\n",
       "      <th></th>\n",
       "      <th>0</th>\n",
       "      <th>1</th>\n",
       "      <th>2</th>\n",
       "      <th>3</th>\n",
       "      <th>4</th>\n",
       "      <th>5</th>\n",
       "      <th>6</th>\n",
       "      <th>7</th>\n",
       "      <th>8</th>\n",
       "      <th>9</th>\n",
       "      <th>...</th>\n",
       "      <th>390</th>\n",
       "      <th>391</th>\n",
       "      <th>392</th>\n",
       "      <th>393</th>\n",
       "      <th>394</th>\n",
       "      <th>395</th>\n",
       "      <th>396</th>\n",
       "      <th>397</th>\n",
       "      <th>398</th>\n",
       "      <th>399</th>\n",
       "    </tr>\n",
       "  </thead>\n",
       "  <tbody>\n",
       "    <tr>\n",
       "      <th>0</th>\n",
       "      <td>74</td>\n",
       "      <td>63</td>\n",
       "      <td>30</td>\n",
       "      <td>32</td>\n",
       "      <td>69</td>\n",
       "      <td>12</td>\n",
       "      <td>3</td>\n",
       "      <td>66</td>\n",
       "      <td>84</td>\n",
       "      <td>10</td>\n",
       "      <td>...</td>\n",
       "      <td>88</td>\n",
       "      <td>25</td>\n",
       "      <td>1</td>\n",
       "      <td>13</td>\n",
       "      <td>52</td>\n",
       "      <td>27</td>\n",
       "      <td>13</td>\n",
       "      <td>57</td>\n",
       "      <td>22</td>\n",
       "      <td>60</td>\n",
       "    </tr>\n",
       "    <tr>\n",
       "      <th>1</th>\n",
       "      <td>55</td>\n",
       "      <td>7</td>\n",
       "      <td>101</td>\n",
       "      <td>89</td>\n",
       "      <td>64</td>\n",
       "      <td>51</td>\n",
       "      <td>45</td>\n",
       "      <td>22</td>\n",
       "      <td>89</td>\n",
       "      <td>105</td>\n",
       "      <td>...</td>\n",
       "      <td>33</td>\n",
       "      <td>52</td>\n",
       "      <td>13</td>\n",
       "      <td>8</td>\n",
       "      <td>83</td>\n",
       "      <td>27</td>\n",
       "      <td>51</td>\n",
       "      <td>31</td>\n",
       "      <td>78</td>\n",
       "      <td>4</td>\n",
       "    </tr>\n",
       "    <tr>\n",
       "      <th>2</th>\n",
       "      <td>32</td>\n",
       "      <td>36</td>\n",
       "      <td>103</td>\n",
       "      <td>50</td>\n",
       "      <td>31</td>\n",
       "      <td>90</td>\n",
       "      <td>108</td>\n",
       "      <td>47</td>\n",
       "      <td>71</td>\n",
       "      <td>89</td>\n",
       "      <td>...</td>\n",
       "      <td>94</td>\n",
       "      <td>47</td>\n",
       "      <td>73</td>\n",
       "      <td>50</td>\n",
       "      <td>48</td>\n",
       "      <td>29</td>\n",
       "      <td>37</td>\n",
       "      <td>26</td>\n",
       "      <td>71</td>\n",
       "      <td>77</td>\n",
       "    </tr>\n",
       "    <tr>\n",
       "      <th>3</th>\n",
       "      <td>70</td>\n",
       "      <td>96</td>\n",
       "      <td>89</td>\n",
       "      <td>90</td>\n",
       "      <td>44</td>\n",
       "      <td>70</td>\n",
       "      <td>91</td>\n",
       "      <td>54</td>\n",
       "      <td>87</td>\n",
       "      <td>8</td>\n",
       "      <td>...</td>\n",
       "      <td>61</td>\n",
       "      <td>29</td>\n",
       "      <td>50</td>\n",
       "      <td>28</td>\n",
       "      <td>98</td>\n",
       "      <td>45</td>\n",
       "      <td>66</td>\n",
       "      <td>69</td>\n",
       "      <td>73</td>\n",
       "      <td>40</td>\n",
       "    </tr>\n",
       "    <tr>\n",
       "      <th>4</th>\n",
       "      <td>7</td>\n",
       "      <td>33</td>\n",
       "      <td>79</td>\n",
       "      <td>98</td>\n",
       "      <td>21</td>\n",
       "      <td>31</td>\n",
       "      <td>32</td>\n",
       "      <td>34</td>\n",
       "      <td>32</td>\n",
       "      <td>102</td>\n",
       "      <td>...</td>\n",
       "      <td>82</td>\n",
       "      <td>104</td>\n",
       "      <td>29</td>\n",
       "      <td>4</td>\n",
       "      <td>43</td>\n",
       "      <td>52</td>\n",
       "      <td>2</td>\n",
       "      <td>70</td>\n",
       "      <td>12</td>\n",
       "      <td>9</td>\n",
       "    </tr>\n",
       "    <tr>\n",
       "      <th>...</th>\n",
       "      <td>...</td>\n",
       "      <td>...</td>\n",
       "      <td>...</td>\n",
       "      <td>...</td>\n",
       "      <td>...</td>\n",
       "      <td>...</td>\n",
       "      <td>...</td>\n",
       "      <td>...</td>\n",
       "      <td>...</td>\n",
       "      <td>...</td>\n",
       "      <td>...</td>\n",
       "      <td>...</td>\n",
       "      <td>...</td>\n",
       "      <td>...</td>\n",
       "      <td>...</td>\n",
       "      <td>...</td>\n",
       "      <td>...</td>\n",
       "      <td>...</td>\n",
       "      <td>...</td>\n",
       "      <td>...</td>\n",
       "      <td>...</td>\n",
       "    </tr>\n",
       "    <tr>\n",
       "      <th>295</th>\n",
       "      <td>86</td>\n",
       "      <td>53</td>\n",
       "      <td>97</td>\n",
       "      <td>59</td>\n",
       "      <td>106</td>\n",
       "      <td>6</td>\n",
       "      <td>44</td>\n",
       "      <td>59</td>\n",
       "      <td>67</td>\n",
       "      <td>84</td>\n",
       "      <td>...</td>\n",
       "      <td>48</td>\n",
       "      <td>11</td>\n",
       "      <td>26</td>\n",
       "      <td>30</td>\n",
       "      <td>46</td>\n",
       "      <td>88</td>\n",
       "      <td>19</td>\n",
       "      <td>5</td>\n",
       "      <td>74</td>\n",
       "      <td>107</td>\n",
       "    </tr>\n",
       "    <tr>\n",
       "      <th>296</th>\n",
       "      <td>57</td>\n",
       "      <td>61</td>\n",
       "      <td>98</td>\n",
       "      <td>85</td>\n",
       "      <td>22</td>\n",
       "      <td>22</td>\n",
       "      <td>92</td>\n",
       "      <td>84</td>\n",
       "      <td>3</td>\n",
       "      <td>28</td>\n",
       "      <td>...</td>\n",
       "      <td>94</td>\n",
       "      <td>95</td>\n",
       "      <td>50</td>\n",
       "      <td>18</td>\n",
       "      <td>11</td>\n",
       "      <td>14</td>\n",
       "      <td>51</td>\n",
       "      <td>4</td>\n",
       "      <td>55</td>\n",
       "      <td>31</td>\n",
       "    </tr>\n",
       "    <tr>\n",
       "      <th>297</th>\n",
       "      <td>21</td>\n",
       "      <td>10</td>\n",
       "      <td>17</td>\n",
       "      <td>92</td>\n",
       "      <td>91</td>\n",
       "      <td>101</td>\n",
       "      <td>38</td>\n",
       "      <td>28</td>\n",
       "      <td>88</td>\n",
       "      <td>57</td>\n",
       "      <td>...</td>\n",
       "      <td>86</td>\n",
       "      <td>65</td>\n",
       "      <td>16</td>\n",
       "      <td>58</td>\n",
       "      <td>76</td>\n",
       "      <td>24</td>\n",
       "      <td>19</td>\n",
       "      <td>55</td>\n",
       "      <td>42</td>\n",
       "      <td>86</td>\n",
       "    </tr>\n",
       "    <tr>\n",
       "      <th>298</th>\n",
       "      <td>9</td>\n",
       "      <td>16</td>\n",
       "      <td>24</td>\n",
       "      <td>9</td>\n",
       "      <td>24</td>\n",
       "      <td>13</td>\n",
       "      <td>2</td>\n",
       "      <td>59</td>\n",
       "      <td>51</td>\n",
       "      <td>81</td>\n",
       "      <td>...</td>\n",
       "      <td>74</td>\n",
       "      <td>33</td>\n",
       "      <td>89</td>\n",
       "      <td>73</td>\n",
       "      <td>36</td>\n",
       "      <td>95</td>\n",
       "      <td>9</td>\n",
       "      <td>17</td>\n",
       "      <td>93</td>\n",
       "      <td>90</td>\n",
       "    </tr>\n",
       "    <tr>\n",
       "      <th>299</th>\n",
       "      <td>3</td>\n",
       "      <td>86</td>\n",
       "      <td>66</td>\n",
       "      <td>5</td>\n",
       "      <td>26</td>\n",
       "      <td>29</td>\n",
       "      <td>83</td>\n",
       "      <td>39</td>\n",
       "      <td>8</td>\n",
       "      <td>36</td>\n",
       "      <td>...</td>\n",
       "      <td>20</td>\n",
       "      <td>25</td>\n",
       "      <td>70</td>\n",
       "      <td>29</td>\n",
       "      <td>101</td>\n",
       "      <td>7</td>\n",
       "      <td>99</td>\n",
       "      <td>90</td>\n",
       "      <td>61</td>\n",
       "      <td>5</td>\n",
       "    </tr>\n",
       "  </tbody>\n",
       "</table>\n",
       "<p>300 rows × 400 columns</p>\n",
       "</div>"
      ],
      "text/plain": [
       "     0    1    2    3    4    5    6    7    8    9    ...  390  391  392  \\\n",
       "0     74   63   30   32   69   12    3   66   84   10  ...   88   25    1   \n",
       "1     55    7  101   89   64   51   45   22   89  105  ...   33   52   13   \n",
       "2     32   36  103   50   31   90  108   47   71   89  ...   94   47   73   \n",
       "3     70   96   89   90   44   70   91   54   87    8  ...   61   29   50   \n",
       "4      7   33   79   98   21   31   32   34   32  102  ...   82  104   29   \n",
       "..   ...  ...  ...  ...  ...  ...  ...  ...  ...  ...  ...  ...  ...  ...   \n",
       "295   86   53   97   59  106    6   44   59   67   84  ...   48   11   26   \n",
       "296   57   61   98   85   22   22   92   84    3   28  ...   94   95   50   \n",
       "297   21   10   17   92   91  101   38   28   88   57  ...   86   65   16   \n",
       "298    9   16   24    9   24   13    2   59   51   81  ...   74   33   89   \n",
       "299    3   86   66    5   26   29   83   39    8   36  ...   20   25   70   \n",
       "\n",
       "     393  394  395  396  397  398  399  \n",
       "0     13   52   27   13   57   22   60  \n",
       "1      8   83   27   51   31   78    4  \n",
       "2     50   48   29   37   26   71   77  \n",
       "3     28   98   45   66   69   73   40  \n",
       "4      4   43   52    2   70   12    9  \n",
       "..   ...  ...  ...  ...  ...  ...  ...  \n",
       "295   30   46   88   19    5   74  107  \n",
       "296   18   11   14   51    4   55   31  \n",
       "297   58   76   24   19   55   42   86  \n",
       "298   73   36   95    9   17   93   90  \n",
       "299   29  101    7   99   90   61    5  \n",
       "\n",
       "[300 rows x 400 columns]"
      ]
     },
     "execution_count": 53,
     "metadata": {},
     "output_type": "execute_result"
    }
   ],
   "source": [
    "pd.DataFrame(np.random.randint(1,110 ,(300,400)))\n",
    "                                       "
   ]
  },
  {
   "cell_type": "code",
   "execution_count": 54,
   "id": "7669ad3a-6faf-4a1f-aefa-63bec1191c14",
   "metadata": {},
   "outputs": [],
   "source": [
    "#we can also save it \n",
    "pd.DataFrame(np.random.randint(1,110 ,(300,400))).to_csv('test.csv')"
   ]
  },
  {
   "cell_type": "code",
   "execution_count": 55,
   "id": "bbdc617b-fe50-4114-be6f-3f11e7c2b548",
   "metadata": {},
   "outputs": [],
   "source": [
    "arr3 = np.random.rand(2,6)"
   ]
  },
  {
   "cell_type": "code",
   "execution_count": 56,
   "id": "93daf858-48ea-4697-8a09-090b99813ce9",
   "metadata": {},
   "outputs": [
    {
     "data": {
      "text/plain": [
       "array([[0.34373872, 0.53922084, 0.5630001 , 0.51292506, 0.85215568,\n",
       "        0.73408   ],\n",
       "       [0.98035693, 0.5030891 , 0.82026833, 0.47490286, 0.0764904 ,\n",
       "        0.37601911]])"
      ]
     },
     "execution_count": 56,
     "metadata": {},
     "output_type": "execute_result"
    }
   ],
   "source": [
    "arr3"
   ]
  },
  {
   "cell_type": "code",
   "execution_count": 57,
   "id": "8b593bee-7279-4aa4-bc50-3c7f6fea4ad8",
   "metadata": {},
   "outputs": [
    {
     "data": {
      "text/plain": [
       "array([[0.34373872, 0.53922084],\n",
       "       [0.5630001 , 0.51292506],\n",
       "       [0.85215568, 0.73408   ],\n",
       "       [0.98035693, 0.5030891 ],\n",
       "       [0.82026833, 0.47490286],\n",
       "       [0.0764904 , 0.37601911]])"
      ]
     },
     "execution_count": 57,
     "metadata": {},
     "output_type": "execute_result"
    }
   ],
   "source": [
    "arr3.reshape(6,2)"
   ]
  },
  {
   "cell_type": "code",
   "execution_count": 58,
   "id": "48947fe0-89d9-4a5c-9ee2-f0822ac7cc75",
   "metadata": {},
   "outputs": [
    {
     "ename": "ValueError",
     "evalue": "cannot reshape array of size 12 into shape (6,8)",
     "output_type": "error",
     "traceback": [
      "\u001b[0;31m---------------------------------------------------------------------------\u001b[0m",
      "\u001b[0;31mValueError\u001b[0m                                Traceback (most recent call last)",
      "Cell \u001b[0;32mIn[58], line 1\u001b[0m\n\u001b[0;32m----> 1\u001b[0m \u001b[43marr3\u001b[49m\u001b[38;5;241;43m.\u001b[39;49m\u001b[43mreshape\u001b[49m\u001b[43m(\u001b[49m\u001b[38;5;241;43m6\u001b[39;49m\u001b[43m,\u001b[49m\u001b[38;5;241;43m8\u001b[39;49m\u001b[43m)\u001b[49m\n",
      "\u001b[0;31mValueError\u001b[0m: cannot reshape array of size 12 into shape (6,8)"
     ]
    }
   ],
   "source": [
    "arr3.reshape(6,8)"
   ]
  },
  {
   "cell_type": "code",
   "execution_count": 59,
   "id": "daae0a7b-5f49-47e7-951d-ac4f7d054807",
   "metadata": {},
   "outputs": [],
   "source": [
    "arr4 = np.random.randint(1,100 , (5,5))"
   ]
  },
  {
   "cell_type": "code",
   "execution_count": 60,
   "id": "3ba4eecf-0d0c-4f07-b54f-9873e7551924",
   "metadata": {},
   "outputs": [
    {
     "data": {
      "text/plain": [
       "array([[21, 36, 27, 53, 76],\n",
       "       [63, 57, 89, 63, 91],\n",
       "       [ 2, 77, 71, 51, 84],\n",
       "       [67, 80, 88, 32, 66],\n",
       "       [44,  9, 40, 18, 83]])"
      ]
     },
     "execution_count": 60,
     "metadata": {},
     "output_type": "execute_result"
    }
   ],
   "source": [
    "arr4"
   ]
  },
  {
   "cell_type": "code",
   "execution_count": 61,
   "id": "431f4ea2-5ec8-480f-846a-ff00c352f2df",
   "metadata": {},
   "outputs": [
    {
     "data": {
      "text/plain": [
       "array([[False, False, False,  True,  True],\n",
       "       [ True,  True,  True,  True,  True],\n",
       "       [False,  True,  True,  True,  True],\n",
       "       [ True,  True,  True, False,  True],\n",
       "       [False, False, False, False,  True]])"
      ]
     },
     "execution_count": 61,
     "metadata": {},
     "output_type": "execute_result"
    }
   ],
   "source": [
    "arr4>50"
   ]
  },
  {
   "cell_type": "code",
   "execution_count": 62,
   "id": "5861cc2e-d281-4996-8cca-57273161897c",
   "metadata": {},
   "outputs": [
    {
     "data": {
      "text/plain": [
       "array([53, 76, 63, 57, 89, 63, 91, 77, 71, 51, 84, 67, 80, 88, 66, 83])"
      ]
     },
     "execution_count": 62,
     "metadata": {},
     "output_type": "execute_result"
    }
   ],
   "source": [
    "arr4[arr4>50]"
   ]
  },
  {
   "cell_type": "code",
   "execution_count": 63,
   "id": "0d4da6f7-ed9b-433a-b233-9fd3dd898a3e",
   "metadata": {},
   "outputs": [
    {
     "data": {
      "text/plain": [
       "array([[67, 80, 88, 32, 66]])"
      ]
     },
     "execution_count": 63,
     "metadata": {},
     "output_type": "execute_result"
    }
   ],
   "source": [
    "arr4[3:4]"
   ]
  },
  {
   "cell_type": "code",
   "execution_count": 64,
   "id": "14ea39ea-a339-43d8-9926-47a381b7e15d",
   "metadata": {},
   "outputs": [],
   "source": [
    "ary = np.array([1,2,3,4])\n"
   ]
  },
  {
   "cell_type": "code",
   "execution_count": 65,
   "id": "f245e13d-b09b-48a7-9088-584eb5b9c5ed",
   "metadata": {},
   "outputs": [],
   "source": [
    "ary2  = np.array([5,6,7,8])"
   ]
  },
  {
   "cell_type": "code",
   "execution_count": 66,
   "id": "af97e31c-c010-49ec-90b1-b9f607349f93",
   "metadata": {},
   "outputs": [
    {
     "data": {
      "text/plain": [
       "array([ 6,  8, 10, 12])"
      ]
     },
     "execution_count": 66,
     "metadata": {},
     "output_type": "execute_result"
    }
   ],
   "source": [
    " ary + ary2"
   ]
  },
  {
   "cell_type": "code",
   "execution_count": 67,
   "id": "1ebe8c1a-46f1-4706-989b-bd33ee10e5d9",
   "metadata": {},
   "outputs": [
    {
     "data": {
      "text/plain": [
       "array([4, 4, 4, 4])"
      ]
     },
     "execution_count": 67,
     "metadata": {},
     "output_type": "execute_result"
    }
   ],
   "source": [
    "ary2 - ary"
   ]
  },
  {
   "cell_type": "code",
   "execution_count": 68,
   "id": "bd5e1e14-a5ea-4930-81a0-86d3b29b83d0",
   "metadata": {},
   "outputs": [
    {
     "data": {
      "text/plain": [
       "array([ 5, 12, 21, 32])"
      ]
     },
     "execution_count": 68,
     "metadata": {},
     "output_type": "execute_result"
    }
   ],
   "source": [
    "ary2 * ary"
   ]
  },
  {
   "cell_type": "code",
   "execution_count": 69,
   "id": "e1e64bcb-5532-4e8c-ba38-80b8d2c9f5d0",
   "metadata": {},
   "outputs": [
    {
     "data": {
      "text/plain": [
       "70"
      ]
     },
     "execution_count": 69,
     "metadata": {},
     "output_type": "execute_result"
    }
   ],
   "source": [
    "# we can do matricx multiplication using@\n",
    "ary @ ary2\n"
   ]
  },
  {
   "cell_type": "code",
   "execution_count": 70,
   "id": "2a0ba1a5-f1e4-46e2-adaa-9da2f11509c4",
   "metadata": {},
   "outputs": [],
   "source": [
    "# Brodcasting "
   ]
  },
  {
   "cell_type": "code",
   "execution_count": 71,
   "id": "7d06389f-5c8f-4fcd-b95c-6f85d7fdf305",
   "metadata": {},
   "outputs": [],
   "source": [
    "ary3 = np.zeros((3,4))"
   ]
  },
  {
   "cell_type": "code",
   "execution_count": 72,
   "id": "0091e54c-f3a7-4393-a615-a198733f49bd",
   "metadata": {},
   "outputs": [
    {
     "data": {
      "text/plain": [
       "array([[0., 0., 0., 0.],\n",
       "       [0., 0., 0., 0.],\n",
       "       [0., 0., 0., 0.]])"
      ]
     },
     "execution_count": 72,
     "metadata": {},
     "output_type": "execute_result"
    }
   ],
   "source": [
    "ary3\n"
   ]
  },
  {
   "cell_type": "code",
   "execution_count": 73,
   "id": "8bb51ea7-4f41-4f65-b937-618fe4f1a9e9",
   "metadata": {},
   "outputs": [],
   "source": [
    "row = np.array([1,2,3,4])"
   ]
  },
  {
   "cell_type": "code",
   "execution_count": 74,
   "id": "3b180549-0f55-4ab2-a827-dfc89e8a0f1a",
   "metadata": {},
   "outputs": [
    {
     "data": {
      "text/plain": [
       "array([[1., 2., 3., 4.],\n",
       "       [1., 2., 3., 4.],\n",
       "       [1., 2., 3., 4.]])"
      ]
     },
     "execution_count": 74,
     "metadata": {},
     "output_type": "execute_result"
    }
   ],
   "source": [
    "ary3 + row"
   ]
  },
  {
   "cell_type": "code",
   "execution_count": 75,
   "id": "33271ad0-005b-42f4-b25b-e9aadb29d2f0",
   "metadata": {},
   "outputs": [],
   "source": [
    "cal = np.array([[1,2,3,4]])"
   ]
  },
  {
   "cell_type": "code",
   "execution_count": 76,
   "id": "4e3fdcc9-6193-4406-aa44-47db5cee93f0",
   "metadata": {},
   "outputs": [
    {
     "data": {
      "text/plain": [
       "array([[1],\n",
       "       [2],\n",
       "       [3],\n",
       "       [4]])"
      ]
     },
     "execution_count": 76,
     "metadata": {},
     "output_type": "execute_result"
    }
   ],
   "source": [
    "cal.T"
   ]
  },
  {
   "cell_type": "code",
   "execution_count": 77,
   "id": "a6a9e961-8a91-41a9-a368-0130ea2ad5da",
   "metadata": {},
   "outputs": [
    {
     "data": {
      "text/plain": [
       "array([[1., 2., 3., 4.],\n",
       "       [1., 2., 3., 4.],\n",
       "       [1., 2., 3., 4.]])"
      ]
     },
     "execution_count": 77,
     "metadata": {},
     "output_type": "execute_result"
    }
   ],
   "source": [
    "ary3 + cal"
   ]
  },
  {
   "cell_type": "code",
   "execution_count": 78,
   "id": "a41d91fb-0247-46da-a3dc-8da6e36f5683",
   "metadata": {},
   "outputs": [
    {
     "data": {
      "text/plain": [
       "array([[0., 0., 0., 0.],\n",
       "       [0., 0., 0., 0.],\n",
       "       [0., 0., 0., 0.]])"
      ]
     },
     "execution_count": 78,
     "metadata": {},
     "output_type": "execute_result"
    }
   ],
   "source": [
    "np.sqrt(ary3)"
   ]
  },
  {
   "cell_type": "code",
   "execution_count": 80,
   "id": "a12121b8-11f0-4cb6-b78f-8b9592204afb",
   "metadata": {},
   "outputs": [
    {
     "data": {
      "text/plain": [
       "array([[1., 0., 0., 0., 0.],\n",
       "       [0., 1., 0., 0., 0.],\n",
       "       [0., 0., 1., 0., 0.],\n",
       "       [0., 0., 0., 1., 0.],\n",
       "       [0., 0., 0., 0., 1.]])"
      ]
     },
     "execution_count": 80,
     "metadata": {},
     "output_type": "execute_result"
    }
   ],
   "source": [
    "np.eye(5)"
   ]
  },
  {
   "cell_type": "code",
   "execution_count": null,
   "id": "24712fdc-932c-4ca0-9a81-6f7d10bd2c54",
   "metadata": {},
   "outputs": [],
   "source": []
  },
  {
   "cell_type": "code",
   "execution_count": null,
   "id": "ab09ac3f-ccd9-4deb-917c-c28f6d43c7c0",
   "metadata": {},
   "outputs": [],
   "source": []
  }
 ],
 "metadata": {
  "kernelspec": {
   "display_name": "Python 3 (ipykernel)",
   "language": "python",
   "name": "python3"
  },
  "language_info": {
   "codemirror_mode": {
    "name": "ipython",
    "version": 3
   },
   "file_extension": ".py",
   "mimetype": "text/x-python",
   "name": "python",
   "nbconvert_exporter": "python",
   "pygments_lexer": "ipython3",
   "version": "3.10.8"
  }
 },
 "nbformat": 4,
 "nbformat_minor": 5
}
