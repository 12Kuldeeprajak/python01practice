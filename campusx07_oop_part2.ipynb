{
  "nbformat": 4,
  "nbformat_minor": 0,
  "metadata": {
    "colab": {
      "provenance": []
    },
    "kernelspec": {
      "name": "python3",
      "display_name": "Python 3"
    },
    "language_info": {
      "name": "python"
    }
  },
  "cells": [
    {
      "cell_type": "markdown",
      "source": [
        "### Write OOP classes to handle the following scenarios:\n",
        "\n",
        "- A user can create and view 2D coordinates\n",
        "- A user can find out the distance between 2 coordinates\n",
        "- A user can find find the distance of a coordinate from origin\n",
        "- A user can check if a point lies on a given line\n",
        "- A user can find the distance between a given 2D point and a given line\n",
        "\n"
      ],
      "metadata": {
        "id": "ij96O9bjNiwd"
      }
    },
    {
      "cell_type": "code",
      "execution_count": null,
      "metadata": {
        "id": "IE7TT2h_NP_T"
      },
      "outputs": [],
      "source": [
        "class point:\n",
        "  def __init__(self,x,y):\n",
        "    self.x_cod = x\n",
        "    self.y_cod = y \n",
        "\n",
        "  def __str__(self):\n",
        "    return '<{},{}>'.format(self.x_cod,self.y_cod)\n",
        "\n",
        "  def eculidian_dis(self,other):\n",
        "    return ((self.x_cod - other.x_cod)**2 +(self.y_cod - other.y_cod)**2)**0.5\n",
        "\n",
        "  def dis_from_origin(self):\n",
        "    return self.eculidian_dis(point(0,0))\n",
        "\n",
        "class line:\n",
        "  def __init__(self,a,b,c):\n",
        "    self.a = a\n",
        "    self.b = b\n",
        "    self.c = c \n",
        "\n",
        "  def __str__(self):\n",
        "    return \"{}x + {}y + {} = 0\".format(self.a,self.b , self.c)\n",
        "\n",
        "  def point_on_line(line,point):\n",
        "    if line.A*point.x_cod + line.B*point.y_cod + line.C == 0:\n",
        "      return \"lies on the line\"\n",
        "    else:\n",
        "      return \"does not lie on the line\"\n",
        "\n",
        "  def shortest_distance(line,point):\n",
        "    return abs(line.a*point.x_cod + line.b*point.y_cod + line.c)/(line.a**2 + line.b**2)**0.5\n"
      ]
    },
    {
      "cell_type": "code",
      "source": [
        "p1 = point(0,0)\n",
        "p2 = point(10,10)\n",
        "\n",
        "print(p1.eculidian_dis(p2))\n",
        "print(p1.dis_from_origin())\n"
      ],
      "metadata": {
        "colab": {
          "base_uri": "https://localhost:8080/"
        },
        "id": "bgkAd9D7OSFD",
        "outputId": "ddb44513-8199-49d8-a661-f6a3dde10cdc"
      },
      "execution_count": null,
      "outputs": [
        {
          "output_type": "stream",
          "name": "stdout",
          "text": [
            "14.142135623730951\n",
            "0.0\n"
          ]
        }
      ]
    },
    {
      "cell_type": "code",
      "source": [
        "#l1 = line(2,3,4)\n",
        "#print(l1)"
      ],
      "metadata": {
        "colab": {
          "base_uri": "https://localhost:8080/"
        },
        "id": "-6y9IsaIObrE",
        "outputId": "3b56d32b-d02d-42d4-9cb7-2c199608fa29"
      },
      "execution_count": null,
      "outputs": [
        {
          "output_type": "stream",
          "name": "stdout",
          "text": [
            "2x + 3y + 4 = 0\n"
          ]
        }
      ]
    },
    {
      "cell_type": "code",
      "source": [
        "l1 = line(1,1,-2)\n",
        "p1 = point(1,10)\n",
        "print(l1)\n",
        "print(p1)\n",
        "\n",
        "l1.shortest_distance(p1)"
      ],
      "metadata": {
        "colab": {
          "base_uri": "https://localhost:8080/"
        },
        "id": "zjeRXdsoYavt",
        "outputId": "5aa6f7a0-3441-493c-d54b-7f62305beb28"
      },
      "execution_count": null,
      "outputs": [
        {
          "output_type": "stream",
          "name": "stdout",
          "text": [
            "1x + 1y + -2 = 0\n",
            "<1,10>\n"
          ]
        },
        {
          "output_type": "execute_result",
          "data": {
            "text/plain": [
              "6.363961030678928"
            ]
          },
          "metadata": {},
          "execution_count": 29
        }
      ]
    },
    {
      "cell_type": "code",
      "source": [
        "class Person :\n",
        "  def __init__(self,name_input,country_input):\n",
        "    self.name = name_input\n",
        "    self.country = country_input\n",
        "\n",
        "  def greet(self):\n",
        "    if self.country == 'india':\n",
        "      print('Namaste',self.name)\n",
        "    else:\n",
        "      print('Hello',self.name)\n"
      ],
      "metadata": {
        "id": "enUNmM28dF1E"
      },
      "execution_count": null,
      "outputs": []
    },
    {
      "cell_type": "code",
      "source": [
        "# how to access attributes\n",
        "p = Person('kuldeep','india')"
      ],
      "metadata": {
        "id": "g337nOm1l_Qh"
      },
      "execution_count": null,
      "outputs": []
    },
    {
      "cell_type": "code",
      "source": [
        "p.name"
      ],
      "metadata": {
        "colab": {
          "base_uri": "https://localhost:8080/",
          "height": 35
        },
        "id": "0ivpiYmWmCFb",
        "outputId": "03002701-f69d-47f0-fbb9-947009479e9e"
      },
      "execution_count": null,
      "outputs": [
        {
          "output_type": "execute_result",
          "data": {
            "text/plain": [
              "'kuldeep'"
            ],
            "application/vnd.google.colaboratory.intrinsic+json": {
              "type": "string"
            }
          },
          "metadata": {},
          "execution_count": 37
        }
      ]
    },
    {
      "cell_type": "code",
      "source": [
        "# how to access methods\n",
        "p.greet()"
      ],
      "metadata": {
        "colab": {
          "base_uri": "https://localhost:8080/"
        },
        "id": "7LQVnllfmFKe",
        "outputId": "98a36a1a-fde7-45c4-a2f4-3d8baa2d5a39"
      },
      "execution_count": null,
      "outputs": [
        {
          "output_type": "stream",
          "name": "stdout",
          "text": [
            "Namaste kuldeep\n"
          ]
        }
      ]
    },
    {
      "cell_type": "code",
      "source": [
        "# what if i try to access non-existent attributes\n",
        "p.gender"
      ],
      "metadata": {
        "colab": {
          "base_uri": "https://localhost:8080/",
          "height": 183
        },
        "id": "yYQPe0anmUE5",
        "outputId": "b228308d-fa36-4ca3-c60c-b980e18d2500"
      },
      "execution_count": null,
      "outputs": [
        {
          "output_type": "error",
          "ename": "AttributeError",
          "evalue": "ignored",
          "traceback": [
            "\u001b[0;31m---------------------------------------------------------------------------\u001b[0m",
            "\u001b[0;31mAttributeError\u001b[0m                            Traceback (most recent call last)",
            "\u001b[0;32m<ipython-input-38-39388d77d830>\u001b[0m in \u001b[0;36m<cell line: 2>\u001b[0;34m()\u001b[0m\n\u001b[1;32m      1\u001b[0m \u001b[0;31m# what if i try to access non-existent attributes\u001b[0m\u001b[0;34m\u001b[0m\u001b[0;34m\u001b[0m\u001b[0m\n\u001b[0;32m----> 2\u001b[0;31m \u001b[0mp\u001b[0m\u001b[0;34m.\u001b[0m\u001b[0mgender\u001b[0m\u001b[0;34m\u001b[0m\u001b[0;34m\u001b[0m\u001b[0m\n\u001b[0m",
            "\u001b[0;31mAttributeError\u001b[0m: 'Person' object has no attribute 'gender'"
          ]
        }
      ]
    },
    {
      "cell_type": "markdown",
      "source": [
        "### Attribute creation from outside of the class"
      ],
      "metadata": {
        "id": "a6PCX33wmfnL"
      }
    },
    {
      "cell_type": "code",
      "source": [
        "p.gender = 'male'\n",
        "print(p.gender)"
      ],
      "metadata": {
        "colab": {
          "base_uri": "https://localhost:8080/"
        },
        "id": "AOfzCvK0mUyU",
        "outputId": "4a01c390-712e-45ce-92a1-ba50c6e3d3b0"
      },
      "execution_count": null,
      "outputs": [
        {
          "output_type": "stream",
          "name": "stdout",
          "text": [
            "male\n"
          ]
        }
      ]
    },
    {
      "cell_type": "markdown",
      "source": [
        "---------"
      ],
      "metadata": {
        "id": "osS9872PJSRI"
      }
    },
    {
      "cell_type": "markdown",
      "source": [
        "### Encapsulation"
      ],
      "metadata": {
        "id": "Dx7GtmAHF2sr"
      }
    },
    {
      "cell_type": "markdown",
      "source": [
        "In Python, encapsulation is a fundamental principle of object-oriented programming (OOP). It involves bundling data and methods together within a class and controlling their access from outside the class. Encapsulation helps in achieving data hiding and abstraction, which are crucial for creating robust and maintainable code. Here's how encapsulation is implemented in Python:\n",
        "\n",
        "1. Class Definition: Encapsulation begins with defining a class, which serves as a blueprint for creating objects. The class encapsulates data attributes (variables) and methods (functions) that operate on the data.\n",
        "\n",
        "2. Data Hiding: To achieve encapsulation, data hiding is employed. This means that the internal data of a class is hidden from external access. In Python, this is typically done by using naming conventions or access modifiers.\n",
        "\n",
        "   a. Naming Conventions: Prefixing the attribute or method name with a single underscore (_) indicates that it's intended for internal use within the class. However, it doesn't enforce strict access restrictions.\n",
        "\n",
        "   b. Access Modifiers: Although Python doesn't have built-in access modifiers like other languages (e.g., public, private, protected), developers conventionally use a double underscore prefix (__) to indicate private attributes or methods. These are known as name mangling attributes, and they are slightly more restricted in terms of access.\n",
        "\n",
        "3. Getter and Setter Methods: To provide controlled access to the encapsulated data, getter and setter methods are used. These methods allow retrieving (getter) or modifying (setter) the values of private attributes.\n",
        "\n",
        "   a. Getter Methods: Getter methods, also known as accessor methods, are used to access the values of private attributes. They are typically named with the attribute name preceded by \"get\" or \"is.\"\n",
        "\n",
        "   b. Setter Methods: Setter methods, also known as mutator methods, are used to modify the values of private attributes. They are typically named with the attribute name preceded by \"set.\"\n",
        "\n",
        "   By using getter and setter methods, you can enforce validation rules, perform computations, or implement additional logic while accessing or modifying the encapsulated data.\n",
        "\n",
        "4. Property Decorators: Python provides a convenient way to define getter and setter methods using property decorators. By decorating methods with @property, you can define a method as a getter, and by using @<attribute_name>.setter, you can define a method as a setter. This simplifies the syntax for accessing and modifying attributes.\n",
        "\n",
        "   Example:\n",
        "\n",
        "   ```python\n",
        "   class MyClass:\n",
        "       def __init__(self):\n",
        "           self.__private_attr = None\n",
        "\n",
        "       @property\n",
        "       def private_attr(self):\n",
        "           return self.__private_attr\n",
        "\n",
        "       @private_attr.setter\n",
        "       def private_attr(self, value):\n",
        "           # Additional validation or logic can be implemented here\n",
        "           self.__private_attr = value\n",
        "   ```\n",
        "\n",
        "By encapsulating data and methods within classes, and controlling access to them using naming conventions, access modifiers, getter and setter methods, or property decorators, encapsulation in Python helps ensure data integrity, improves code organization, and enhances code reusability."
      ],
      "metadata": {
        "id": "NMhkVkcPGPpg"
      }
    },
    {
      "cell_type": "code",
      "source": [
        "class test1 :\n",
        "  def __init__(self,a,b):\n",
        "    self.a = a \n",
        "    self.b = b\n"
      ],
      "metadata": {
        "id": "VExuBLS9t8dy"
      },
      "execution_count": null,
      "outputs": []
    },
    {
      "cell_type": "code",
      "source": [
        "t = test1(2,3)"
      ],
      "metadata": {
        "id": "PiNEUEVgYUeL"
      },
      "execution_count": null,
      "outputs": []
    },
    {
      "cell_type": "code",
      "source": [
        "t.a = 43"
      ],
      "metadata": {
        "id": "viasZY52YUbg"
      },
      "execution_count": null,
      "outputs": []
    },
    {
      "cell_type": "code",
      "source": [
        "print(t.a)"
      ],
      "metadata": {
        "colab": {
          "base_uri": "https://localhost:8080/"
        },
        "id": "KVodTR5UYVPx",
        "outputId": "a939d281-f45c-4f49-ded4-f6518f60de59"
      },
      "execution_count": null,
      "outputs": [
        {
          "output_type": "stream",
          "name": "stdout",
          "text": [
            "43\n"
          ]
        }
      ]
    },
    {
      "cell_type": "code",
      "source": [
        "#naw we wncapsulate it \n",
        "class car:\n",
        "  def __init__(self,model , speed):\n",
        "    self.__model = model\n",
        "    self.__speed = speed\n",
        "\n",
        "#if codder wants that user can change code and it also get private then we use gatter and satter \n",
        "  def set_speed(self,speed):\n",
        "    self.__speed = 0 if speed < 0 else speed\n",
        "\n",
        "  def get_speed(self):\n",
        "    return self.__speed"
      ],
      "metadata": {
        "id": "5K2tEqGEYVM5"
      },
      "execution_count": 4,
      "outputs": []
    },
    {
      "cell_type": "code",
      "source": [
        "c = car('bmw',120)"
      ],
      "metadata": {
        "id": "TSfoRvI7ean_"
      },
      "execution_count": 5,
      "outputs": []
    },
    {
      "cell_type": "code",
      "source": [
        "c.__model"
      ],
      "metadata": {
        "colab": {
          "base_uri": "https://localhost:8080/",
          "height": 165
        },
        "id": "j_WcNv8-eaVr",
        "outputId": "5d300a3f-6a85-4a34-fce8-611207c1da1e"
      },
      "execution_count": 6,
      "outputs": [
        {
          "output_type": "error",
          "ename": "AttributeError",
          "evalue": "ignored",
          "traceback": [
            "\u001b[0;31m---------------------------------------------------------------------------\u001b[0m",
            "\u001b[0;31mAttributeError\u001b[0m                            Traceback (most recent call last)",
            "\u001b[0;32m<ipython-input-6-02ddf7807270>\u001b[0m in \u001b[0;36m<cell line: 1>\u001b[0;34m()\u001b[0m\n\u001b[0;32m----> 1\u001b[0;31m \u001b[0mc\u001b[0m\u001b[0;34m.\u001b[0m\u001b[0m__model\u001b[0m\u001b[0;34m\u001b[0m\u001b[0;34m\u001b[0m\u001b[0m\n\u001b[0m",
            "\u001b[0;31mAttributeError\u001b[0m: 'car' object has no attribute '__model'"
          ]
        }
      ]
    },
    {
      "cell_type": "code",
      "source": [
        "c._car__model"
      ],
      "metadata": {
        "colab": {
          "base_uri": "https://localhost:8080/",
          "height": 35
        },
        "id": "j7rMu9jIeaAT",
        "outputId": "9468260a-7c51-47f3-8b9c-d435163f995f"
      },
      "execution_count": 7,
      "outputs": [
        {
          "output_type": "execute_result",
          "data": {
            "text/plain": [
              "'bmw'"
            ],
            "application/vnd.google.colaboratory.intrinsic+json": {
              "type": "string"
            }
          },
          "metadata": {},
          "execution_count": 7
        }
      ]
    },
    {
      "cell_type": "code",
      "source": [
        "c.set_speed(-454)"
      ],
      "metadata": {
        "id": "DGn6CLzJeZ9A"
      },
      "execution_count": 9,
      "outputs": []
    },
    {
      "cell_type": "code",
      "source": [
        "c.get_speed()"
      ],
      "metadata": {
        "id": "R5N6mTd5eZ6n",
        "colab": {
          "base_uri": "https://localhost:8080/"
        },
        "outputId": "6958bf2b-0bc1-4af1-c9cc-43ab29910c4b"
      },
      "execution_count": 11,
      "outputs": [
        {
          "output_type": "execute_result",
          "data": {
            "text/plain": [
              "0"
            ]
          },
          "metadata": {},
          "execution_count": 11
        }
      ]
    },
    {
      "cell_type": "code",
      "source": [
        "c.set_speed(54)"
      ],
      "metadata": {
        "id": "AMnKNGQJJL8K"
      },
      "execution_count": 12,
      "outputs": []
    },
    {
      "cell_type": "code",
      "source": [
        "c.get_speed()"
      ],
      "metadata": {
        "colab": {
          "base_uri": "https://localhost:8080/"
        },
        "id": "f12KyR9KJNE_",
        "outputId": "1909661f-cc1d-4fa4-abc2-f90ab39db308"
      },
      "execution_count": 13,
      "outputs": [
        {
          "output_type": "execute_result",
          "data": {
            "text/plain": [
              "54"
            ]
          },
          "metadata": {},
          "execution_count": 13
        }
      ]
    },
    {
      "cell_type": "code",
      "source": [
        "class  bank_balance:\n",
        "  def __init__(self,balance):\n",
        "    self.__balance = balance\n",
        "\n",
        "  def check_balance(self):\n",
        "    return self.__balance\n",
        "\n",
        "  def deposit(self,amount):\n",
        "    self.__balance = self.__balance + amount\n",
        "\n",
        "  def withdrow(self,amount):\n",
        "    if self.__balance >= amount:\n",
        "      self.__balance = self.__balance-amount\n",
        "      return True\n",
        "    else:\n",
        "      return False\n"
      ],
      "metadata": {
        "id": "PKdLMg1vJNCM"
      },
      "execution_count": 47,
      "outputs": []
    },
    {
      "cell_type": "code",
      "source": [
        "kd = bank_balance(10000)"
      ],
      "metadata": {
        "id": "rDvxMThmJM--"
      },
      "execution_count": 48,
      "outputs": []
    },
    {
      "cell_type": "code",
      "source": [
        "kd.check_balance()"
      ],
      "metadata": {
        "colab": {
          "base_uri": "https://localhost:8080/"
        },
        "id": "Rk1XI5xqJM8R",
        "outputId": "076ca828-d58f-42ec-cb8e-5a45a95a69f3"
      },
      "execution_count": 49,
      "outputs": [
        {
          "output_type": "execute_result",
          "data": {
            "text/plain": [
              "10000"
            ]
          },
          "metadata": {},
          "execution_count": 49
        }
      ]
    },
    {
      "cell_type": "code",
      "source": [
        "kd.deposit(5000)"
      ],
      "metadata": {
        "id": "n0qbL3ETJM42"
      },
      "execution_count": 50,
      "outputs": []
    },
    {
      "cell_type": "code",
      "source": [
        "kd.check_balance()"
      ],
      "metadata": {
        "colab": {
          "base_uri": "https://localhost:8080/"
        },
        "id": "zs9XJvUuJL5P",
        "outputId": "17f60a75-4f2e-4327-fa95-c486698b3671"
      },
      "execution_count": 51,
      "outputs": [
        {
          "output_type": "execute_result",
          "data": {
            "text/plain": [
              "15000"
            ]
          },
          "metadata": {},
          "execution_count": 51
        }
      ]
    },
    {
      "cell_type": "code",
      "source": [
        "kd.withdrow(2000)"
      ],
      "metadata": {
        "colab": {
          "base_uri": "https://localhost:8080/"
        },
        "id": "YpQ3JyI7ML8U",
        "outputId": "9de4751c-1e1c-4b28-eb4f-299c25c983f6"
      },
      "execution_count": 52,
      "outputs": [
        {
          "output_type": "execute_result",
          "data": {
            "text/plain": [
              "True"
            ]
          },
          "metadata": {},
          "execution_count": 52
        }
      ]
    },
    {
      "cell_type": "code",
      "source": [
        "kd.check_balance()"
      ],
      "metadata": {
        "colab": {
          "base_uri": "https://localhost:8080/"
        },
        "id": "btVNMaI-ML5z",
        "outputId": "31ce8481-904a-4ef1-c008-0f571eae9795"
      },
      "execution_count": 53,
      "outputs": [
        {
          "output_type": "execute_result",
          "data": {
            "text/plain": [
              "13000"
            ]
          },
          "metadata": {},
          "execution_count": 53
        }
      ]
    },
    {
      "cell_type": "code",
      "source": [
        "kd.withdrow(14000)"
      ],
      "metadata": {
        "colab": {
          "base_uri": "https://localhost:8080/"
        },
        "id": "Ck_B75R9ML3d",
        "outputId": "e20d6329-0422-42ba-86a9-9b855f49c1fc"
      },
      "execution_count": 54,
      "outputs": [
        {
          "output_type": "execute_result",
          "data": {
            "text/plain": [
              "False"
            ]
          },
          "metadata": {},
          "execution_count": 54
        }
      ]
    },
    {
      "cell_type": "code",
      "source": [
        "kd.check_balance()"
      ],
      "metadata": {
        "colab": {
          "base_uri": "https://localhost:8080/"
        },
        "id": "LcntspDAML0b",
        "outputId": "f6988111-1a69-4961-cf98-fad9462a27bc"
      },
      "execution_count": 55,
      "outputs": [
        {
          "output_type": "execute_result",
          "data": {
            "text/plain": [
              "13000"
            ]
          },
          "metadata": {},
          "execution_count": 55
        }
      ]
    },
    {
      "cell_type": "code",
      "source": [],
      "metadata": {
        "id": "XVvnql7OMLwj"
      },
      "execution_count": null,
      "outputs": []
    },
    {
      "cell_type": "code",
      "source": [],
      "metadata": {
        "id": "yIxrw25bMLtb"
      },
      "execution_count": null,
      "outputs": []
    },
    {
      "cell_type": "code",
      "source": [],
      "metadata": {
        "id": "SRTyx8q1MLqu"
      },
      "execution_count": null,
      "outputs": []
    },
    {
      "cell_type": "code",
      "source": [],
      "metadata": {
        "id": "ZTs5maXiMLoH"
      },
      "execution_count": null,
      "outputs": []
    },
    {
      "cell_type": "code",
      "source": [],
      "metadata": {
        "id": "cganE2bGMKrD"
      },
      "execution_count": null,
      "outputs": []
    },
    {
      "cell_type": "markdown",
      "source": [
        "----------\n"
      ],
      "metadata": {
        "id": "ggwtWeKQJbC7"
      }
    },
    {
      "cell_type": "markdown",
      "source": [
        "## Polymorphism\n",
        "Polymorphism(poly - bahutsara) is a fundamental concept in object-oriented programming (OOP) that allows objects of different classes to be treated as objects of a common parent class. It enables objects to exhibit different behaviors based on their specific class type while sharing a common interface or base class.\n",
        "\n",
        "In Python, polymorphism is achieved through method overriding and method overloading.\n",
        "\n",
        "1. Method Overriding:\n",
        "Method overriding occurs when a derived class defines a method with the same name as a method in its parent class. The derived class's method overrides the implementation of the parent class's method, allowing the derived class to provide its specific implementation. When an object is of the derived class type, calling the overridden method will execute the derived class's implementation instead of the parent class's implementation.\n",
        "\n",
        "Here's an example:\n",
        "\n",
        "```python\n",
        "class Animal:\n",
        "    def sound(self):\n",
        "        print(\"Animal makes a sound\")\n",
        "\n",
        "class Cat(Animal):\n",
        "    def sound(self):\n",
        "        print(\"Meow\")\n",
        "\n",
        "class Dog(Animal):\n",
        "    def sound(self):\n",
        "        print(\"Woof\")\n",
        "\n",
        "cat = Cat()\n",
        "dog = Dog()\n",
        "\n",
        "cat.sound()  # Output: Meow\n",
        "dog.sound()  # Output: Woof\n",
        "```\n",
        "\n",
        "In this example, the `Animal` class has a `sound` method, and both the `Cat` and `Dog` classes inherit from it. However, they override the `sound` method with their own implementations. When calling the `sound` method on objects of `Cat` and `Dog` classes, the appropriate overridden method is executed.\n",
        "\n",
        "2. Method Overloading:\n",
        "Method overloading refers to defining multiple methods with the same name but different parameters or argument types. In Python, unlike some other languages, method overloading is not directly supported by the language itself. However, it can be achieved using default arguments or variable-length arguments (*args or **kwargs).\n",
        "\n",
        "Here's an example using variable-length arguments:\n",
        "\n",
        "```python\n",
        "class Calculator:\n",
        "    def add(self, a, b):\n",
        "        return a + b\n",
        "\n",
        "    def add(self, a, b, c):\n",
        "        return a + b + c\n",
        "\n",
        "calc = Calculator()\n",
        "print(calc.add(2, 3))      # Output: TypeError: add() missing 1 required positional argument: 'c'\n",
        "print(calc.add(2, 3, 4))   # Output: 9\n",
        "```\n",
        "\n",
        "In this example, the `Calculator` class has two `add` methods—one that takes two arguments and another that takes three arguments. However, Python only considers the latest defined method with the same name. Hence, when calling `calc.add(2, 3)`, it throws an error because the method with two arguments is no longer accessible.\n",
        "\n",
        "Overall, polymorphism in Python allows objects to exhibit different behaviors based on their specific class type, enhancing code reusability and flexibility in OOP."
      ],
      "metadata": {
        "id": "v6zlgPf_YMjd"
      }
    },
    {
      "cell_type": "markdown",
      "source": [
        "___________\n",
        "Basicly polymorphism means function could be diffrent for diffrent "
      ],
      "metadata": {
        "id": "_2ACK44YYX5i"
      }
    },
    {
      "cell_type": "code",
      "source": [
        "def test(a,b) :\n",
        "  return a+b"
      ],
      "metadata": {
        "id": "X-rn79egYSoB"
      },
      "execution_count": null,
      "outputs": []
    },
    {
      "cell_type": "code",
      "source": [
        "test(4,5)"
      ],
      "metadata": {
        "colab": {
          "base_uri": "https://localhost:8080/"
        },
        "id": "cTKJ76KLY4go",
        "outputId": "11001b81-1d63-4c38-ac54-f64b72a0a242"
      },
      "execution_count": null,
      "outputs": [
        {
          "output_type": "execute_result",
          "data": {
            "text/plain": [
              "9"
            ]
          },
          "metadata": {},
          "execution_count": 2
        }
      ]
    },
    {
      "cell_type": "code",
      "source": [
        "test('kuldeep','rajak')"
      ],
      "metadata": {
        "colab": {
          "base_uri": "https://localhost:8080/",
          "height": 35
        },
        "id": "7H0OPbquY7dS",
        "outputId": "0df35f48-3c94-48ff-e90e-fcf684f226dd"
      },
      "execution_count": null,
      "outputs": [
        {
          "output_type": "execute_result",
          "data": {
            "text/plain": [
              "'kuldeeprajak'"
            ],
            "application/vnd.google.colaboratory.intrinsic+json": {
              "type": "string"
            }
          },
          "metadata": {},
          "execution_count": 3
        }
      ]
    },
    {
      "cell_type": "code",
      "source": [
        "test([1,2,3,4],[4,5,6,7])"
      ],
      "metadata": {
        "colab": {
          "base_uri": "https://localhost:8080/"
        },
        "id": "ba_X0kR1Y_2f",
        "outputId": "322b8047-d1e1-4210-a6e2-8329072ff52d"
      },
      "execution_count": null,
      "outputs": [
        {
          "output_type": "execute_result",
          "data": {
            "text/plain": [
              "[1, 2, 3, 4, 4, 5, 6, 7]"
            ]
          },
          "metadata": {},
          "execution_count": 4
        }
      ]
    },
    {
      "cell_type": "code",
      "source": [
        "class data_scienc:\n",
        "  def syllabus(self):\n",
        "    print(\"This is syllabus for data science \")\n",
        "    \n"
      ],
      "metadata": {
        "id": "I7e0szNaZEpV"
      },
      "execution_count": null,
      "outputs": []
    },
    {
      "cell_type": "code",
      "source": [
        "class web_dev:\n",
        "  def syllabus(self):\n",
        "    print(\"This is syllabus for web dev \")"
      ],
      "metadata": {
        "id": "cTLXxXBPaMB3"
      },
      "execution_count": null,
      "outputs": []
    },
    {
      "cell_type": "code",
      "source": [
        "def class_prese(class_obj):\n",
        "  for i in class_obj:\n",
        "    i.syllabus()"
      ],
      "metadata": {
        "id": "s3w9cjgyaXnh"
      },
      "execution_count": null,
      "outputs": []
    },
    {
      "cell_type": "code",
      "source": [
        "data_scienc = data_scienc()\n"
      ],
      "metadata": {
        "id": "PduqzJDaam9o"
      },
      "execution_count": null,
      "outputs": []
    },
    {
      "cell_type": "code",
      "source": [
        "web_dev = web_dev()"
      ],
      "metadata": {
        "id": "N353gtOOav8u"
      },
      "execution_count": null,
      "outputs": []
    },
    {
      "cell_type": "code",
      "source": [
        "class_obj = [data_scienc , web_dev]"
      ],
      "metadata": {
        "id": "UEMByiZ-bL1G"
      },
      "execution_count": null,
      "outputs": []
    },
    {
      "cell_type": "code",
      "source": [
        "class_prese(class_obj)"
      ],
      "metadata": {
        "colab": {
          "base_uri": "https://localhost:8080/"
        },
        "id": "6ATxe6V6bZ_X",
        "outputId": "c2e93276-60ec-4242-c043-0a186a71b9eb"
      },
      "execution_count": null,
      "outputs": [
        {
          "output_type": "stream",
          "name": "stdout",
          "text": [
            "This is syllabus for data science \n",
            "This is syllabus for web dev \n"
          ]
        }
      ]
    },
    {
      "cell_type": "code",
      "source": [],
      "metadata": {
        "id": "8j7-TZdObjTD"
      },
      "execution_count": null,
      "outputs": []
    },
    {
      "cell_type": "markdown",
      "source": [
        "------\n"
      ],
      "metadata": {
        "id": "V0YnEt3nQjcJ"
      }
    },
    {
      "cell_type": "markdown",
      "source": [
        "##**Inheritance** \n",
        "\n"
      ],
      "metadata": {
        "id": "F3x7Gm1sQlrd"
      }
    },
    {
      "cell_type": "markdown",
      "source": [
        "Inheritance is a fundamental concept in object-oriented programming (OOP) that allows a class (called a child or derived class) to inherit properties and behaviors from another class (called a parent or base class). In Python, inheritance is implemented using the class definition and the concept of subclassing.\n",
        "\n",
        "The child class inherits the attributes and methods of the parent class, and it can also define its own attributes and methods. This inheritance relationship forms an \"is-a\" relationship, where the child class is considered to be a specialized version of the parent class.\n",
        "\n",
        "Here's an example to illustrate inheritance in Python:\n",
        "\n",
        "```python\n",
        "class Vehicle:\n",
        "    def __init__(self, brand, color):\n",
        "        self.brand = brand\n",
        "        self.color = color\n",
        "\n",
        "    def info(self):\n",
        "        print(\"Brand:\", self.brand)\n",
        "        print(\"Color:\", self.color)\n",
        "\n",
        "\n",
        "class Car(Vehicle):\n",
        "    def __init__(self, brand, color, fuel_type):\n",
        "        super().__init__(brand, color)\n",
        "        self.fuel_type = fuel_type\n",
        "\n",
        "    def drive(self):\n",
        "        print(\"Driving the car\")\n",
        "\n",
        "    def info(self):\n",
        "        super().info()\n",
        "        print(\"Fuel Type:\", self.fuel_type)\n",
        "\n",
        "\n",
        "vehicle = Vehicle(\"Generic Brand\", \"Black\")\n",
        "vehicle.info()\n",
        "# Output:\n",
        "# Brand: Generic Brand\n",
        "# Color: Black\n",
        "\n",
        "car = Car(\"Toyota\", \"Red\", \"Petrol\")\n",
        "car.info()\n",
        "# Output:\n",
        "# Brand: Toyota\n",
        "# Color: Red\n",
        "# Fuel Type: Petrol\n",
        "```\n",
        "\n",
        "In this example, we have a base class called `Vehicle` that has an `__init__` method to initialize the brand and color attributes and an `info` method to display the vehicle's information.\n",
        "\n",
        "The `Car` class is a derived class that inherits from the `Vehicle` class using the syntax `class Car(Vehicle)`. It has its own `__init__` method to initialize the fuel_type attribute and a `drive` method specific to cars. The `Car` class also overrides the `info` method from the base class to add additional information specific to cars.\n",
        "\n",
        "By calling `super().__init__(brand, color)` within the `Car` class's `__init__` method, we invoke the parent class's `__init__` method to initialize the brand and color attributes. This allows us to reuse code and ensure the necessary attributes are properly set.\n",
        "\n",
        "When creating an instance of the `Car` class (`car = Car(\"Toyota\", \"Red\", \"Petrol\")`), we can access both the inherited methods from the `Vehicle` class (`info()`) and the specific methods defined in the `Car` class (`drive()`).\n",
        "\n",
        "Inheritance promotes code reuse, modularity, and allows for the creation of hierarchies in object-oriented systems, where classes can be organized based on their similarities and differences."
      ],
      "metadata": {
        "id": "CjvaRbdCRk2e"
      }
    },
    {
      "cell_type": "code",
      "source": [
        "#Example of single level inharitance\n",
        "class parent:\n",
        "  def parent_fun(self):\n",
        "    return 'This is parent class'\n",
        "  \n",
        "  "
      ],
      "metadata": {
        "id": "y-SGeKw-Qkwv"
      },
      "execution_count": 35,
      "outputs": []
    },
    {
      "cell_type": "code",
      "source": [
        "class child_class(parent):\n",
        "  pass\n"
      ],
      "metadata": {
        "id": "i53YKJEvTpf3"
      },
      "execution_count": 65,
      "outputs": []
    },
    {
      "cell_type": "code",
      "source": [
        "cobj = child_class()"
      ],
      "metadata": {
        "id": "QjURi3DfTpcu"
      },
      "execution_count": 66,
      "outputs": []
    },
    {
      "cell_type": "code",
      "source": [
        "cobj.parent_fun()"
      ],
      "metadata": {
        "colab": {
          "base_uri": "https://localhost:8080/",
          "height": 35
        },
        "id": "dwPYML-sTpZ-",
        "outputId": "03b53e61-7fa2-4a66-8382-8742b70fcbea"
      },
      "execution_count": 67,
      "outputs": [
        {
          "output_type": "execute_result",
          "data": {
            "text/plain": [
              "'This is parent class'"
            ],
            "application/vnd.google.colaboratory.intrinsic+json": {
              "type": "string"
            }
          },
          "metadata": {},
          "execution_count": 67
        }
      ]
    },
    {
      "cell_type": "code",
      "source": [
        "#Multi level inharitance \n",
        "class class1:\n",
        "  def test_class(self):\n",
        "    return 'This is my clas1 '"
      ],
      "metadata": {
        "id": "pY1sjUMXTpOS"
      },
      "execution_count": 1,
      "outputs": []
    },
    {
      "cell_type": "code",
      "source": [
        "class class2(class1):\n",
        "  def test_class1(self):\n",
        "    return 'This is my class2'\n",
        "    "
      ],
      "metadata": {
        "id": "ZThH9ezJTpLD"
      },
      "execution_count": 2,
      "outputs": []
    },
    {
      "cell_type": "code",
      "source": [
        "class class3(class2 , class1):\n",
        "  def test_class2(self):\n",
        "    return 'This is my class3'"
      ],
      "metadata": {
        "id": "DTa7klvnTpH8"
      },
      "execution_count": 19,
      "outputs": []
    },
    {
      "cell_type": "code",
      "source": [
        "c3 = class3()"
      ],
      "metadata": {
        "id": "HY0_GjO4TpE1"
      },
      "execution_count": 21,
      "outputs": []
    },
    {
      "cell_type": "code",
      "source": [
        "c3.test_class1()"
      ],
      "metadata": {
        "colab": {
          "base_uri": "https://localhost:8080/",
          "height": 35
        },
        "id": "dasgMeyXTo1i",
        "outputId": "176ead54-6476-4cf4-b50d-3ee5ee66b8d3"
      },
      "execution_count": 23,
      "outputs": [
        {
          "output_type": "execute_result",
          "data": {
            "text/plain": [
              "'This is my class2'"
            ],
            "application/vnd.google.colaboratory.intrinsic+json": {
              "type": "string"
            }
          },
          "metadata": {},
          "execution_count": 23
        }
      ]
    },
    {
      "cell_type": "code",
      "source": [
        "c3.test_class1()"
      ],
      "metadata": {
        "colab": {
          "base_uri": "https://localhost:8080/",
          "height": 35
        },
        "id": "x_zx__kNy0em",
        "outputId": "448afed3-6900-41cd-8c12-29f761ec1d1e"
      },
      "execution_count": 26,
      "outputs": [
        {
          "output_type": "execute_result",
          "data": {
            "text/plain": [
              "'This is my class2'"
            ],
            "application/vnd.google.colaboratory.intrinsic+json": {
              "type": "string"
            }
          },
          "metadata": {},
          "execution_count": 26
        }
      ]
    },
    {
      "cell_type": "code",
      "source": [
        "#Multiple inharitance \n",
        "#in multiple inharitance we can inharit the multiple classes in a single class \n",
        "class class4:\n",
        "  def test_class(self):\n",
        "    return 'This is my clas4 '"
      ],
      "metadata": {
        "id": "GM8K1prIToxI"
      },
      "execution_count": 24,
      "outputs": []
    },
    {
      "cell_type": "code",
      "source": [
        "class class5(class4):\n",
        "  def test_class1(self):\n",
        "    return 'This is my class5'"
      ],
      "metadata": {
        "id": "Bept4sjeTot-"
      },
      "execution_count": 27,
      "outputs": []
    },
    {
      "cell_type": "code",
      "source": [
        "class mor(class4 , class5):\n",
        "  def test_class2(self):\n",
        "    return 'This is my class5'\n"
      ],
      "metadata": {
        "colab": {
          "base_uri": "https://localhost:8080/",
          "height": 218
        },
        "id": "0thGQ_wTUjEw",
        "outputId": "7cc636eb-3416-4b0a-a709-b8117e1551a8"
      },
      "execution_count": 29,
      "outputs": [
        {
          "output_type": "error",
          "ename": "TypeError",
          "evalue": "ignored",
          "traceback": [
            "\u001b[0;31m---------------------------------------------------------------------------\u001b[0m",
            "\u001b[0;31mTypeError\u001b[0m                                 Traceback (most recent call last)",
            "\u001b[0;32m<ipython-input-29-4723d86c5d7a>\u001b[0m in \u001b[0;36m<cell line: 1>\u001b[0;34m()\u001b[0m\n\u001b[0;32m----> 1\u001b[0;31m \u001b[0;32mclass\u001b[0m \u001b[0mmor\u001b[0m\u001b[0;34m(\u001b[0m\u001b[0mclass4\u001b[0m \u001b[0;34m,\u001b[0m \u001b[0mclass5\u001b[0m\u001b[0;34m)\u001b[0m\u001b[0;34m:\u001b[0m\u001b[0;34m\u001b[0m\u001b[0;34m\u001b[0m\u001b[0m\n\u001b[0m\u001b[1;32m      2\u001b[0m   \u001b[0;32mdef\u001b[0m \u001b[0mtest_class2\u001b[0m\u001b[0;34m(\u001b[0m\u001b[0mself\u001b[0m\u001b[0;34m)\u001b[0m\u001b[0;34m:\u001b[0m\u001b[0;34m\u001b[0m\u001b[0;34m\u001b[0m\u001b[0m\n\u001b[1;32m      3\u001b[0m     \u001b[0;32mreturn\u001b[0m \u001b[0;34m'This is my class5'\u001b[0m\u001b[0;34m\u001b[0m\u001b[0;34m\u001b[0m\u001b[0m\n",
            "\u001b[0;31mTypeError\u001b[0m: Cannot create a consistent method resolution\norder (MRO) for bases class4, class5"
          ]
        }
      ]
    },
    {
      "cell_type": "code",
      "source": [],
      "metadata": {
        "id": "upZAUd-ZUjBe"
      },
      "execution_count": null,
      "outputs": []
    },
    {
      "cell_type": "code",
      "source": [],
      "metadata": {
        "id": "A2g_ImS4Ui-o"
      },
      "execution_count": null,
      "outputs": []
    },
    {
      "cell_type": "code",
      "source": [],
      "metadata": {
        "id": "jjy7feXbUi7r"
      },
      "execution_count": null,
      "outputs": []
    },
    {
      "cell_type": "markdown",
      "source": [
        "##**Abstraction** "
      ],
      "metadata": {
        "id": "EdC0aPQI4umf"
      }
    },
    {
      "cell_type": "markdown",
      "source": [
        "Abstraction is a concept in object-oriented programming (OOP) that allows you to focus on essential attributes and behaviors of an object while hiding the unnecessary details of its implementation. It is the process of creating abstract classes and methods that define the common interface for a group of related objects.\n",
        "\n",
        "In Python, abstraction is achieved through abstract classes and methods. An abstract class cannot be instantiated directly, and it typically serves as a blueprint for its subclasses. It defines common attributes and methods that all subclasses are expected to implement.\n",
        "\n",
        "To create an abstract class in Python, you can make use of the `abc` module, which stands for \"Abstract Base Classes.\" This module provides the `ABC` class and the `abstractmethod` decorator to define abstract classes and methods, respectively.\n",
        "\n",
        "Here's an example to illustrate abstraction in Python:\n",
        "\n",
        "```python\n",
        "from abc import ABC, abstractmethod\n",
        "\n",
        "class Shape(ABC):\n",
        "    @abstractmethod\n",
        "    def area(self):\n",
        "        pass\n",
        "\n",
        "    @abstractmethod\n",
        "    def perimeter(self):\n",
        "        pass\n",
        "\n",
        "class Circle(Shape):\n",
        "    def __init__(self, radius):\n",
        "        self.radius = radius\n",
        "\n",
        "    def area(self):\n",
        "        return 3.14 * self.radius * self.radius\n",
        "\n",
        "    def perimeter(self):\n",
        "        return 2 * 3.14 * self.radius\n",
        "\n",
        "class Rectangle(Shape):\n",
        "    def __init__(self, length, width):\n",
        "        self.length = length\n",
        "        self.width = width\n",
        "\n",
        "    def area(self):\n",
        "        return self.length * self.width\n",
        "\n",
        "    def perimeter(self):\n",
        "        return 2 * (self.length + self.width)\n",
        "\n",
        "# shape = Shape()  # Error: Can't instantiate abstract class Shape\n",
        "\n",
        "circle = Circle(5)\n",
        "print(circle.area())        # Output: 78.5\n",
        "print(circle.perimeter())   # Output: 31.400000000000002\n",
        "\n",
        "rectangle = Rectangle(4, 6)\n",
        "print(rectangle.area())     # Output: 24\n",
        "print(rectangle.perimeter())  # Output: 20\n",
        "```\n",
        "\n",
        "In this example, `Shape` is an abstract class that defines two abstract methods: `area` and `perimeter`. These methods are marked with the `abstractmethod` decorator but do not have an implementation in the abstract class itself.\n",
        "\n",
        "The `Circle` and `Rectangle` classes are subclasses of `Shape` and inherit the abstract methods. Each subclass provides its own implementation of the abstract methods.\n",
        "\n",
        "Note that attempting to create an instance of the `Shape` class directly (`shape = Shape()`) will raise an error because it is an abstract class.\n",
        "\n",
        "Abstraction allows you to define a common interface for related objects without worrying about the specific implementation details. It promotes code modularity, reusability, and helps manage complexity in larger projects by providing a clear separation between essential functionality and implementation specifics."
      ],
      "metadata": {
        "id": "WHiL-aMl5VZI"
      }
    },
    {
      "cell_type": "code",
      "source": [
        "import abc \n",
        "class pwskills:\n",
        "    \n",
        "    @abc.abstractmethod\n",
        "    def students_detials(self):\n",
        "        pass\n",
        "    \n",
        "    @abc.abstractmethod\n",
        "    def student_assignemnt(self):\n",
        "        pass\n",
        "    \n",
        "    @abc.abstractmethod\n",
        "    def student_marks(self):\n",
        "        pass"
      ],
      "metadata": {
        "id": "_sL8zVq7Ui4i"
      },
      "execution_count": 30,
      "outputs": []
    },
    {
      "cell_type": "code",
      "source": [
        "class student_detils(pwskills):\n",
        "    \n",
        "    def students_detials(self):\n",
        "        return \"this is a meth for taking students details\"\n",
        "    \n",
        "    def student_assignemnt(self):\n",
        "        return \"this is a meth for assing details for a perticualt student\""
      ],
      "metadata": {
        "id": "S9bmJyA5Ui1R"
      },
      "execution_count": 31,
      "outputs": []
    },
    {
      "cell_type": "code",
      "source": [
        "class data_science_maters(pwskills):\n",
        "    \n",
        "    def students_detials(self):\n",
        "        return \"this will return a student details for data science masters \"\n",
        "    \n",
        "    def student_assignemnt(self):\n",
        "        return \"this will give you a studnt assignment detaild for data science masters \""
      ],
      "metadata": {
        "id": "aH3KZuumUiyW"
      },
      "execution_count": 32,
      "outputs": []
    },
    {
      "cell_type": "code",
      "source": [
        "dsm = data_science_maters()\n",
        "dsm.students_detials()"
      ],
      "metadata": {
        "colab": {
          "base_uri": "https://localhost:8080/",
          "height": 35
        },
        "id": "b3YnWFUlUivU",
        "outputId": "c08753ae-0734-4f4d-89f6-cf76980ae218"
      },
      "execution_count": 33,
      "outputs": [
        {
          "output_type": "execute_result",
          "data": {
            "text/plain": [
              "'this will return a student details for data science masters '"
            ],
            "application/vnd.google.colaboratory.intrinsic+json": {
              "type": "string"
            }
          },
          "metadata": {},
          "execution_count": 33
        }
      ]
    },
    {
      "cell_type": "code",
      "source": [
        "sd= student_detils()\n",
        "sd.students_detials()"
      ],
      "metadata": {
        "colab": {
          "base_uri": "https://localhost:8080/",
          "height": 35
        },
        "id": "lpHToB1fUirZ",
        "outputId": "dc55df1c-b347-465e-f5c8-4691b1e43196"
      },
      "execution_count": 34,
      "outputs": [
        {
          "output_type": "execute_result",
          "data": {
            "text/plain": [
              "'this is a meth for taking students details'"
            ],
            "application/vnd.google.colaboratory.intrinsic+json": {
              "type": "string"
            }
          },
          "metadata": {},
          "execution_count": 34
        }
      ]
    },
    {
      "cell_type": "code",
      "source": [],
      "metadata": {
        "id": "b_IzKOIXUima"
      },
      "execution_count": null,
      "outputs": []
    },
    {
      "cell_type": "code",
      "source": [],
      "metadata": {
        "id": "ekNECuJsUijU"
      },
      "execution_count": null,
      "outputs": []
    },
    {
      "cell_type": "code",
      "source": [],
      "metadata": {
        "id": "JFU0FBpcUigS"
      },
      "execution_count": null,
      "outputs": []
    },
    {
      "cell_type": "code",
      "source": [],
      "metadata": {
        "id": "3kwuG6r0Uic-"
      },
      "execution_count": null,
      "outputs": []
    },
    {
      "cell_type": "code",
      "source": [],
      "metadata": {
        "id": "lHm9M0vaUiaN"
      },
      "execution_count": null,
      "outputs": []
    },
    {
      "cell_type": "code",
      "source": [],
      "metadata": {
        "id": "xiIpm3RbUiXW"
      },
      "execution_count": null,
      "outputs": []
    },
    {
      "cell_type": "code",
      "source": [],
      "metadata": {
        "id": "hN69RTC5UiT8"
      },
      "execution_count": null,
      "outputs": []
    },
    {
      "cell_type": "code",
      "source": [],
      "metadata": {
        "id": "YMQhAWI0UiQi"
      },
      "execution_count": null,
      "outputs": []
    },
    {
      "cell_type": "code",
      "source": [],
      "metadata": {
        "id": "oKsZmd1wUiNH"
      },
      "execution_count": null,
      "outputs": []
    }
  ]
}