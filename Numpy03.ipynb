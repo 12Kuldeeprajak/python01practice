{
 "cells": [
  {
   "cell_type": "markdown",
   "id": "0fe6e8f1-c120-4910-92f4-6632ae4e0df8",
   "metadata": {},
   "source": [
    "some imp function "
   ]
  },
  {
   "cell_type": "code",
   "execution_count": 21,
   "id": "b2d714c8-8aae-4563-a6dc-bb19523aefc4",
   "metadata": {},
   "outputs": [],
   "source": [
    "import numpy as np "
   ]
  },
  {
   "cell_type": "code",
   "execution_count": 22,
   "id": "490cfb2c-7abb-42d5-8a09-67bcf12a5fe0",
   "metadata": {},
   "outputs": [],
   "source": [
    "arr = np.array([4,10,6,45,8,0,0])"
   ]
  },
  {
   "cell_type": "code",
   "execution_count": 23,
   "id": "766b0c71-fed0-4018-bb94-56040963eca3",
   "metadata": {},
   "outputs": [
    {
     "data": {
      "text/plain": [
       "array([ 4, 10,  6, 45,  8,  0,  0])"
      ]
     },
     "execution_count": 23,
     "metadata": {},
     "output_type": "execute_result"
    }
   ],
   "source": [
    "arr"
   ]
  },
  {
   "cell_type": "code",
   "execution_count": 24,
   "id": "9da52929-3919-419b-ba7b-c815e539cce2",
   "metadata": {},
   "outputs": [
    {
     "data": {
      "text/plain": [
       "array([ 0,  0,  4,  6,  8, 10, 45])"
      ]
     },
     "execution_count": 24,
     "metadata": {},
     "output_type": "execute_result"
    }
   ],
   "source": [
    "np.sort(arr)\n"
   ]
  },
  {
   "cell_type": "code",
   "execution_count": 25,
   "id": "787668f7-630f-4b4d-8eac-0d896bb77d56",
   "metadata": {},
   "outputs": [
    {
     "data": {
      "text/plain": [
       "5"
      ]
     },
     "execution_count": 25,
     "metadata": {},
     "output_type": "execute_result"
    }
   ],
   "source": [
    "np.count_nonzero(arr)"
   ]
  },
  {
   "cell_type": "code",
   "execution_count": 26,
   "id": "24ec25cd-ee63-4ae4-9500-fbfbb1b2cb8a",
   "metadata": {},
   "outputs": [
    {
     "data": {
      "text/plain": [
       "(array([1, 3, 4]),)"
      ]
     },
     "execution_count": 26,
     "metadata": {},
     "output_type": "execute_result"
    }
   ],
   "source": [
    "np.where(arr > 6) #give indexes"
   ]
  },
  {
   "cell_type": "code",
   "execution_count": 27,
   "id": "c59a8dd0-31b4-4790-938b-f3493d9c1e9e",
   "metadata": {},
   "outputs": [],
   "source": [
    "#numpy opy and view"
   ]
  },
  {
   "cell_type": "code",
   "execution_count": 28,
   "id": "5d32dc46-d1d4-467f-a39c-413808ac892f",
   "metadata": {},
   "outputs": [
    {
     "data": {
      "text/plain": [
       "array([ 4, 10,  6, 45,  8,  0,  0])"
      ]
     },
     "execution_count": 28,
     "metadata": {},
     "output_type": "execute_result"
    }
   ],
   "source": [
    "arr"
   ]
  },
  {
   "cell_type": "code",
   "execution_count": 30,
   "id": "c2737ba1-762a-4c71-a4c8-df041f76c65b",
   "metadata": {},
   "outputs": [
    {
     "data": {
      "text/plain": [
       "array([ 4, 10,  6, 45,  8,  0,  0])"
      ]
     },
     "execution_count": 30,
     "metadata": {},
     "output_type": "execute_result"
    }
   ],
   "source": [
    "np.copy(arr)"
   ]
  },
  {
   "cell_type": "code",
   "execution_count": 32,
   "id": "124304d5-9422-4e76-b6fe-cac91fc66afd",
   "metadata": {},
   "outputs": [],
   "source": [
    "b = arr.view()"
   ]
  },
  {
   "cell_type": "code",
   "execution_count": 33,
   "id": "f45ebbaa-b836-4a46-83fd-048f2b373e3b",
   "metadata": {},
   "outputs": [
    {
     "data": {
      "text/plain": [
       "array([ 4, 10,  6, 45,  8,  0,  0])"
      ]
     },
     "execution_count": 33,
     "metadata": {},
     "output_type": "execute_result"
    }
   ],
   "source": [
    "b"
   ]
  },
  {
   "cell_type": "code",
   "execution_count": 34,
   "id": "74e20b63-ff2c-4e24-9667-6eb1c750a648",
   "metadata": {},
   "outputs": [
    {
     "data": {
      "text/plain": [
       "array([ 4, 10,  6, 45,  8,  0,  0])"
      ]
     },
     "execution_count": 34,
     "metadata": {},
     "output_type": "execute_result"
    }
   ],
   "source": [
    "arr"
   ]
  },
  {
   "cell_type": "markdown",
   "id": "4f2d756a-6daa-41c1-a513-294cebf88d3e",
   "metadata": {},
   "source": [
    "numpy liner algebra that will be used in ml "
   ]
  },
  {
   "cell_type": "code",
   "execution_count": 35,
   "id": "28866bbe-2f8f-4cac-b764-ae66991c7a6c",
   "metadata": {},
   "outputs": [],
   "source": [
    "arr1 = np.random.randint([[2,3],[4,5]])"
   ]
  },
  {
   "cell_type": "code",
   "execution_count": 36,
   "id": "87634111-fd4a-4fd3-8716-b26f5e8ff81b",
   "metadata": {},
   "outputs": [],
   "source": [
    "arr2 = np.random.randint([[2,3],[4,5]])"
   ]
  },
  {
   "cell_type": "code",
   "execution_count": 37,
   "id": "8acb9031-7b7b-4463-87e0-56311172bc10",
   "metadata": {},
   "outputs": [
    {
     "data": {
      "text/plain": [
       "array([[ 0,  0],\n",
       "       [12,  4]])"
      ]
     },
     "execution_count": 37,
     "metadata": {},
     "output_type": "execute_result"
    }
   ],
   "source": [
    "np.dot(arr1,arr2)"
   ]
  },
  {
   "cell_type": "code",
   "execution_count": 38,
   "id": "17e5bb96-aef1-4442-b918-5ca4d0443e60",
   "metadata": {},
   "outputs": [
    {
     "data": {
      "text/plain": [
       "array([[ 0,  0],\n",
       "       [12,  4]])"
      ]
     },
     "execution_count": 38,
     "metadata": {},
     "output_type": "execute_result"
    }
   ],
   "source": [
    "arr1@arr2"
   ]
  },
  {
   "cell_type": "code",
   "execution_count": null,
   "id": "6e6b8292-0ea6-4bc4-9ab6-55f682fbe07e",
   "metadata": {},
   "outputs": [],
   "source": []
  }
 ],
 "metadata": {
  "kernelspec": {
   "display_name": "Python 3 (ipykernel)",
   "language": "python",
   "name": "python3"
  },
  "language_info": {
   "codemirror_mode": {
    "name": "ipython",
    "version": 3
   },
   "file_extension": ".py",
   "mimetype": "text/x-python",
   "name": "python",
   "nbconvert_exporter": "python",
   "pygments_lexer": "ipython3",
   "version": "3.10.8"
  }
 },
 "nbformat": 4,
 "nbformat_minor": 5
}
